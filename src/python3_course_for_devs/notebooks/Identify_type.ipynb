{
 "cells": [
  {
   "cell_type": "code",
   "execution_count": null,
   "metadata": {},
   "outputs": [],
   "source": [
    "my_num = 5\n",
    "my_str = \"bar\"\n",
    "my_tuple = \"bar\", \"foo\"\n",
    "my_list = [5, 9]\n",
    "my_set = {6, \"foo\"}\n",
    "my_dict = {\"foo\": 5, \"bar\": 9}\n",
    "\n",
    "\n",
    "class ClassParent:\n",
    "    {}\n",
    "\n",
    "\n",
    "class ClassChild(ClassParent):\n",
    "    {}"
   ]
  },
  {
   "cell_type": "code",
   "execution_count": null,
   "metadata": {},
   "outputs": [],
   "source": [
    "# 使用 type 方法返回对象的类型\n",
    "type(ClassParent())"
   ]
  }
 ],
 "metadata": {
  "language_info": {
   "name": "python"
  },
  "orig_nbformat": 4
 },
 "nbformat": 4,
 "nbformat_minor": 2
}
