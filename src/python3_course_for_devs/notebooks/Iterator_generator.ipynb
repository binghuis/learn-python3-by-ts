{
 "cells": [
  {
   "cell_type": "markdown",
   "metadata": {},
   "source": [
    "# 迭代器 & 生成器\n"
   ]
  },
  {
   "cell_type": "markdown",
   "metadata": {},
   "source": [
    "## 迭代器 & 迭代器对象\n",
    "\n",
    "迭代器是一个实现了 `__iter__` 和 `__next__` 方法的对象。`__iter__` 方法返回迭代器对象自身，而 `__next__` 方法返回迭代器中的下一个元素，当迭代器中没有元素可供返回时，`__next__` 方法引发 `StopIteration` 异常\n",
    "\n",
    "迭代器对象既可以通过循环遍历来使用，也可以通过 `next` 方法逐个访问元素。在使用循环遍历迭代器对象时，循环会自动调用迭代器的 `__next__` 方法来获取下一个元素，直到迭代结束。\n",
    "\n",
    "可通过 `iter` 方法获取可迭代对象\n"
   ]
  },
  {
   "cell_type": "code",
   "execution_count": null,
   "metadata": {},
   "outputs": [],
   "source": [
    "# 这些可迭代类型都可以通过 iter 方法生成一个迭代器对象\n",
    "\n",
    "str.__iter__  # 字符串\n",
    "tuple.__iter__  # 元组\n",
    "list.__iter__  # 列表\n",
    "set.__iter__  # 集合\n",
    "dict.__iter__  # 字典\n",
    "bytearray.__iter__  # 字节数组\n",
    "bytes.__iter__  # 字节串"
   ]
  },
  {
   "cell_type": "code",
   "execution_count": 27,
   "metadata": {},
   "outputs": [
    {
     "name": "stdout",
     "output_type": "stream",
     "text": [
      "1\n",
      "2\n",
      "3\n",
      "4\n",
      "迭代器对象已遍历完\n"
     ]
    }
   ],
   "source": [
    "try:\n",
    "    list = [1, 2, 3, 4]\n",
    "\n",
    "    # 根据列表生成迭代器对象\n",
    "    it = iter(list)\n",
    "\n",
    "    # 通过 for 循环遍历迭代器对象元素\n",
    "    for item in it:\n",
    "        print(item)\n",
    "\n",
    "    # 通过 next 方法获取迭代器对象元素，由于 for 循环已经将迭代器对象迭代完，所以此时没有元素可迭代，会引发 StopIteration 异常\n",
    "    next(it)\n",
    "except StopIteration:\n",
    "    print(\"迭代器对象已遍历完\")"
   ]
  },
  {
   "cell_type": "markdown",
   "metadata": {},
   "source": [
    "## 自定义迭代器\n"
   ]
  },
  {
   "cell_type": "code",
   "execution_count": 33,
   "metadata": {},
   "outputs": [
    {
     "name": "stdout",
     "output_type": "stream",
     "text": [
      "1\n",
      "2\n",
      "3\n",
      "4\n",
      "迭代器对象已遍历完\n"
     ]
    }
   ],
   "source": [
    "class ListIterable:\n",
    "    def __init__(self, my_list):\n",
    "        self.my_list = my_list\n",
    "        self.index = 0\n",
    "\n",
    "    def __iter__(self):\n",
    "        return self\n",
    "\n",
    "    def __next__(self):\n",
    "        if self.index >= len(self.my_list):\n",
    "            raise StopIteration\n",
    "        else:\n",
    "            result = self.my_list[self.index]\n",
    "            self.index += 1\n",
    "            return result\n",
    "\n",
    "\n",
    "try:\n",
    "    list = [1, 2, 3, 4]\n",
    "\n",
    "    it = ListIterable(list)\n",
    "\n",
    "    for item in it:\n",
    "        print(item)\n",
    "\n",
    "    next(it)\n",
    "except StopIteration:\n",
    "    print(\"迭代器对象已遍历完\")"
   ]
  },
  {
   "cell_type": "markdown",
   "metadata": {},
   "source": [
    "## 生成器\n"
   ]
  },
  {
   "cell_type": "code",
   "execution_count": 40,
   "metadata": {},
   "outputs": [
    {
     "name": "stdout",
     "output_type": "stream",
     "text": [
      "0 1 1 2 3 5 8 13 21 34 55 end\n"
     ]
    }
   ],
   "source": [
    "def fibonacci(n):  # 生成器函数 - 斐波那契\n",
    "    a, b, counter = 0, 1, 0\n",
    "    while True:\n",
    "        if counter > n:\n",
    "            return\n",
    "        yield a\n",
    "        a, b = b, a + b\n",
    "        counter += 1\n",
    "\n",
    "\n",
    "f = fibonacci(10)  # f 是一个迭代器，由生成器返回生成\n",
    "\n",
    "while True:\n",
    "    try:\n",
    "        print(next(f), end=\" \")\n",
    "    except StopIteration:\n",
    "        print(\"end\")\n",
    "        break"
   ]
  }
 ],
 "metadata": {
  "kernelspec": {
   "display_name": ".venv",
   "language": "python",
   "name": "python3"
  },
  "language_info": {
   "codemirror_mode": {
    "name": "ipython",
    "version": 3
   },
   "file_extension": ".py",
   "mimetype": "text/x-python",
   "name": "python",
   "nbconvert_exporter": "python",
   "pygments_lexer": "ipython3",
   "version": "3.10.6"
  },
  "orig_nbformat": 4
 },
 "nbformat": 4,
 "nbformat_minor": 2
}
