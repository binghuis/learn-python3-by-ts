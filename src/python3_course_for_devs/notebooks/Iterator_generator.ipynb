{
 "cells": [
  {
   "cell_type": "markdown",
   "metadata": {},
   "source": [
    "# 迭代器 & 可迭代对象 & 生成器\n"
   ]
  },
  {
   "cell_type": "markdown",
   "metadata": {},
   "source": [
    "## 迭代器\n",
    "\n",
    "迭代器是实现了 `__iter__` 与 `__next__` [魔术方法](./magic_method.ipynb) 的类对象。`__iter__` 方法返回迭代器对象本身，而 `__next__` 方法返回迭代器的下一个元素。如果没有更多的元素可供迭代，`__next__` 方法则引发 `StopIteration` 异常，指示迭代结束。\n",
    "\n",
    "> 迭代器既可以使用循环遍历，也可以使用 `next` 方法逐个访问元素。\n"
   ]
  },
  {
   "cell_type": "markdown",
   "metadata": {},
   "source": [
    "**自定义迭代器**\n",
    "\n",
    "当使用循环遍历迭代器时，循环会自动调用 `__next__` 方法来获取下一个元素，直到迭代结束。\n"
   ]
  },
  {
   "cell_type": "code",
   "execution_count": 137,
   "metadata": {},
   "outputs": [
    {
     "name": "stdout",
     "output_type": "stream",
     "text": [
      "1\n",
      "2\n",
      "3\n",
      "4\n",
      "迭代器遍历完成\n"
     ]
    }
   ],
   "source": [
    "class MyIterator:\n",
    "    def __init__(self, my_list):\n",
    "        self.my_list = my_list\n",
    "        self.index = 0\n",
    "\n",
    "    def __iter__(self):\n",
    "        return self\n",
    "\n",
    "    def __next__(self):\n",
    "        if self.index >= len(self.my_list):\n",
    "            raise StopIteration\n",
    "        else:\n",
    "            result = self.my_list[self.index]\n",
    "            self.index += 1\n",
    "            return result\n",
    "\n",
    "\n",
    "try:\n",
    "    it = MyIterator([1, 2, 3, 4])\n",
    "\n",
    "    for item in it:\n",
    "        print(item)\n",
    "\n",
    "    next(it)\n",
    "except StopIteration:\n",
    "    print(\"迭代器遍历完成\")"
   ]
  },
  {
   "cell_type": "markdown",
   "metadata": {},
   "source": [
    "## 可迭代对象\n",
    "\n",
    "可迭代对象是指内部实现了迭代器协议的对象。\n",
    "\n",
    "> 迭代器协议要求对象提供 `__iter__` 方法，该方法返回一个迭代器。\n",
    "\n",
    "> 内置方法 `iter` 通过调用 `__iter__` 返回可迭代对象的迭代器。\n"
   ]
  },
  {
   "cell_type": "code",
   "execution_count": 138,
   "metadata": {},
   "outputs": [
    {
     "name": "stdout",
     "output_type": "stream",
     "text": [
      "1\n",
      "2\n",
      "3\n",
      "4\n",
      "5\n",
      "迭代器遍历完成\n"
     ]
    }
   ],
   "source": [
    "class MyIterable:\n",
    "    def __init__(self, data):\n",
    "        self.data = data\n",
    "\n",
    "    def __iter__(self):\n",
    "        return MyIterator(self.data)\n",
    "\n",
    "\n",
    "try:\n",
    "    my_iterable = MyIterable([1, 2, 3, 4, 5])\n",
    "    it = iter(my_iterable)\n",
    "\n",
    "    print(next(it))\n",
    "\n",
    "    for item in it:\n",
    "        print(item)\n",
    "\n",
    "    next(it)\n",
    "except StopIteration:\n",
    "    print(\"迭代器遍历完成\")"
   ]
  },
  {
   "cell_type": "markdown",
   "metadata": {},
   "source": [
    "**一些可迭代对象**\n"
   ]
  },
  {
   "cell_type": "code",
   "execution_count": 139,
   "metadata": {},
   "outputs": [
    {
     "data": {
      "text/plain": [
       "<slot wrapper '__iter__' of 'bytes' objects>"
      ]
     },
     "execution_count": 139,
     "metadata": {},
     "output_type": "execute_result"
    }
   ],
   "source": [
    "str.__iter__  # 字符串\n",
    "list.__iter__  # 列表\n",
    "tuple.__iter__  # 元组\n",
    "\n",
    "set.__iter__  # 集合\n",
    "frozenset.__iter__  # 冻结集合\n",
    "\n",
    "dict.__iter__  # 字典"
   ]
  },
  {
   "cell_type": "markdown",
   "metadata": {},
   "source": [
    "## 生成器\n",
    "\n",
    "生成器是一种特殊的迭代器，它使用函数的形式来定义，通过 `yield` 语句产生值。生成器函数可以暂停执行并在需要时恢复执行，从而实现按需生成值。\n",
    "\n",
    "相比迭代器，生成器更简洁。\n"
   ]
  },
  {
   "cell_type": "code",
   "execution_count": 140,
   "metadata": {},
   "outputs": [
    {
     "name": "stdout",
     "output_type": "stream",
     "text": [
      "1\n",
      "2\n",
      "3\n",
      "4\n",
      "生成器遍历完成\n"
     ]
    }
   ],
   "source": [
    "try:\n",
    "    list = [1, 2, 3, 4]\n",
    "\n",
    "    def my_generator(val: list):\n",
    "        for item in val:\n",
    "            yield item\n",
    "\n",
    "    gen = my_generator(list)\n",
    "\n",
    "    for item in gen:\n",
    "        print(item)\n",
    "\n",
    "    next(gen)\n",
    "except StopIteration:\n",
    "    print(\"生成器遍历完成\")"
   ]
  }
 ],
 "metadata": {
  "kernelspec": {
   "display_name": ".venv",
   "language": "python",
   "name": "python3"
  },
  "language_info": {
   "codemirror_mode": {
    "name": "ipython",
    "version": 3
   },
   "file_extension": ".py",
   "mimetype": "text/x-python",
   "name": "python",
   "nbconvert_exporter": "python",
   "pygments_lexer": "ipython3",
   "version": "3.10.6"
  },
  "orig_nbformat": 4
 },
 "nbformat": 4,
 "nbformat_minor": 2
}
