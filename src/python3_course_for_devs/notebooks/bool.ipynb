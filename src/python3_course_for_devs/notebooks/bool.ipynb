{
 "cells": [
  {
   "cell_type": "markdown",
   "metadata": {},
   "source": [
    "# 真假值\n",
    "\n",
    "- 真值（`Truth`）：布尔真（`True`）或条件真（条件表达式计算结果为真）\n",
    "- 假值（`Falsity`）：布尔假（`False`）或条件假（条件表达式计算结果为假）\n"
   ]
  },
  {
   "cell_type": "markdown",
   "metadata": {},
   "source": [
    "**真**\n",
    "\n",
    "- `True`\n",
    "- 非零数字\n",
    "- 非空字符串\n",
    "- 非空[容器](./types.ipynb)：列表、元组、字典、集合\n"
   ]
  },
  {
   "cell_type": "markdown",
   "metadata": {},
   "source": [
    "**假**\n",
    "\n",
    "- `False`\n",
    "- 数字零：整数 `0`、浮点数 `0.0`、复数 `0j`\n",
    "- 空字符串 `''`\n",
    "- 空[容器](./types.ipynb)：空列表 `[]`、空元组 `()`、空字典 `{}`、空集合 `set()`\n",
    "- `None`\n"
   ]
  },
  {
   "cell_type": "code",
   "execution_count": 29,
   "metadata": {},
   "outputs": [
    {
     "data": {
      "text/plain": [
       "[False, False, False, False, False, False, False, False, False, False]"
      ]
     },
     "execution_count": 29,
     "metadata": {},
     "output_type": "execute_result"
    }
   ],
   "source": [
    "falsities = [False, 0, 0.0, 0j, [], (), \"\", set(), {}, None]\n",
    "\n",
    "[bool(item) for item in falsities]"
   ]
  },
  {
   "cell_type": "markdown",
   "metadata": {},
   "source": [
    "**自定义真假值对象类**\n",
    "\n",
    "判断对象真假时，首先会尝试调用对象魔术方法 `__bool__`，并使用其返回值作为对象真假值，如果 `__bool__` 未定义则执行 `__len__`，使用对象长度判断真假，长度不空为真，空为假。\n",
    "如果 `__bool__` 和 `__len__` 都未定义，对象默认为真。\n"
   ]
  },
  {
   "cell_type": "code",
   "execution_count": 38,
   "metadata": {},
   "outputs": [
    {
     "data": {
      "text/plain": [
       "False"
      ]
     },
     "execution_count": 38,
     "metadata": {},
     "output_type": "execute_result"
    }
   ],
   "source": [
    "class MyClass:\n",
    "    def __init__(self, data):\n",
    "        self.data = data\n",
    "\n",
    "    def __bool__(self):\n",
    "        return bool(self.data)\n",
    "\n",
    "    def __len__(self):\n",
    "        return len(self.data)\n",
    "\n",
    "\n",
    "bool(MyClass([]))"
   ]
  },
  {
   "cell_type": "code",
   "execution_count": null,
   "metadata": {},
   "outputs": [
    {
     "data": {
      "text/plain": [
       "<slot wrapper '__bool__' of 'complex' objects>"
      ]
     },
     "execution_count": 27,
     "metadata": {},
     "output_type": "execute_result"
    }
   ],
   "source": [
    "# 数字类型定义了 __bool__\n",
    "int.__bool__\n",
    "bool.__bool__\n",
    "float.__bool__\n",
    "complex.__bool__"
   ]
  },
  {
   "cell_type": "code",
   "execution_count": null,
   "metadata": {},
   "outputs": [
    {
     "data": {
      "text/plain": [
       "<slot wrapper '__len__' of 'set' objects>"
      ]
     },
     "execution_count": 28,
     "metadata": {},
     "output_type": "execute_result"
    }
   ],
   "source": [
    "# 字符串和容器类型定义了 __len__\n",
    "str.__len__\n",
    "list.__len__\n",
    "tuple.__len__\n",
    "dict.__len__\n",
    "set.__len__"
   ]
  }
 ],
 "metadata": {
  "kernelspec": {
   "display_name": ".venv",
   "language": "python",
   "name": "python3"
  },
  "language_info": {
   "codemirror_mode": {
    "name": "ipython",
    "version": 3
   },
   "file_extension": ".py",
   "mimetype": "text/x-python",
   "name": "python",
   "nbconvert_exporter": "python",
   "pygments_lexer": "ipython3",
   "version": "3.10.6"
  },
  "orig_nbformat": 4
 },
 "nbformat": 4,
 "nbformat_minor": 2
}
