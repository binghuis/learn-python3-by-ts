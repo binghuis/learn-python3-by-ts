{
 "cells": [
  {
   "cell_type": "markdown",
   "metadata": {},
   "source": [
    "# truth & falsity\n",
    "\n",
    "真假值：真值表示一个条件或表达式在逻辑上为真的值，而假值表示一个条件或表达式在逻辑上为假的值。\n",
    "\n",
    "tip：python 中布尔类型实际上是整型 int 的子类型，这意味着布尔类型是由整型类型派生而来的，具有整型类型的所有特性和行为。\n"
   ]
  },
  {
   "cell_type": "code",
   "execution_count": 84,
   "metadata": {},
   "outputs": [
    {
     "data": {
      "text/plain": [
       "True"
      ]
     },
     "execution_count": 84,
     "metadata": {},
     "output_type": "execute_result"
    }
   ],
   "source": [
    "True == 1"
   ]
  },
  {
   "cell_type": "markdown",
   "metadata": {},
   "source": [
    "## 真值（Truth）\n",
    "\n",
    "- 布尔真：`True`\n",
    "- 非零数字\n",
    "- 非空容器类型（列表、元组、字典、集合等）: 如果容器中元素不为空，则为真\n"
   ]
  },
  {
   "cell_type": "markdown",
   "metadata": {},
   "source": [
    "## 假值（Falsity）\n",
    "\n",
    "- 布尔假：`False`\n",
    "- 数字类型零值：整数 `0`、浮点数 `0.0`、复数 `0j`\n",
    "- 空序列：空列表 `[]`、空元组 `()`、空字符串 `''`\n",
    "- 空字典：`{}`\n",
    "- 空集合：`set()`\n",
    "- `None`\n"
   ]
  },
  {
   "cell_type": "markdown",
   "metadata": {},
   "source": [
    "## 自定义真假值对象\n",
    "\n",
    "在判断一个对象真假值的时候，对象会被依次调用两个内置方法 `__bool__` 和 `__len__`\n",
    "\n",
    "如果 `__bool__` 存在，则使用 `__bool__` 的返回值作为这个对象的真假值，\n",
    "\n",
    "否则则通过 `__len__` 返回的长度值来判断对象的真假值（由于数字类型实现了 `__bool__`，所以长度值会被转为布尔型），长度不为空则为真，空则为假\n"
   ]
  },
  {
   "cell_type": "code",
   "execution_count": 85,
   "metadata": {},
   "outputs": [
    {
     "data": {
      "text/plain": [
       "<slot wrapper '__len__' of 'set' objects>"
      ]
     },
     "execution_count": 85,
     "metadata": {},
     "output_type": "execute_result"
    }
   ],
   "source": [
    "# 内置了 __bool__ 方法的类型\n",
    "int.__bool__\n",
    "bool.__bool__\n",
    "float.__bool__\n",
    "complex.__bool__\n",
    "\n",
    "# 内置了 __len__ 方法的类型\n",
    "list.__len__\n",
    "tuple.__len__\n",
    "str.__len__\n",
    "dict.__len__\n",
    "set.__len__"
   ]
  },
  {
   "cell_type": "code",
   "execution_count": 86,
   "metadata": {},
   "outputs": [
    {
     "data": {
      "text/plain": [
       "[False, False, False, False, False, False, False, False, False, False, False]"
      ]
     },
     "execution_count": 86,
     "metadata": {},
     "output_type": "execute_result"
    }
   ],
   "source": [
    "class MyObj:\n",
    "    def __init__(self, data):\n",
    "        self.data = data\n",
    "\n",
    "    def __bool__(self):\n",
    "        return bool(self.data)\n",
    "\n",
    "    def __len__(self):\n",
    "        return len(self.data)\n",
    "\n",
    "\n",
    "falsities = [False, 0, 0.0, 0j, [], (), \"\", set(), {}, None, MyObj(False)]\n",
    "\n",
    "[bool(item) for item in falsities]"
   ]
  }
 ],
 "metadata": {
  "kernelspec": {
   "display_name": ".venv",
   "language": "python",
   "name": "python3"
  },
  "language_info": {
   "codemirror_mode": {
    "name": "ipython",
    "version": 3
   },
   "file_extension": ".py",
   "mimetype": "text/x-python",
   "name": "python",
   "nbconvert_exporter": "python",
   "pygments_lexer": "ipython3",
   "version": "3.10.6"
  },
  "orig_nbformat": 4
 },
 "nbformat": 4,
 "nbformat_minor": 2
}
