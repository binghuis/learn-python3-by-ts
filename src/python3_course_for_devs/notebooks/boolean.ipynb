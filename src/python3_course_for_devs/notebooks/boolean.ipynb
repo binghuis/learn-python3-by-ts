{
 "cells": [
  {
   "cell_type": "code",
   "execution_count": null,
   "metadata": {},
   "outputs": [],
   "source": [
    "# 在 Python 中，布尔（bool）类型是整型（int）类型的子类型。这意味着布尔类型实际上是由整型类型派生而来的，具有整型类型的所有特性和行为。"
   ]
  }
 ],
 "metadata": {
  "language_info": {
   "name": "python"
  },
  "orig_nbformat": 4
 },
 "nbformat": 4,
 "nbformat_minor": 2
}
