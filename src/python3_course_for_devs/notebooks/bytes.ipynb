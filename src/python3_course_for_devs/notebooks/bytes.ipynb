{
 "cells": [
  {
   "cell_type": "code",
   "execution_count": null,
   "metadata": {},
   "outputs": [],
   "source": [
    "# 整数字面值字节串\n",
    "int(b\"42\")\n",
    "int(b\"101010\", base=2)  # 将二进制字节串 101010 转为整数\n",
    "# int(bytes([72, 101, 108, 108, 111])) 错，必须是字面值，不支持转换构造函数创建的字节串\n",
    "# int(b\"42\", base=2) 不行，42 不是二进制字节串\n",
    "\n",
    "\n",
    "# 整数字面值字节数组，规则同上\n",
    "int(bytearray(b\"42\"))\n",
    "int(bytearray(b\"101010\"), 2)"
   ]
  },
  {
   "cell_type": "code",
   "execution_count": null,
   "metadata": {},
   "outputs": [],
   "source": [
    "decimal_number = 42\n",
    "binary_number = bin(decimal_number)  # 十进制转换为二进制\n",
    "print(\"转换为二进制:\", binary_number)  # 转换为二进制: 0b101010\n",
    "\n",
    "octal_number = oct(decimal_number)  # 十进制转换为八进制\n",
    "print(\"转换为八进制:\", octal_number)  # 转换为八进制: 0o52\n",
    "\n",
    "hexadecimal_number = hex(decimal_number)  # 十进制转换为十六进制\n",
    "print(\"转换为十六进制:\", hexadecimal_number)  # 转换为十六进制: 0x2a"
   ]
  }
 ],
 "metadata": {
  "language_info": {
   "name": "python"
  }
 },
 "nbformat": 4,
 "nbformat_minor": 2
}
