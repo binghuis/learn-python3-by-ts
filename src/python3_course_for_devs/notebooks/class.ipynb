{
 "cells": [
  {
   "cell_type": "markdown",
   "metadata": {},
   "source": [
    "# 类\n"
   ]
  },
  {
   "cell_type": "markdown",
   "metadata": {},
   "source": [
    "## 定义\n",
    "\n",
    "`self` 表示类的实例对象，在实例方法中用于访问和操作实例的属性和方法。\n",
    "\n",
    "`cls` 表示类对象，在类方法中用于操作类属性和调用类方法。\n",
    "\n",
    "`__str__` 这种以双下划线开头和结尾的函数叫做[魔术方法]('./magic_method.ipynb')\n"
   ]
  },
  {
   "cell_type": "code",
   "execution_count": 137,
   "metadata": {},
   "outputs": [],
   "source": [
    "class MyClass:\n",
    "    public_attribute: str = \"类公共属性\"\n",
    "    __private_attribute = \"类私有属性\"\n",
    "\n",
    "    # 实例初始化\n",
    "    def __init__(self, instance_attribute):\n",
    "        # 给实例对象添加一个属性 instance_attribute\n",
    "        self.instance_attribute = instance_attribute\n",
    "\n",
    "    # 公共方法\n",
    "    # 可以在类的内部、子类和类的外部直接访问和调用\n",
    "    def public_method(self):\n",
    "        print(\"公共方法\")\n",
    "\n",
    "    # 受保护方法\n",
    "    # 可以在类的内部、子类和类的外部进行访问。虽然约定上视为受保护，但并没有强制限制访问\n",
    "    def _protected_method(self):\n",
    "        print(\"受保护方法\")\n",
    "        # 在类内部调用私有方法\n",
    "        self.__private_method()\n",
    "\n",
    "    # 私有方法\n",
    "    # 仅在类的内部可访问，无法通过类的外部直接访问\n",
    "    def __private_method(self):\n",
    "        print(\"私有方法\", self.__private_attribute)\n",
    "\n",
    "    # 类方法\n",
    "    @classmethod\n",
    "    def class_method(cls):\n",
    "        print(\"类方法可以操作\", cls.public_attribute)\n",
    "\n",
    "    # 静态方法\n",
    "    # 无法直接访问类属性，因为静态方法并不接收类对象参数\n",
    "    @staticmethod\n",
    "    def static_method():\n",
    "        print(\"静态方法\")\n",
    "\n",
    "    # __str__\n",
    "    # 定义对象的字符串表示形式\n",
    "    # 当使用方法 str、print 或使用 f-string 格式化时，对象的 __str__ 方法会被自动调用\n",
    "    # 如果没有定义 __str__，会尝试调用 __repr__\n",
    "    def __str__(self):\n",
    "        return f\"MyClass(instance_attribute='{self.instance_attribute}')\"\n",
    "\n",
    "    # __repr__\n",
    "    # 当使用方法 repr 或在交互式环境中直接输入对象名并执行时，对象的 __repr__ 方法会被自动调用\n",
    "    # 如果没有定义 __repr__，会尝试调用 __str__\n",
    "    def __repr__(self):\n",
    "        return f\"MyClass('{self.instance_attribute}')\"\n",
    "\n",
    "    # __add__\n",
    "    # 定义对象的加法操作\n",
    "    # 当两个 MyClass 对象相加时，把两对象属性拼接后重新生成新对象\n",
    "    def __add__(self, other):\n",
    "        if isinstance(other, MyClass):\n",
    "            return MyClass(f\"{self.instance_attribute}{other.instance_attribute}\")\n",
    "        else:\n",
    "            raise TypeError(\"Unsupported operand type.\")"
   ]
  },
  {
   "cell_type": "code",
   "execution_count": 138,
   "metadata": {},
   "outputs": [
    {
     "name": "stdout",
     "output_type": "stream",
     "text": [
      "MyClass(instance_attribute='实例属性 1')\n",
      "类公共属性\n"
     ]
    },
    {
     "data": {
      "text/plain": [
       "MyClass('实例属性 1')"
      ]
     },
     "execution_count": 138,
     "metadata": {},
     "output_type": "execute_result"
    }
   ],
   "source": [
    "obj1 = MyClass(\"实例属性 1\")\n",
    "obj2 = MyClass(\"实例属性 2\")\n",
    "\n",
    "print(obj1)  # 字符串表示\n",
    "print(obj1.public_attribute)  # 访问类属性\n",
    "\n",
    "eval(repr(obj1))"
   ]
  },
  {
   "cell_type": "code",
   "execution_count": 139,
   "metadata": {},
   "outputs": [
    {
     "name": "stdout",
     "output_type": "stream",
     "text": [
      "MyClass(instance_attribute='实例属性 1实例属性 2')\n"
     ]
    }
   ],
   "source": [
    "# 自定义加法\n",
    "obj3 = obj1 + obj2\n",
    "print(obj3)"
   ]
  },
  {
   "cell_type": "code",
   "execution_count": 140,
   "metadata": {},
   "outputs": [
    {
     "name": "stdout",
     "output_type": "stream",
     "text": [
      "公共方法\n",
      "受保护方法\n",
      "私有方法 类私有属性\n"
     ]
    }
   ],
   "source": [
    "# 对象方法访问\n",
    "obj1.public_method()\n",
    "obj1._protected_method()"
   ]
  },
  {
   "cell_type": "code",
   "execution_count": 141,
   "metadata": {},
   "outputs": [
    {
     "name": "stdout",
     "output_type": "stream",
     "text": [
      "类方法可以操作 类公共属性\n",
      "静态方法\n"
     ]
    }
   ],
   "source": [
    "obj1.class_method()\n",
    "obj1.static_method()"
   ]
  },
  {
   "cell_type": "markdown",
   "metadata": {},
   "source": [
    "## 继承\n"
   ]
  },
  {
   "cell_type": "code",
   "execution_count": 142,
   "metadata": {},
   "outputs": [],
   "source": [
    "class MyClassChild(MyClass):\n",
    "    public_attribute: str = \"公共子类属性\"\n",
    "\n",
    "    def __init__(self, instance_attribute):\n",
    "        # super 调用父类(超类)\n",
    "        super().__init__(instance_attribute)\n",
    "\n",
    "    # 公共方法重写\n",
    "    def public_method(self):\n",
    "        print(\"公共方法重写\")"
   ]
  },
  {
   "cell_type": "code",
   "execution_count": 143,
   "metadata": {},
   "outputs": [
    {
     "name": "stdout",
     "output_type": "stream",
     "text": [
      "公共子类属性\n",
      "子实例属性\n",
      "类方法可以操作 公共子类属性\n",
      "公共方法重写\n"
     ]
    }
   ],
   "source": [
    "obj_clild = MyClassChild(\"子实例属性\")\n",
    "\n",
    "print(obj_clild.public_attribute)\n",
    "print(obj_clild.instance_attribute)\n",
    "\n",
    "obj_clild.class_method()\n",
    "obj_clild.public_method()"
   ]
  },
  {
   "cell_type": "markdown",
   "metadata": {},
   "source": [
    "## 多继承\n"
   ]
  },
  {
   "cell_type": "code",
   "execution_count": 144,
   "metadata": {},
   "outputs": [],
   "source": [
    "class MyClass2:\n",
    "    def __init__(self, instance_attribute) -> None:\n",
    "        self.instance_attribute = instance_attribute\n",
    "\n",
    "    def public_method(self):\n",
    "        print(\"公共方法 MyClass2\")"
   ]
  },
  {
   "cell_type": "code",
   "execution_count": 145,
   "metadata": {},
   "outputs": [
    {
     "name": "stdout",
     "output_type": "stream",
     "text": [
      "[<class '__main__.MyClassChild2'>, <class '__main__.MyClass'>, <class '__main__.MyClass2'>, <class 'object'>]\n",
      "公共方法\n"
     ]
    }
   ],
   "source": [
    "class MyClassChild2(MyClass, MyClass2):\n",
    "    def __init__(self):\n",
    "        super().__init__(instance_attribute=\"父类1\")\n",
    "        MyClass2.__init__(self, instance_attribute=\"父类2\")\n",
    "\n",
    "\n",
    "# 子类的继承顺序\n",
    "print(MyClassChild2.mro())\n",
    "\n",
    "obj_child2 = MyClassChild2()\n",
    "obj_child2.public_method()"
   ]
  }
 ],
 "metadata": {
  "kernelspec": {
   "display_name": ".venv",
   "language": "python",
   "name": "python3"
  },
  "language_info": {
   "codemirror_mode": {
    "name": "ipython",
    "version": 3
   },
   "file_extension": ".py",
   "mimetype": "text/x-python",
   "name": "python",
   "nbconvert_exporter": "python",
   "pygments_lexer": "ipython3",
   "version": "3.10.6"
  },
  "orig_nbformat": 4
 },
 "nbformat": 4,
 "nbformat_minor": 2
}
