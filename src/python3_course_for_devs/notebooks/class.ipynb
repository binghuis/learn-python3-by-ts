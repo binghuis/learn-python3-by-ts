{
 "cells": [
  {
   "cell_type": "markdown",
   "metadata": {},
   "source": [
    "# 类\n"
   ]
  },
  {
   "cell_type": "code",
   "execution_count": 132,
   "metadata": {},
   "outputs": [],
   "source": [
    "class MyClass:\n",
    "    # 类属性\n",
    "    class_attribute: str = \"类属性\"\n",
    "\n",
    "    # 对象初始化操作\n",
    "    def __init__(self, instance_attribute):\n",
    "        self.instance_attribute = instance_attribute\n",
    "\n",
    "    # __str__\n",
    "    # 定义对象的字符串表示形式\n",
    "    # 当使用方法 str、print 或使用 f-string 格式化时，对象的 __str__ 方法会被自动调用\n",
    "    # 如果没有定义 __str__，会尝试调用 __repr__\n",
    "    def __str__(self):\n",
    "        return f\"字符串表示: {self.instance_attribute}\"\n",
    "\n",
    "    # __repr__\n",
    "    # 当使用方法 repr 或在交互式环境中直接输入对象名并执行时，对象的 __repr__ 方法会被自动调用\n",
    "    def __repr__(self):\n",
    "        return f\"official 字符串表示({self.instance_attribute})\"\n",
    "\n",
    "    # __add__\n",
    "    # 重定义加法操作\n",
    "    # 当两个 MyClass 对象相加时，把两对象属性拼接后重新生成新对象\n",
    "    def __add__(self, other):\n",
    "        if isinstance(other, MyClass):\n",
    "            return MyClass(self.instance_attribute + other.instance_attribute)\n",
    "        else:\n",
    "            raise TypeError(\"Unsupported operand type.\")\n",
    "\n",
    "    # 类方法\n",
    "    # 必须接收一个额外的参数，表示类本身\n",
    "    # 当子类继承父类时，类方法会继承并操作子类的类属性\n",
    "    @classmethod\n",
    "    def class_method(self):\n",
    "        print(\"类方法可以操作\", self.class_attribute)\n",
    "\n",
    "    # 静态方法\n",
    "    # 无法直接访问类属性，因为静态方法并不接收类本身参数。\n",
    "    # 静态方法在子类中行为与父类相同，不会动态绑定到子类。\n",
    "    @staticmethod\n",
    "    def static_method():\n",
    "        print(\"静态方法\")\n",
    "\n",
    "    # 公共方法\n",
    "    # 公共方法可以在类的内部、子类和类的外部直接访问和调用\n",
    "    def public_method(self):\n",
    "        print(\"公共方法\")\n",
    "\n",
    "    # 受保护方法\n",
    "    # 以单个下划线 _ 开头命名\n",
    "    # 受保护方法可以在类的内部、子类和类的外部进行访问。虽然约定上视为受保护，但并没有强制限制访问\n",
    "    def _protected_method(self):\n",
    "        print(\"受保护方法\")\n",
    "        # 在类内部调用私有方法\n",
    "        self.__private_method()\n",
    "\n",
    "    # 私有方法\n",
    "    # 以双下划线 __ 开头命名\n",
    "    # 私有方法仅在类的内部可访问，无法通过类的外部直接访问\n",
    "    def __private_method(self):\n",
    "        print(\"私有方法\")"
   ]
  },
  {
   "cell_type": "code",
   "execution_count": 133,
   "metadata": {},
   "outputs": [
    {
     "name": "stdout",
     "output_type": "stream",
     "text": [
      "字符串表示: 属性1\n",
      "类属性\n"
     ]
    },
    {
     "data": {
      "text/plain": [
       "official 字符串表示(属性1)"
      ]
     },
     "execution_count": 133,
     "metadata": {},
     "output_type": "execute_result"
    }
   ],
   "source": [
    "obj1 = MyClass(\"属性1\")\n",
    "obj2 = MyClass(\"属性2\")\n",
    "\n",
    "print(obj1)\n",
    "print(obj1.class_attribute)\n",
    "obj1"
   ]
  },
  {
   "cell_type": "code",
   "execution_count": 134,
   "metadata": {},
   "outputs": [
    {
     "name": "stdout",
     "output_type": "stream",
     "text": [
      "字符串表示: 属性1属性2\n"
     ]
    }
   ],
   "source": [
    "obj3 = obj1 + obj2\n",
    "print(obj3)"
   ]
  },
  {
   "cell_type": "code",
   "execution_count": 135,
   "metadata": {},
   "outputs": [
    {
     "name": "stdout",
     "output_type": "stream",
     "text": [
      "公共方法\n",
      "受保护方法\n",
      "私有方法\n"
     ]
    }
   ],
   "source": [
    "obj1.public_method()\n",
    "obj1._protected_method()"
   ]
  },
  {
   "cell_type": "code",
   "execution_count": 136,
   "metadata": {},
   "outputs": [
    {
     "name": "stdout",
     "output_type": "stream",
     "text": [
      "类方法可以操作 类属性\n",
      "静态方法\n"
     ]
    }
   ],
   "source": [
    "obj1.class_method()\n",
    "obj1.static_method()"
   ]
  }
 ],
 "metadata": {
  "kernelspec": {
   "display_name": ".venv",
   "language": "python",
   "name": "python3"
  },
  "language_info": {
   "codemirror_mode": {
    "name": "ipython",
    "version": 3
   },
   "file_extension": ".py",
   "mimetype": "text/x-python",
   "name": "python",
   "nbconvert_exporter": "python",
   "pygments_lexer": "ipython3",
   "version": "3.10.6"
  },
  "orig_nbformat": 4
 },
 "nbformat": 4,
 "nbformat_minor": 2
}
