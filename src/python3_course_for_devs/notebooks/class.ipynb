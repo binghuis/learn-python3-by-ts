{
 "cells": [
  {
   "cell_type": "markdown",
   "metadata": {},
   "source": [
    "# 类\n"
   ]
  },
  {
   "cell_type": "markdown",
   "metadata": {},
   "source": [
    "## 定义一个类\n",
    "\n",
    "> 在实例方法中 `self` 表示类的实例对象，用于访问和操作实例的属性和方法。\n",
    "\n",
    "> 在类方法中 `cls` 表示类对象，用于操作类属性和调用类方法。\n",
    "\n",
    "> `__init__` 这种以双下划线开头和结尾的函数叫做 [魔术方法](./magic_method.ipynb)。\n"
   ]
  },
  {
   "cell_type": "code",
   "execution_count": 27,
   "metadata": {},
   "outputs": [],
   "source": [
    "class ClassA:\n",
    "    public_attribute: str = \"类公共属性\"\n",
    "    __private_attribute = \"类私有属性\"\n",
    "\n",
    "    # 实例初始化构造方法\n",
    "    def __init__(self, instance_attribute):\n",
    "        # 给实例对象添加属性 instance_attribute\n",
    "        self.instance_attribute = instance_attribute\n",
    "\n",
    "    # 公共方法\n",
    "    def public_method(self):\n",
    "        print(\"公共方法\")\n",
    "\n",
    "    # 受保护方法\n",
    "    def _protected_method(self):\n",
    "        print(\"受保护方法虽然约定上视为受保护，但并没有强制限制访问\")\n",
    "        # 在类内部调用私有方法\n",
    "        self.__private_method()\n",
    "\n",
    "    # 私有方法\n",
    "    def __private_method(self):\n",
    "        print(\"私有方法仅在类内部可访问\", self.__private_attribute)\n",
    "\n",
    "    # 类方法\n",
    "    @classmethod\n",
    "    def class_method(cls):\n",
    "        print(\"类方法可以操作\", cls)\n",
    "\n",
    "    # 类静态方法\n",
    "    @staticmethod\n",
    "    def static_method():\n",
    "        print(\"类静态方法无法操作类\")"
   ]
  },
  {
   "cell_type": "markdown",
   "metadata": {},
   "source": [
    "**类操作**\n"
   ]
  },
  {
   "cell_type": "code",
   "execution_count": 28,
   "metadata": {},
   "outputs": [
    {
     "data": {
      "text/plain": [
       "'类公共属性'"
      ]
     },
     "execution_count": 28,
     "metadata": {},
     "output_type": "execute_result"
    }
   ],
   "source": [
    "ClassA.public_attribute  # 公共属性访问"
   ]
  },
  {
   "cell_type": "code",
   "execution_count": 29,
   "metadata": {},
   "outputs": [
    {
     "name": "stdout",
     "output_type": "stream",
     "text": [
      "类方法可以操作 <class '__main__.ClassA'>\n"
     ]
    }
   ],
   "source": [
    "ClassA.class_method()  # 类方法调用"
   ]
  },
  {
   "cell_type": "code",
   "execution_count": 30,
   "metadata": {},
   "outputs": [
    {
     "name": "stdout",
     "output_type": "stream",
     "text": [
      "类静态方法无法操作类\n"
     ]
    }
   ],
   "source": [
    "ClassA.static_method()  # 类静态方法调用"
   ]
  },
  {
   "cell_type": "markdown",
   "metadata": {},
   "source": [
    "**实例操作**\n"
   ]
  },
  {
   "cell_type": "code",
   "execution_count": 31,
   "metadata": {},
   "outputs": [],
   "source": [
    "obj_a = ClassA(\"实例属性 A\")  # 创建实例"
   ]
  },
  {
   "cell_type": "code",
   "execution_count": 32,
   "metadata": {},
   "outputs": [
    {
     "data": {
      "text/plain": [
       "'实例属性 A'"
      ]
     },
     "execution_count": 32,
     "metadata": {},
     "output_type": "execute_result"
    }
   ],
   "source": [
    "obj_a.instance_attribute  # 访问实例属性"
   ]
  },
  {
   "cell_type": "code",
   "execution_count": 33,
   "metadata": {},
   "outputs": [
    {
     "name": "stdout",
     "output_type": "stream",
     "text": [
      "公共方法\n"
     ]
    }
   ],
   "source": [
    "obj_a.public_method()  # 执行实例公共方法"
   ]
  },
  {
   "cell_type": "code",
   "execution_count": 34,
   "metadata": {},
   "outputs": [
    {
     "name": "stdout",
     "output_type": "stream",
     "text": [
      "受保护方法虽然约定上视为受保护，但并没有强制限制访问\n",
      "私有方法仅在类内部可访问 类私有属性\n"
     ]
    }
   ],
   "source": [
    "obj_a._protected_method()  # 执行实例受保护方法"
   ]
  },
  {
   "cell_type": "markdown",
   "metadata": {},
   "source": [
    "## 继承\n"
   ]
  },
  {
   "cell_type": "code",
   "execution_count": 35,
   "metadata": {},
   "outputs": [],
   "source": [
    "class ClassAChild(ClassA):\n",
    "    public_attribute: str = \"子类公共属性\"\n",
    "\n",
    "    def __init__(self, instance_attribute):\n",
    "        # super 调用父类\n",
    "        super().__init__(instance_attribute)\n",
    "\n",
    "    # 方法重写\n",
    "    def public_method(self):\n",
    "        print(\"公共方法重写\")"
   ]
  },
  {
   "cell_type": "code",
   "execution_count": 36,
   "metadata": {},
   "outputs": [
    {
     "name": "stdout",
     "output_type": "stream",
     "text": [
      "公共方法重写\n"
     ]
    }
   ],
   "source": [
    "obj_clild = ClassAChild(\"子实例属性\")\n",
    "\n",
    "obj_clild.public_method()"
   ]
  },
  {
   "cell_type": "markdown",
   "metadata": {},
   "source": [
    "## 多继承\n"
   ]
  },
  {
   "cell_type": "code",
   "execution_count": 37,
   "metadata": {},
   "outputs": [],
   "source": [
    "class ClassB:\n",
    "    def __init__(self, instance_attribute) -> None:\n",
    "        self.instance_attribute = instance_attribute\n",
    "\n",
    "    def public_method(self):\n",
    "        print(\"ClassB 公共方法\")"
   ]
  },
  {
   "cell_type": "code",
   "execution_count": 38,
   "metadata": {},
   "outputs": [],
   "source": [
    "class ClassABChild(ClassA, ClassB):\n",
    "    def __init__(self):\n",
    "        super().__init__(instance_attribute=\"父类 A\")\n",
    "        ClassB.__init__(self, instance_attribute=\"父类 B\")"
   ]
  },
  {
   "cell_type": "code",
   "execution_count": 39,
   "metadata": {},
   "outputs": [
    {
     "data": {
      "text/plain": [
       "[__main__.ClassABChild, __main__.ClassA, __main__.ClassB, object]"
      ]
     },
     "execution_count": 39,
     "metadata": {},
     "output_type": "execute_result"
    }
   ],
   "source": [
    "# 子类的继承顺序\n",
    "ClassABChild.mro()"
   ]
  },
  {
   "cell_type": "code",
   "execution_count": 40,
   "metadata": {},
   "outputs": [
    {
     "name": "stdout",
     "output_type": "stream",
     "text": [
      "公共方法\n"
     ]
    }
   ],
   "source": [
    "obj_ab_child = ClassABChild()\n",
    "obj_ab_child.public_method()"
   ]
  }
 ],
 "metadata": {
  "kernelspec": {
   "display_name": ".venv",
   "language": "python",
   "name": "python3"
  },
  "language_info": {
   "codemirror_mode": {
    "name": "ipython",
    "version": 3
   },
   "file_extension": ".py",
   "mimetype": "text/x-python",
   "name": "python",
   "nbconvert_exporter": "python",
   "pygments_lexer": "ipython3",
   "version": "3.10.6"
  },
  "orig_nbformat": 4
 },
 "nbformat": 4,
 "nbformat_minor": 2
}
