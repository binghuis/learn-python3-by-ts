{
 "cells": [
  {
   "cell_type": "markdown",
   "metadata": {},
   "source": [
    "# 类\n"
   ]
  },
  {
   "cell_type": "code",
   "execution_count": 162,
   "metadata": {},
   "outputs": [],
   "source": [
    "class MyClass:\n",
    "    class_attribute: str = \"类属性\"\n",
    "\n",
    "    # 对象初始化操作\n",
    "    def __init__(self, instance_attribute):\n",
    "        self.instance_attribute = instance_attribute\n",
    "\n",
    "    # __str__\n",
    "    # 定义对象的字符串表示形式\n",
    "    # 当使用方法 str、print 或使用 f-string 格式化时，对象的 __str__ 方法会被自动调用\n",
    "    # 如果没有定义 __str__，会尝试调用 __repr__\n",
    "    def __str__(self):\n",
    "        return f\"字符串表示: {self.instance_attribute}\"\n",
    "\n",
    "    def __format__(self):\n",
    "        return f\"format: {self.instance_attribute}\"\n",
    "\n",
    "    # __repr__\n",
    "    # 当使用方法 repr 或在交互式环境中直接输入对象名并执行时，对象的 __repr__ 方法会被自动调用\n",
    "    # 如果没有定义 __repr__，会尝试调用 __str__\n",
    "\n",
    "    def __repr__(self):\n",
    "        return f\"official 字符串表示({self.instance_attribute})\"\n",
    "\n",
    "    # __add__\n",
    "    # 定义对象的加法操作\n",
    "    # 当两个 MyClass 对象相加时，把两对象属性拼接后重新生成新对象\n",
    "    def __add__(self, other):\n",
    "        if isinstance(other, MyClass):\n",
    "            return MyClass(self.instance_attribute + other.instance_attribute)\n",
    "        else:\n",
    "            raise TypeError(\"Unsupported operand type.\")\n",
    "\n",
    "    # 类方法\n",
    "    # 必须接收一个额外的参数，表示类的实例\n",
    "    # 当子类继承父类时，类方法会继承并操作子类的类属性\n",
    "    @classmethod\n",
    "    def class_method(self):\n",
    "        print(\"类方法可以操作\", self.class_attribute)\n",
    "\n",
    "    # 静态方法\n",
    "    # 无法直接访问类属性，因为静态方法并不接收类实例参数。\n",
    "    # 静态方法在子类中行为与父类相同，不会动态绑定到子类。\n",
    "    @staticmethod\n",
    "    def static_method():\n",
    "        print(\"静态方法\")\n",
    "\n",
    "    # 公共方法\n",
    "    # 公共方法可以在类的内部、子类和类的外部直接访问和调用\n",
    "    def public_method(self):\n",
    "        print(\"公共方法\")\n",
    "\n",
    "    # 受保护方法\n",
    "    # 以单个下划线 _ 开头命名\n",
    "    # 受保护方法可以在类的内部、子类和类的外部进行访问。虽然约定上视为受保护，但并没有强制限制访问\n",
    "    def _protected_method(self):\n",
    "        print(\"受保护方法\")\n",
    "        # 在类内部调用私有方法\n",
    "        self.__private_method()\n",
    "\n",
    "    # 私有方法\n",
    "    # 以双下划线 __ 开头命名\n",
    "    # 私有方法仅在类的内部可访问，无法通过类的外部直接访问\n",
    "    def __private_method(self):\n",
    "        print(\"私有方法\")"
   ]
  },
  {
   "cell_type": "code",
   "execution_count": 163,
   "metadata": {},
   "outputs": [
    {
     "name": "stdout",
     "output_type": "stream",
     "text": [
      "字符串表示: 属性1\n",
      "类属性\n"
     ]
    },
    {
     "data": {
      "text/plain": [
       "official 字符串表示(属性1)"
      ]
     },
     "execution_count": 163,
     "metadata": {},
     "output_type": "execute_result"
    }
   ],
   "source": [
    "obj1 = MyClass(\"属性1\")\n",
    "obj2 = MyClass(\"属性2\")\n",
    "\n",
    "print(obj1)\n",
    "print(obj1.class_attribute)\n",
    "obj1"
   ]
  },
  {
   "cell_type": "code",
   "execution_count": 164,
   "metadata": {},
   "outputs": [
    {
     "name": "stdout",
     "output_type": "stream",
     "text": [
      "字符串表示: 属性1属性2\n"
     ]
    }
   ],
   "source": [
    "obj3 = obj1 + obj2\n",
    "print(obj3)"
   ]
  },
  {
   "cell_type": "code",
   "execution_count": 165,
   "metadata": {},
   "outputs": [
    {
     "name": "stdout",
     "output_type": "stream",
     "text": [
      "公共方法\n",
      "受保护方法\n",
      "私有方法\n"
     ]
    }
   ],
   "source": [
    "obj1.public_method()\n",
    "obj1._protected_method()"
   ]
  },
  {
   "cell_type": "code",
   "execution_count": 166,
   "metadata": {},
   "outputs": [
    {
     "name": "stdout",
     "output_type": "stream",
     "text": [
      "类方法可以操作 类属性\n",
      "静态方法\n"
     ]
    }
   ],
   "source": [
    "obj1.class_method()\n",
    "obj1.static_method()"
   ]
  },
  {
   "cell_type": "markdown",
   "metadata": {},
   "source": [
    "## 魔术方法\n",
    "\n",
    "Python 中的魔术方法（Magic Methods）是一组特殊的方法，它们以双下划线（\\_\\_）开头和结尾。这些方法可以在类中定义，用于实现对象的特定行为和操作。下面是一些常用的魔术方法及其功能：\n",
    "\n",
    "1. `__init__(self, ...)`: 初始化方法，用于创建对象并进行初始化操作。\n",
    "\n",
    "2. `__str__(self)`: 返回对象的字符串表示，通常在使用 `print(obj)` 或 `str(obj)` 时调用。\n",
    "\n",
    "3. `__repr__(self)`: 返回对象的可打印字符串表示，通常在使用 `repr(obj)` 时调用。\n",
    "\n",
    "4. `__len__(self)`: 返回对象的长度，通常在使用 `len(obj)` 时调用。\n",
    "\n",
    "5. `__getitem__(self, key)`: 定义对象的索引操作，使得对象可以像序列（如列表或字符串）一样通过索引访问元素。\n",
    "\n",
    "6. `__setitem__(self, key, value)`: 定义对象的索引赋值操作，使得对象可以像序列一样通过索引设置元素的值。\n",
    "\n",
    "7. `__delitem__(self, key)`: 定义对象的索引删除操作，使得对象可以像序列一样通过索引删除元素。\n",
    "\n",
    "8. `__call__(self, ...)`: 允许将对象当作函数调用，调用对象时会执行该方法。\n",
    "\n",
    "9. `__add__(self, other)`: 定义对象的加法操作，使得对象可以使用 `+` 运算符进行相加。\n",
    "\n",
    "10. `__sub__(self, other)`: 定义对象的减法操作，使得对象可以使用 `-` 运算符进行相减。\n",
    "\n",
    "11. `__eq__(self, other)`: 定义对象的相等比较操作，使得对象可以使用 `==` 运算符进行比较。\n",
    "\n",
    "12. `__lt__(self, other)`: 定义对象的小于比较操作，使得对象可以使用 `<` 运算符进行比较。\n"
   ]
  },
  {
   "cell_type": "markdown",
   "metadata": {},
   "source": [
    "下面是一份包含大部分常用魔术方法的列表，供你参考：\n",
    "\n",
    "- 对象创建和销毁相关：\n",
    "\n",
    "  - `__new__(cls, ...)`: 创建对象时调用的方法，用于创建并返回实例。\n",
    "  - `__init__(self, ...)`: 初始化方法，用于对实例进行初始化操作。\n",
    "  - `__del__(self)`: 对象销毁时调用的方法，用于执行清理操作。\n",
    "\n",
    "- 对象表示相关：\n",
    "\n",
    "  - `__str__(self)`: 返回对象的字符串表示，通常在使用 `print(obj)` 或 `str(obj)` 时调用。\n",
    "  - `__repr__(self)`: 返回对象的可打印字符串表示，通常在使用 `repr(obj)` 时调用。\n",
    "  - `__format__(self, format_spec)`: 控制对象的格式化输出。\n",
    "\n",
    "- 属性访问相关：\n",
    "\n",
    "  - `__getattr__(self, name)`: 访问不存在属性时调用的方法。\n",
    "  - `__getattribute__(self, name)`: 访问对象属性时调用的方法，比 `__getattr__` 更早调用。\n",
    "  - `__setattr__(self, name, value)`: 对象属性赋值时调用的方法。\n",
    "  - `__delattr__(self, name)`: 删除对象属性时调用的方法。\n",
    "\n",
    "- 容器类型相关：\n",
    "\n",
    "  - `__len__(self)`: 返回对象的长度，通常在使用 `len(obj)` 时调用。\n",
    "  - `__getitem__(self, key)`: 对象通过索引访问元素时调用的方法。\n",
    "  - `__setitem__(self, key, value)`: 对象通过索引设置元素值时调用的方法。\n",
    "  - `__delitem__(self, key)`: 对象通过索引删除元素时调用的方法。\n",
    "  - `__iter__(self)`: 返回一个迭代器对象，用于支持对象的迭代。\n",
    "  - `__next__(self)`: 返回迭代器的下一个元素。\n",
    "  - `__contains__(self, item)`: 判断对象是否包含指定元素，通常在使用 `in` 运算符时调用。\n",
    "\n",
    "- 比较和排序相关：\n",
    "\n",
    "  - `__eq__(self, other)`: 定义对象的相等比较操作，使得对象可以使用 `==` 运算符进行比较。\n",
    "  - `__ne__(self, other)`: 定义对象的不等比较操作，使得对象可以使用 `!=` 运算符进行比较。\n",
    "  - `__lt__(self, other)`: 定义对象的小于比较操作，使得对象可以使用 `<` 运算符进行比较。\n",
    "  - `__gt__(self, other)`: 定义对象的大于比较操作，使得对象可以使用 `>` 运算符进行比较。\n",
    "  - `__le__(self, other)`: 定义对象的小于等于比较操作，使得对象可以使用 `<=` 运算符进行比较。\n",
    "  - `__ge__(self, other)`: 定义对象的大于等于比较操作，使得对象可以使用 `>=` 运算符进行比较。\n",
    "  - `__hash__(self)`: 返回对象的哈希值。\n",
    "\n",
    "- 调用相关：\n",
    "\n",
    "  - `__call__(self, ...)`: 将对象当作函数进行调用时调用的方法。\n",
    "\n",
    "- 上下文管理相关：\n",
    "  - `__enter__(self)`, `__exit__(self, exc_type, exc_value, traceback)`: 定义对象在上下文管理器中的行为，允许使用 `with` 语句管理资源。\n",
    "\n",
    "这只是一份包含大部分常用魔术方法的列表，实际上还有更多的魔术方法可以了解和使用。你可以根据你的类的需求选择适合的魔术方法来实现自定义的行为和操作。\n"
   ]
  }
 ],
 "metadata": {
  "kernelspec": {
   "display_name": ".venv",
   "language": "python",
   "name": "python3"
  },
  "language_info": {
   "codemirror_mode": {
    "name": "ipython",
    "version": 3
   },
   "file_extension": ".py",
   "mimetype": "text/x-python",
   "name": "python",
   "nbconvert_exporter": "python",
   "pygments_lexer": "ipython3",
   "version": "3.10.6"
  },
  "orig_nbformat": 4
 },
 "nbformat": 4,
 "nbformat_minor": 2
}
