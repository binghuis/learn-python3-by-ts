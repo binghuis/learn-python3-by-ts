{
 "cells": [
  {
   "cell_type": "markdown",
   "metadata": {},
   "source": [
    "# 推导式 & 生成器表达式\n",
    "\n",
    "推导式（Comprehension）是一种简洁的语法结构，用于创建新的列表（List）、字典（Dictionary）、集合（Set）或生成器（Generator）等可迭代对象。推导式可以通过在一行代码中定义和填充容器对象，避免了使用传统的循环结构的繁琐性。\n",
    "\n",
    "Python 中常见的推导式有列表推导式（List Comprehension）、字典推导式（Dictionary Comprehension）、集合推导式（Set Comprehension）和生成器推导式（Generator Comprehension）\n"
   ]
  },
  {
   "cell_type": "markdown",
   "metadata": {},
   "source": [
    "## 推导式\n"
   ]
  },
  {
   "cell_type": "markdown",
   "metadata": {},
   "source": [
    "### 列表推导式\n",
    "\n",
    "`[expression for item in iterable if condition]`\n"
   ]
  },
  {
   "cell_type": "code",
   "execution_count": 47,
   "metadata": {},
   "outputs": [
    {
     "data": {
      "text/plain": [
       "[4, 16]"
      ]
     },
     "execution_count": 47,
     "metadata": {},
     "output_type": "execute_result"
    }
   ],
   "source": [
    "[x**2 for x in range(1, 6) if x % 2 == 0]"
   ]
  },
  {
   "cell_type": "markdown",
   "metadata": {},
   "source": [
    "### 集合推导式\n",
    "\n",
    "`{expression for item in iterable if condition}`\n"
   ]
  },
  {
   "cell_type": "code",
   "execution_count": 48,
   "metadata": {},
   "outputs": [
    {
     "data": {
      "text/plain": [
       "{4, 16}"
      ]
     },
     "execution_count": 48,
     "metadata": {},
     "output_type": "execute_result"
    }
   ],
   "source": [
    "{x**2 for x in range(1, 6) if x % 2 == 0}"
   ]
  },
  {
   "cell_type": "markdown",
   "metadata": {},
   "source": [
    "### 字典推导式\n",
    "\n",
    "`{key_expression: value_expression for item in iterable if condition}`\n"
   ]
  },
  {
   "cell_type": "code",
   "execution_count": 49,
   "metadata": {},
   "outputs": [
    {
     "data": {
      "text/plain": [
       "{'hi_hanmeimei': 'Hanmeimei'}"
      ]
     },
     "execution_count": 49,
     "metadata": {},
     "output_type": "execute_result"
    }
   ],
   "source": [
    "names = [\"lihua\", \"hanmeimei\", \"panghu\", \"axiang\"]\n",
    "\n",
    "{f\"hi_{name}\": name.title() for name in names if len(name) > 6}"
   ]
  },
  {
   "cell_type": "markdown",
   "metadata": {},
   "source": [
    "## 生成器表达式\n",
    "\n",
    "生成器表达式的语法与推导式类似，但生成器表达式返回的是一个生成器对象，该对象为可迭代对象。\n",
    "\n",
    "需要注意的是，生成器对象是一次性的，一旦遍历完毕后，它就不能再次遍历。如果需要重新遍历生成器对象，需要重新创建一个新的生成器对象。\n",
    "\n",
    "生成器表达式的优点在于它们按需生成值，避免了一次性生成所有值所带来的内存消耗。这使得它们特别适用于处理大型数据集或需要延迟计算的情况。通过迭代生成器对象，我们可以逐步获取值，而不需要一次性获取所有值。\n",
    "\n",
    "tip：元组是不可变的数据结构，一旦创建，其元素无法更改。在推导式中，元素是根据迭代变量、可迭代对象和条件表达式生成的。由于元组的不可变性质，不能使用推导式动态生成元素。但可以通过使用 `tuple` 函数将生成器对象转换为元组，从而获取一个包含生成器所有值的元组。\n"
   ]
  },
  {
   "cell_type": "code",
   "execution_count": 51,
   "metadata": {},
   "outputs": [
    {
     "name": "stdout",
     "output_type": "stream",
     "text": [
      "<generator object <genexpr> at 0x1079f8900>\n",
      "('Hanmeimei',)\n",
      "[]\n"
     ]
    }
   ],
   "source": [
    "generator_obj = (name.title() for name in names if len(name) > 6)\n",
    "\n",
    "print(generator_obj)\n",
    "\n",
    "print(tuple(generator_obj))\n",
    "\n",
    "# generator_obj 已被遍历，无法再次遍历\n",
    "print(list(generator_obj))"
   ]
  }
 ],
 "metadata": {
  "kernelspec": {
   "display_name": ".venv",
   "language": "python",
   "name": "python3"
  },
  "language_info": {
   "codemirror_mode": {
    "name": "ipython",
    "version": 3
   },
   "file_extension": ".py",
   "mimetype": "text/x-python",
   "name": "python",
   "nbconvert_exporter": "python",
   "pygments_lexer": "ipython3",
   "version": "3.10.6"
  },
  "orig_nbformat": 4
 },
 "nbformat": 4,
 "nbformat_minor": 2
}
