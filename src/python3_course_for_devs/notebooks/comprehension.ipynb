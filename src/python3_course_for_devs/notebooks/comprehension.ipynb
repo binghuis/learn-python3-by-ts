{
 "cells": [
  {
   "cell_type": "markdown",
   "metadata": {},
   "source": [
    "# 推导式\n",
    "\n",
    "支持推导式的类型\n",
    "\n",
    "- 列表（list）\n",
    "- 字典（dict）\n",
    "- 集合（set）\n",
    "- 元组（tuple）\n"
   ]
  },
  {
   "cell_type": "code",
   "execution_count": 7,
   "metadata": {},
   "outputs": [
    {
     "data": {
      "text/plain": [
       "['Hanmeimei']"
      ]
     },
     "execution_count": 7,
     "metadata": {},
     "output_type": "execute_result"
    }
   ],
   "source": [
    "# 列表推导式\n",
    "\n",
    "# [元素操作 + 循环操作 + 过滤操作]\n",
    "# 把 names 中长度大于 6 的姓名取出来并做 Title 操作\n",
    "names = [\"lihua\", \"hanmeimei\", \"panghu\", \"axiang\"]\n",
    "new_names = [name.title() for name in names if len(name) > 6]\n",
    "new_names"
   ]
  },
  {
   "cell_type": "code",
   "execution_count": 11,
   "metadata": {},
   "outputs": [
    {
     "data": {
      "text/plain": [
       "{'hanmeimei': 'Hanmeimei'}"
      ]
     },
     "execution_count": 11,
     "metadata": {},
     "output_type": "execute_result"
    }
   ],
   "source": [
    "# 字典推导式\n",
    "\n",
    "newdict = {name: name.title() for name in names if len(name) > 6}\n",
    "newdict"
   ]
  },
  {
   "cell_type": "code",
   "execution_count": 12,
   "metadata": {},
   "outputs": [
    {
     "data": {
      "text/plain": [
       "{'Hanmeimei'}"
      ]
     },
     "execution_count": 12,
     "metadata": {},
     "output_type": "execute_result"
    }
   ],
   "source": [
    "# 集合推导式\n",
    "\n",
    "newdset = {name.title() for name in names if len(name) > 6}\n",
    "newdset"
   ]
  },
  {
   "cell_type": "code",
   "execution_count": 14,
   "metadata": {},
   "outputs": [
    {
     "data": {
      "text/plain": [
       "('Hanmeimei',)"
      ]
     },
     "execution_count": 14,
     "metadata": {},
     "output_type": "execute_result"
    }
   ],
   "source": [
    "# 元组推导式\n",
    "\n",
    "tuple_gen = (name.title() for name in names if len(name) > 6)\n",
    "\n",
    "tuple(tuple_gen)"
   ]
  }
 ],
 "metadata": {
  "kernelspec": {
   "display_name": ".venv",
   "language": "python",
   "name": "python3"
  },
  "language_info": {
   "codemirror_mode": {
    "name": "ipython",
    "version": 3
   },
   "file_extension": ".py",
   "mimetype": "text/x-python",
   "name": "python",
   "nbconvert_exporter": "python",
   "pygments_lexer": "ipython3",
   "version": "3.10.6"
  },
  "orig_nbformat": 4
 },
 "nbformat": 4,
 "nbformat_minor": 2
}
