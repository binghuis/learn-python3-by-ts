{
 "cells": [
  {
   "cell_type": "markdown",
   "metadata": {},
   "source": [
    "# 深拷贝 &（浅拷贝 vs 赋值操作）\n"
   ]
  },
  {
   "cell_type": "markdown",
   "metadata": {},
   "source": [
    "## 值拷贝 & 引用拷贝\n",
    "\n",
    "- 值拷贝：根据原始对象的值创建一个新的对象，新对象和原始对象值相等，内存地址不同，修改其中一个对象不会对另一个对象产生任何影响。\n",
    "- 引用拷贝：创建一个原始对象的新引用，而不是创建一个新的对象。基于原始对象创建的引用都指向原始对象的内存地址，对引用的任何操作都会同步到原始对象上。\n",
    "\n",
    "注意：只有`可变类型`数据才能进行引用拷贝，`非可变类型`数据只能进行值拷贝。关于`可变 & 不可变类型`看这节：[数据类型]('./types.ipynb')\n"
   ]
  },
  {
   "cell_type": "markdown",
   "metadata": {},
   "source": [
    "## 深拷贝\n",
    "\n",
    "即值拷贝\n"
   ]
  },
  {
   "cell_type": "code",
   "execution_count": 47,
   "metadata": {},
   "outputs": [
    {
     "name": "stdout",
     "output_type": "stream",
     "text": [
      "[2, [3, 3]]\n",
      "[1, [2, 3], 4]\n"
     ]
    }
   ],
   "source": [
    "import copy\n",
    "\n",
    "original_data = [2, [3, 3]]\n",
    "\n",
    "# 深拷贝\n",
    "deep_copied_data = copy.deepcopy(original_data)\n",
    "\n",
    "deep_copied_data[0] = 1\n",
    "deep_copied_data[1][0] = 2\n",
    "deep_copied_data.append(4)\n",
    "\n",
    "# 新对象和原始对象完全独立，更改互不影响\n",
    "print(original_data)\n",
    "print(deep_copied_data)"
   ]
  },
  {
   "cell_type": "markdown",
   "metadata": {},
   "source": [
    "## 赋值操作\n",
    "\n",
    "- 对于不可变类型，对原始对象进行值拷贝。\n",
    "- 对于可变类型，对原始对象进行引用拷贝。\n"
   ]
  },
  {
   "cell_type": "code",
   "execution_count": 48,
   "metadata": {},
   "outputs": [
    {
     "name": "stdout",
     "output_type": "stream",
     "text": [
      "[1, [2, 3], 4]\n",
      "[1, [2, 3], 4]\n"
     ]
    }
   ],
   "source": [
    "original_data = [2, [3, 3]]\n",
    "\n",
    "# 赋值操作\n",
    "copied_data = original_data\n",
    "\n",
    "copied_data[0] = 1\n",
    "copied_data[1][0] = 2\n",
    "copied_data.append(4)\n",
    "\n",
    "print(original_data)\n",
    "print(copied_data)"
   ]
  },
  {
   "cell_type": "markdown",
   "metadata": {},
   "source": [
    "## 浅拷贝\n",
    "\n",
    "- 对于不可变类型，对原始对象进行值拷贝。\n",
    "- 对于可变类型，浅拷贝会创建一个与原始对象同类型的新的空对象，然后将原始对象的元素复制到新对象中，如果元素为不可变类型，则进行值拷贝，如果元素为可变类型，则进行引用拷贝。\n"
   ]
  },
  {
   "cell_type": "code",
   "execution_count": 49,
   "metadata": {},
   "outputs": [
    {
     "name": "stdout",
     "output_type": "stream",
     "text": [
      "[2, [2, 3]]\n",
      "[1, [2, 3], 4]\n"
     ]
    }
   ],
   "source": [
    "original_data = [2, [3, 3]]\n",
    "\n",
    "# 浅拷贝\n",
    "shallow_copied_data = original_data.copy()\n",
    "\n",
    "shallow_copied_data[0] = 1\n",
    "shallow_copied_data[1][0] = 2  # 元素 [3, 3] 是可变类型，所以元素采用引用拷贝\n",
    "shallow_copied_data.append(4)  # 浅拷贝会基于原始对象创建一个同类型新的空对象，所以 4 仅新增在新对象上\n",
    "\n",
    "print(original_data)\n",
    "print(shallow_copied_data)"
   ]
  }
 ],
 "metadata": {
  "kernelspec": {
   "display_name": ".venv",
   "language": "python",
   "name": "python3"
  },
  "language_info": {
   "codemirror_mode": {
    "name": "ipython",
    "version": 3
   },
   "file_extension": ".py",
   "mimetype": "text/x-python",
   "name": "python",
   "nbconvert_exporter": "python",
   "pygments_lexer": "ipython3",
   "version": "3.10.6"
  },
  "orig_nbformat": 4
 },
 "nbformat": 4,
 "nbformat_minor": 2
}
