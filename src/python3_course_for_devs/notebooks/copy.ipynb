{
 "cells": [
  {
   "cell_type": "markdown",
   "metadata": {},
   "source": [
    "## 深拷贝\n",
    "\n",
    "深拷贝是创建一个新的对象，将原始对象的所有属性和内容复制到新对象中，两个对象完全独立，修改一个对象不会影响另一个对象。\n",
    "\n",
    "深拷贝可以理解为值拷贝，而非可变数据的拷贝都是深拷贝\n"
   ]
  },
  {
   "cell_type": "code",
   "execution_count": null,
   "metadata": {},
   "outputs": [],
   "source": [
    "from copy import deepcopy\n",
    "\n",
    "d5 = {\"x1\": {\"x2\": {\"x3\": 4}}, \"y1\": 1}\n",
    "\n",
    "d5c_deep = deepcopy(d5)\n",
    "\n",
    "print(d5c_deep, id(d5) == id(d5c_deep))  # d5 和 d5c_deep 内存地址不同\n",
    "\n",
    "# 修改一级元素的值\n",
    "d5c_deep[\"y1\"] = 11\n",
    "\n",
    "# 一级元素值不等，内存地址也不同\n",
    "print(d5[\"y1\"], d5c_deep[\"y1\"], d5[\"y1\"] is d5c_deep[\"y1\"])\n",
    "\n",
    "# 修改二级元素的值\n",
    "d5c_deep[\"x1\"][\"x2\"] = 22\n",
    "\n",
    "# 二级元素值不等，内存地址也不同，证明二级元素是值拷贝\n",
    "print(d5[\"x1\"], d5c_deep[\"x1\"], d5[\"x1\"] is d5c_deep[\"x1\"])"
   ]
  },
  {
   "cell_type": "markdown",
   "metadata": {},
   "source": [
    "## 浅拷贝\n",
    "\n",
    "而在浅拷贝中，只有最外层的对象被复制，内部的对象仍然是原始对象和副本对象共享的。换句话说，浅拷贝只复制了对象的引用，而不是对象本身。这意味着，如果修改了原始对象中的可变对象，浅拷贝的副本也会受到影响。\n",
    "\n",
    "注意：只有`可变类型`数据才能进行浅拷贝，`非可变类型`数据的拷贝都是值拷贝\n"
   ]
  },
  {
   "cell_type": "code",
   "execution_count": null,
   "metadata": {},
   "outputs": [],
   "source": [
    "# 浅拷贝：只深拷贝一级元素，子对象依然是原始字典对应引用\n",
    "\n",
    "d4 = {\"x1\": {\"x2\": {\"x3\": 4}}, \"y1\": 1}\n",
    "\n",
    "d4c_deep = d4.copy()\n",
    "\n",
    "print(d4c_deep, id(d4) == id(d4c_deep))  # d4 和 d4c_deep 内存地址不同\n",
    "\n",
    "# 修改一级元素的值\n",
    "d4c_deep[\"y1\"] = 11\n",
    "\n",
    "# 一级元素值不等，内存地址也不同\n",
    "print(d4[\"y1\"], d4c_deep[\"y1\"], d4[\"y1\"] is d4c_deep[\"y1\"])\n",
    "\n",
    "# 修改二级元素的值\n",
    "d4c_deep[\"x1\"][\"x2\"] = 22\n",
    "\n",
    "# 二级元素值不等，内存地址也不同，证明二级元素是值拷贝\n",
    "print(d4[\"x1\"], d4c_deep[\"x1\"], d4[\"x1\"] is d4c_deep[\"x1\"])"
   ]
  }
 ],
 "metadata": {
  "language_info": {
   "name": "python"
  },
  "orig_nbformat": 4
 },
 "nbformat": 4,
 "nbformat_minor": 2
}
