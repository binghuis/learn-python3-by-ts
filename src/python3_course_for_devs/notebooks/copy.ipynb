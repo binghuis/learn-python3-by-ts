{
 "cells": [
  {
   "cell_type": "markdown",
   "metadata": {},
   "source": [
    "# 拷贝\n"
   ]
  },
  {
   "cell_type": "markdown",
   "metadata": {},
   "source": [
    "## 深拷贝\n"
   ]
  },
  {
   "cell_type": "code",
   "execution_count": null,
   "metadata": {},
   "outputs": [],
   "source": [
    "from copy import deepcopy\n",
    "\n",
    "d5 = {\"x1\": {\"x2\": {\"x3\": 4}}, \"y1\": 1}\n",
    "\n",
    "d5c_deep = deepcopy(d5)\n",
    "\n",
    "print(d5c_deep, id(d5) == id(d5c_deep))  # d5 和 d5c_deep 内存地址不同\n",
    "\n",
    "# 修改一级元素的值\n",
    "d5c_deep[\"y1\"] = 11\n",
    "\n",
    "# 一级元素值不等，内存地址也不同\n",
    "print(d5[\"y1\"], d5c_deep[\"y1\"], d5[\"y1\"] is d5c_deep[\"y1\"])\n",
    "\n",
    "# 修改二级元素的值\n",
    "d5c_deep[\"x1\"][\"x2\"] = 22\n",
    "\n",
    "# 二级元素值不等，内存地址也不同，证明二级元素是值拷贝\n",
    "print(d5[\"x1\"], d5c_deep[\"x1\"], d5[\"x1\"] is d5c_deep[\"x1\"])"
   ]
  },
  {
   "cell_type": "markdown",
   "metadata": {},
   "source": [
    "## 浅拷贝\n"
   ]
  },
  {
   "cell_type": "code",
   "execution_count": null,
   "metadata": {},
   "outputs": [],
   "source": [
    "# 浅拷贝：只深拷贝一级元素，子对象依然是原始字典对应引用\n",
    "\n",
    "d4 = {\"x1\": {\"x2\": {\"x3\": 4}}, \"y1\": 1}\n",
    "\n",
    "d4c_deep = d4.copy()\n",
    "\n",
    "print(d4c_deep, id(d4) == id(d4c_deep))  # d4 和 d4c_deep 内存地址不同\n",
    "\n",
    "# 修改一级元素的值\n",
    "d4c_deep[\"y1\"] = 11\n",
    "\n",
    "# 一级元素值不等，内存地址也不同\n",
    "print(d4[\"y1\"], d4c_deep[\"y1\"], d4[\"y1\"] is d4c_deep[\"y1\"])\n",
    "\n",
    "# 修改二级元素的值\n",
    "d4c_deep[\"x1\"][\"x2\"] = 22\n",
    "\n",
    "# 二级元素值不等，内存地址也不同，证明二级元素是值拷贝\n",
    "print(d4[\"x1\"], d4c_deep[\"x1\"], d4[\"x1\"] is d4c_deep[\"x1\"])"
   ]
  }
 ],
 "metadata": {
  "language_info": {
   "name": "python"
  },
  "orig_nbformat": 4
 },
 "nbformat": 4,
 "nbformat_minor": 2
}
