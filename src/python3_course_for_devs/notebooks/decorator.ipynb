{
 "cells": [
  {
   "cell_type": "markdown",
   "metadata": {},
   "source": [
    "# 装饰器\n",
    "\n",
    "装饰器本质上是一个函数，它接受一个函数作为输入，并返回一个新的函数作为输出。这个新的函数通常会在调用原始函数之前或之后执行一些额外的操作。\n"
   ]
  },
  {
   "cell_type": "markdown",
   "metadata": {},
   "source": [
    "**装饰器函数**\n"
   ]
  },
  {
   "cell_type": "code",
   "execution_count": 9,
   "metadata": {},
   "outputs": [
    {
     "name": "stdout",
     "output_type": "stream",
     "text": [
      "<=== before ===>\n",
      "meta\n",
      "<=== after ===>\n"
     ]
    },
    {
     "data": {
      "text/plain": [
       "'meta'"
      ]
     },
     "execution_count": 9,
     "metadata": {},
     "output_type": "execute_result"
    }
   ],
   "source": [
    "def deco_fn(orig_fn):\n",
    "    def wrap_fn(*args, **kwargs):\n",
    "        print(\"<=== before ===>\")\n",
    "        ret = orig_fn(*args, **kwargs)\n",
    "        print(ret)\n",
    "        print(\"<=== after ===>\")\n",
    "        return ret\n",
    "\n",
    "    return wrap_fn\n",
    "\n",
    "\n",
    "@deco_fn\n",
    "def hello(name):\n",
    "    return name\n",
    "\n",
    "\n",
    "hello(name=\"meta\")"
   ]
  },
  {
   "cell_type": "code",
   "execution_count": 10,
   "metadata": {},
   "outputs": [
    {
     "name": "stdout",
     "output_type": "stream",
     "text": [
      "<=== before ===>\n",
      "hello, meta\n",
      "<=== after ===>\n"
     ]
    },
    {
     "data": {
      "text/plain": [
       "'meta'"
      ]
     },
     "execution_count": 10,
     "metadata": {},
     "output_type": "execute_result"
    }
   ],
   "source": [
    "def deco_wrap(greeting, separator=\",\"):\n",
    "    def deco_fn(orig_fn):\n",
    "        def wrap_fn(*args, **kwargs):\n",
    "            print(\"<=== before ===>\")\n",
    "            ret = orig_fn(*args, **kwargs)\n",
    "            print(f\"{greeting}{separator} {ret}\")\n",
    "            print(\"<=== after ===>\")\n",
    "            return ret\n",
    "\n",
    "        return wrap_fn\n",
    "\n",
    "    return deco_fn\n",
    "\n",
    "\n",
    "@deco_wrap(greeting=\"hello\", separator=\",\")\n",
    "def hello(name):\n",
    "    return name\n",
    "\n",
    "\n",
    "hello(name=\"meta\")"
   ]
  },
  {
   "cell_type": "markdown",
   "metadata": {},
   "source": [
    "**装饰器类**\n"
   ]
  },
  {
   "cell_type": "code",
   "execution_count": 11,
   "metadata": {},
   "outputs": [
    {
     "name": "stdout",
     "output_type": "stream",
     "text": [
      "Calling function: add\n",
      "Function add finished execution\n",
      "5\n"
     ]
    }
   ],
   "source": [
    "class LogDecorator:\n",
    "    def __init__(self, fn):\n",
    "        self.fn = fn\n",
    "\n",
    "    def __call__(self, *args, **kwargs):\n",
    "        print(f\"Calling function: {self.fn.__name__}\")\n",
    "        ret = self.fn(*args, **kwargs)\n",
    "        print(f\"Function {self.fn.__name__} finished execution\")\n",
    "        return ret\n",
    "\n",
    "\n",
    "@LogDecorator\n",
    "def add(a, b):\n",
    "    return a + b\n",
    "\n",
    "\n",
    "result = add(2, 3)\n",
    "print(result)"
   ]
  },
  {
   "cell_type": "code",
   "execution_count": 12,
   "metadata": {},
   "outputs": [
    {
     "name": "stdout",
     "output_type": "stream",
     "text": [
      "Initializing DecoratedClass\n",
      "Executing original_method\n",
      "Executing decorated_method\n"
     ]
    }
   ],
   "source": [
    "def class_decorator(cls):\n",
    "    # 定义一个新的类\n",
    "    class DecoratedClass(cls):\n",
    "        def __init__(self, *args, **kwargs):\n",
    "            # 在实例化新的类之前执行的操作\n",
    "            print(\"Initializing DecoratedClass\")\n",
    "            super().__init__(*args, **kwargs)\n",
    "\n",
    "        def decorated_method(self):\n",
    "            # 在装饰的方法中执行的操作\n",
    "            print(\"Executing decorated_method\")\n",
    "\n",
    "    return DecoratedClass\n",
    "\n",
    "\n",
    "@class_decorator\n",
    "class OriginalClass:\n",
    "    def __init__(self, value):\n",
    "        self.value = value\n",
    "\n",
    "    def original_method(self):\n",
    "        print(\"Executing original_method\")\n",
    "\n",
    "\n",
    "# 实例化装饰过的类\n",
    "decorated_instance = OriginalClass(10)\n",
    "\n",
    "# 调用原始方法\n",
    "decorated_instance.original_method()\n",
    "\n",
    "# 调用装饰方法\n",
    "decorated_instance.decorated_method()"
   ]
  }
 ],
 "metadata": {
  "kernelspec": {
   "display_name": ".venv",
   "language": "python",
   "name": "python3"
  },
  "language_info": {
   "codemirror_mode": {
    "name": "ipython",
    "version": 3
   },
   "file_extension": ".py",
   "mimetype": "text/x-python",
   "name": "python",
   "nbconvert_exporter": "python",
   "pygments_lexer": "ipython3",
   "version": "3.10.6"
  }
 },
 "nbformat": 4,
 "nbformat_minor": 2
}
