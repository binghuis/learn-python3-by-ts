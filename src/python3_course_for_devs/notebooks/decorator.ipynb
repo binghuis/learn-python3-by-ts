{
 "cells": [
  {
   "cell_type": "markdown",
   "metadata": {},
   "source": [
    "# 装饰器\n"
   ]
  },
  {
   "cell_type": "code",
   "execution_count": 34,
   "metadata": {},
   "outputs": [
    {
     "name": "stdout",
     "output_type": "stream",
     "text": [
      "<=== before ===>\n",
      "meta\n",
      "<=== after ===>\n"
     ]
    },
    {
     "data": {
      "text/plain": [
       "'meta'"
      ]
     },
     "execution_count": 34,
     "metadata": {},
     "output_type": "execute_result"
    }
   ],
   "source": [
    "def deco_fn(orig_fn):\n",
    "    def wrap_fn(*args, **kwargs):\n",
    "        print(\"<=== before ===>\")\n",
    "        ret = orig_fn(*args, **kwargs)\n",
    "        print(ret)\n",
    "        print(\"<=== after ===>\")\n",
    "        return ret\n",
    "\n",
    "    return wrap_fn\n",
    "\n",
    "\n",
    "@deco_fn\n",
    "def hello(name):\n",
    "    return name\n",
    "\n",
    "\n",
    "hello(name=\"meta\")"
   ]
  },
  {
   "cell_type": "code",
   "execution_count": 35,
   "metadata": {},
   "outputs": [
    {
     "name": "stdout",
     "output_type": "stream",
     "text": [
      "<=== before ===>\n",
      "hello, meta\n",
      "<=== after ===>\n"
     ]
    },
    {
     "data": {
      "text/plain": [
       "'meta'"
      ]
     },
     "execution_count": 35,
     "metadata": {},
     "output_type": "execute_result"
    }
   ],
   "source": [
    "def greet(greeting, separator=\",\"):\n",
    "    def deco_fn(orig_fn):\n",
    "        def wrap_fn(*args, **kwargs):\n",
    "            print(\"<=== before ===>\")\n",
    "            ret = orig_fn(*args, **kwargs)\n",
    "            print(f\"{greeting}{separator} {ret}\")\n",
    "            print(\"<=== after ===>\")\n",
    "            return ret\n",
    "\n",
    "        return wrap_fn\n",
    "\n",
    "    return deco_fn\n",
    "\n",
    "\n",
    "@greet(greeting=\"hello\", separator=\",\")\n",
    "def hello(name):\n",
    "    return name\n",
    "\n",
    "\n",
    "hello(name=\"meta\")"
   ]
  },
  {
   "cell_type": "markdown",
   "metadata": {},
   "source": [
    "装饰器类\n"
   ]
  },
  {
   "cell_type": "code",
   "execution_count": 36,
   "metadata": {},
   "outputs": [
    {
     "name": "stdout",
     "output_type": "stream",
     "text": [
      "Calling function: add\n",
      "Function add finished execution\n",
      "5\n"
     ]
    }
   ],
   "source": [
    "class LogDecorator:\n",
    "    def __init__(self, func):\n",
    "        self.func = func\n",
    "\n",
    "    def __call__(self, *args, **kwargs):\n",
    "        print(f\"Calling function: {self.func.__name__}\")\n",
    "        result = self.func(*args, **kwargs)\n",
    "        print(f\"Function {self.func.__name__} finished execution\")\n",
    "        return result\n",
    "\n",
    "\n",
    "@LogDecorator\n",
    "def add(a, b):\n",
    "    return a + b\n",
    "\n",
    "\n",
    "result = add(2, 3)\n",
    "print(result)"
   ]
  }
 ],
 "metadata": {
  "kernelspec": {
   "display_name": ".venv",
   "language": "python",
   "name": "python3"
  },
  "language_info": {
   "codemirror_mode": {
    "name": "ipython",
    "version": 3
   },
   "file_extension": ".py",
   "mimetype": "text/x-python",
   "name": "python",
   "nbconvert_exporter": "python",
   "pygments_lexer": "ipython3",
   "version": "3.10.6"
  }
 },
 "nbformat": 4,
 "nbformat_minor": 2
}
