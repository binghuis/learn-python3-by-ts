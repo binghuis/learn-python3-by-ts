{
 "cells": [
  {
   "cell_type": "markdown",
   "metadata": {},
   "source": [
    "# 装饰器\n",
    "\n",
    "装饰器本质上是一个函数/类，它接受一个函数/类作为输入，并返回一个新的函数/类作为输出。这个新的函数/类通常会在调用原始函数/类之前或之后执行一些额外的操作。\n"
   ]
  },
  {
   "cell_type": "markdown",
   "metadata": {},
   "source": [
    "**定义装饰器函数**\n",
    "\n",
    "通过 `*args` 和 `**kwargs` 分别将位置参数和关键字参数收集成元组和集合。\n"
   ]
  },
  {
   "cell_type": "markdown",
   "metadata": {},
   "source": [
    "使用装饰器函数装饰一个函数。\n"
   ]
  },
  {
   "cell_type": "code",
   "execution_count": 41,
   "metadata": {},
   "outputs": [
    {
     "name": "stdout",
     "output_type": "stream",
     "text": [
      "<=== before ===>\n",
      "meta\n",
      "<=== after ===>\n"
     ]
    },
    {
     "data": {
      "text/plain": [
       "'meta'"
      ]
     },
     "execution_count": 41,
     "metadata": {},
     "output_type": "execute_result"
    }
   ],
   "source": [
    "def deco_fn(orig_fn):\n",
    "    def wrap_fn(*args, **kwargs):\n",
    "        print(\"<=== before ===>\")\n",
    "        ret = orig_fn(*args, **kwargs)\n",
    "        print(ret)\n",
    "        print(\"<=== after ===>\")\n",
    "        return ret\n",
    "\n",
    "    return wrap_fn\n",
    "\n",
    "\n",
    "@deco_fn\n",
    "def hello(name):\n",
    "    return name\n",
    "\n",
    "\n",
    "hello(name=\"meta\")"
   ]
  },
  {
   "cell_type": "markdown",
   "metadata": {},
   "source": [
    "将装饰器函数作为闭包函数返回。\n"
   ]
  },
  {
   "cell_type": "code",
   "execution_count": 42,
   "metadata": {},
   "outputs": [
    {
     "name": "stdout",
     "output_type": "stream",
     "text": [
      "<=== before ===>\n",
      "hello, meta\n",
      "<=== after ===>\n"
     ]
    },
    {
     "data": {
      "text/plain": [
       "'meta'"
      ]
     },
     "execution_count": 42,
     "metadata": {},
     "output_type": "execute_result"
    }
   ],
   "source": [
    "def deco_wrap(greeting, separator=\",\"):\n",
    "    def deco_fn(orig_fn):\n",
    "        def wrap_fn(*args, **kwargs):\n",
    "            print(\"<=== before ===>\")\n",
    "            ret = orig_fn(*args, **kwargs)\n",
    "            print(f\"{greeting}{separator} {ret}\")\n",
    "            print(\"<=== after ===>\")\n",
    "            return ret\n",
    "\n",
    "        return wrap_fn\n",
    "\n",
    "    return deco_fn\n",
    "\n",
    "\n",
    "@deco_wrap(greeting=\"hello\", separator=\",\")\n",
    "def hello(name):\n",
    "    return name\n",
    "\n",
    "\n",
    "hello(name=\"meta\")"
   ]
  },
  {
   "cell_type": "markdown",
   "metadata": {},
   "source": [
    "使用装饰器函数装饰一个类。\n"
   ]
  },
  {
   "cell_type": "code",
   "execution_count": 43,
   "metadata": {},
   "outputs": [
    {
     "name": "stdout",
     "output_type": "stream",
     "text": [
      "初始化装饰器类\n",
      "调用类实例方法\n",
      "调用装饰方法\n"
     ]
    }
   ],
   "source": [
    "def class_decorator(cls):\n",
    "    # 定义一个新的类\n",
    "    class DecoratedClass(cls):\n",
    "        def __init__(self, *args, **kwargs):\n",
    "            # 在实例化新的类之前执行的操作\n",
    "            print(\"初始化装饰器类\")\n",
    "            super().__init__(*args, **kwargs)\n",
    "\n",
    "        def decorated_method(self):\n",
    "            # 在装饰的方法中执行的操作\n",
    "            print(\"调用装饰方法\")\n",
    "\n",
    "    return DecoratedClass\n",
    "\n",
    "\n",
    "@class_decorator\n",
    "class OriginalClass:\n",
    "    def __init__(self, value):\n",
    "        self.value = value\n",
    "\n",
    "    def original_method(self):\n",
    "        print(\"调用类实例方法\")\n",
    "\n",
    "\n",
    "# 实例化装饰过的类\n",
    "decorated_instance = OriginalClass(10)\n",
    "\n",
    "# 调用原始方法\n",
    "decorated_instance.original_method()\n",
    "\n",
    "# 调用装饰方法\n",
    "decorated_instance.decorated_method()"
   ]
  },
  {
   "cell_type": "markdown",
   "metadata": {},
   "source": [
    "**定义装饰器类**\n"
   ]
  },
  {
   "cell_type": "markdown",
   "metadata": {},
   "source": [
    "使用装饰器类装饰一个函数。\n"
   ]
  },
  {
   "cell_type": "code",
   "execution_count": 44,
   "metadata": {},
   "outputs": [
    {
     "name": "stdout",
     "output_type": "stream",
     "text": [
      "调用函数：add\n",
      "函数 add 调用完成\n",
      "5\n"
     ]
    }
   ],
   "source": [
    "class DecoratorClass:\n",
    "    def __init__(self, fn):\n",
    "        self.fn = fn\n",
    "\n",
    "    def __call__(self, *args, **kwargs):\n",
    "        print(f\"调用函数：{self.fn.__name__}\")\n",
    "        ret = self.fn(*args, **kwargs)\n",
    "        print(f\"函数 {self.fn.__name__} 调用完成\")\n",
    "        return ret\n",
    "\n",
    "\n",
    "@DecoratorClass\n",
    "def add(a, b):\n",
    "    return a + b\n",
    "\n",
    "\n",
    "result = add(2, 3)\n",
    "print(result)"
   ]
  },
  {
   "cell_type": "markdown",
   "metadata": {},
   "source": [
    "使用装饰器类装饰一个类。\n"
   ]
  },
  {
   "cell_type": "code",
   "execution_count": 45,
   "metadata": {},
   "outputs": [
    {
     "name": "stdout",
     "output_type": "stream",
     "text": [
      "创建一个原始类实例\n",
      "原始类初始化\n",
      "原始类实例创建完成\n"
     ]
    }
   ],
   "source": [
    "class DecoratorClass:\n",
    "    def __init__(self, original_class):\n",
    "        self.original_class = original_class\n",
    "\n",
    "    def __call__(self, *args, **kwargs):\n",
    "        print(\"创建一个原始类实例\")\n",
    "        instance = self.original_class(*args, **kwargs)\n",
    "        print(\"原始类实例创建完成\")\n",
    "        return instance\n",
    "\n",
    "\n",
    "@DecoratorClass\n",
    "class DecoratedClass:\n",
    "    def __init__(self):\n",
    "        print(\"原始类初始化\")\n",
    "\n",
    "\n",
    "instance = DecoratedClass()"
   ]
  },
  {
   "cell_type": "markdown",
   "metadata": {},
   "source": [
    "可以看到，当装饰器装饰一个函数的时候，这个装饰器接收的参数就是这个函数，而当装饰器装饰一个类的时候，这个装饰器接收的参数就是这个类。\n",
    "因此当一个装饰器既能装饰函数又能装饰类的时候，需要判断装饰器接收参数的类型，再针对不同类型做不同的装饰处理。\n"
   ]
  }
 ],
 "metadata": {
  "kernelspec": {
   "display_name": ".venv",
   "language": "python",
   "name": "python3"
  },
  "language_info": {
   "codemirror_mode": {
    "name": "ipython",
    "version": 3
   },
   "file_extension": ".py",
   "mimetype": "text/x-python",
   "name": "python",
   "nbconvert_exporter": "python",
   "pygments_lexer": "ipython3",
   "version": "3.12.0"
  }
 },
 "nbformat": 4,
 "nbformat_minor": 2
}
