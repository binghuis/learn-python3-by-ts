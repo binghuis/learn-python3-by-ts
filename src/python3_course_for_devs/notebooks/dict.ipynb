{
 "cells": [
  {
   "cell_type": "markdown",
   "metadata": {},
   "source": [
    "# 字典\n",
    "\n",
    "字典是`可变类型`但非`序列类型`，（`可变类型`和`序列类型`的概念在 [数据类型]('./types.ipynb') 有讲）\n"
   ]
  },
  {
   "cell_type": "markdown",
   "metadata": {},
   "source": [
    "## 字典字面量操作\n"
   ]
  },
  {
   "cell_type": "code",
   "execution_count": 37,
   "metadata": {},
   "outputs": [
    {
     "data": {
      "text/plain": [
       "{'foo': 5, ('bar', 8): 'tt', 'new': 'new'}"
      ]
     },
     "execution_count": 37,
     "metadata": {},
     "output_type": "execute_result"
    }
   ],
   "source": [
    "# 字典的键必须是不可变的，所以字符串、数字、元组都可以作为字典的 key\n",
    "d1 = {\"foo\": 5, 2: 28, (\"bar\", 8): \"t\"}\n",
    "\n",
    "d1[\"foo\"]  # 读字典的一个属性值\n",
    "\n",
    "d1[(\"bar\", 8)] = \"tt\"  # 值更新\n",
    "\n",
    "d1[\"new\"] = \"new\"  # 新增\n",
    "\n",
    "del d1[2]  # 删除\n",
    "\n",
    "d1"
   ]
  },
  {
   "cell_type": "code",
   "execution_count": 38,
   "metadata": {},
   "outputs": [
    {
     "name": "stdout",
     "output_type": "stream",
     "text": [
      "{'a': 2}\n",
      "{True: 2}\n"
     ]
    }
   ],
   "source": [
    "# 字典的键如果重复，那么后面的值会覆盖前面的\n",
    "\n",
    "d2 = {\"a\": 1, \"a\": 2}\n",
    "print(d2)\n",
    "\n",
    "# 注意 布尔型和数字类型的关系\n",
    "d3 = {True: 1, 1: 2}\n",
    "print(d3)"
   ]
  },
  {
   "cell_type": "markdown",
   "metadata": {},
   "source": [
    "## 字典内置方法/标准库操作\n"
   ]
  },
  {
   "cell_type": "code",
   "execution_count": 39,
   "metadata": {},
   "outputs": [
    {
     "data": {
      "text/plain": [
       "{}"
      ]
     },
     "execution_count": 39,
     "metadata": {},
     "output_type": "execute_result"
    }
   ],
   "source": [
    "# 清空\n",
    "d3.clear()\n",
    "d3"
   ]
  },
  {
   "cell_type": "markdown",
   "metadata": {},
   "source": [
    "### 浅拷贝\n"
   ]
  },
  {
   "cell_type": "code",
   "execution_count": 40,
   "metadata": {},
   "outputs": [
    {
     "name": "stdout",
     "output_type": "stream",
     "text": [
      "{'x1': {'x2': {'x3': 4}}, 'y1': 1} False\n",
      "1 11 False\n",
      "{'x2': 22} {'x2': 22} True\n"
     ]
    }
   ],
   "source": [
    "# 浅拷贝：只深拷贝一级元素，子对象依然是原始字典对应引用\n",
    "\n",
    "d4 = {\"x1\": {\"x2\": {\"x3\": 4}}, \"y1\": 1}\n",
    "\n",
    "d4c_deep = d4.copy()\n",
    "\n",
    "print(d4c_deep, id(d4) == id(d4c_deep))  # d4 和 d4c_deep 内存地址不同\n",
    "\n",
    "# 修改一级元素的值\n",
    "d4c_deep[\"y1\"] = 11\n",
    "\n",
    "# 一级元素值不等，内存地址也不同\n",
    "print(d4[\"y1\"], d4c_deep[\"y1\"], d4[\"y1\"] is d4c_deep[\"y1\"])\n",
    "\n",
    "# 修改二级元素的值\n",
    "d4c_deep[\"x1\"][\"x2\"] = 22\n",
    "\n",
    "# 二级元素值不等，内存地址也不同，证明二级元素是值拷贝\n",
    "print(d4[\"x1\"], d4c_deep[\"x1\"], d4[\"x1\"] is d4c_deep[\"x1\"])"
   ]
  },
  {
   "cell_type": "markdown",
   "metadata": {},
   "source": [
    "### 深拷贝\n"
   ]
  },
  {
   "cell_type": "code",
   "execution_count": 41,
   "metadata": {},
   "outputs": [
    {
     "name": "stdout",
     "output_type": "stream",
     "text": [
      "{'x1': {'x2': {'x3': 4}}, 'y1': 1} False\n",
      "1 11 False\n",
      "{'x2': {'x3': 4}} {'x2': 22} False\n"
     ]
    }
   ],
   "source": [
    "from copy import deepcopy\n",
    "\n",
    "d5 = {\"x1\": {\"x2\": {\"x3\": 4}}, \"y1\": 1}\n",
    "\n",
    "d5c_deep = deepcopy(d5)\n",
    "\n",
    "print(d5c_deep, id(d5) == id(d5c_deep))  # d5 和 d5c_deep 内存地址不同\n",
    "\n",
    "# 修改一级元素的值\n",
    "d5c_deep[\"y1\"] = 11\n",
    "\n",
    "# 一级元素值不等，内存地址也不同\n",
    "print(d5[\"y1\"], d5c_deep[\"y1\"], d5[\"y1\"] is d5c_deep[\"y1\"])\n",
    "\n",
    "# 修改二级元素的值\n",
    "d5c_deep[\"x1\"][\"x2\"] = 22\n",
    "\n",
    "# 二级元素值不等，内存地址也不同，证明二级元素是值拷贝\n",
    "print(d5[\"x1\"], d5c_deep[\"x1\"], d5[\"x1\"] is d5c_deep[\"x1\"])"
   ]
  },
  {
   "cell_type": "code",
   "execution_count": 54,
   "metadata": {},
   "outputs": [
    {
     "data": {
      "text/plain": [
       "\"{('bar', 8): 'tt', 'new': 'new'}\""
      ]
     },
     "execution_count": 54,
     "metadata": {},
     "output_type": "execute_result"
    }
   ],
   "source": [
    "str(d1)"
   ]
  },
  {
   "cell_type": "code",
   "execution_count": 43,
   "metadata": {},
   "outputs": [
    {
     "data": {
      "text/plain": [
       "{1: None, 's': None, ('t', 3): None}"
      ]
     },
     "execution_count": 43,
     "metadata": {},
     "output_type": "execute_result"
    }
   ],
   "source": [
    "dict.fromkeys([1, \"s\", (\"t\", 3), True])"
   ]
  },
  {
   "cell_type": "code",
   "execution_count": 44,
   "metadata": {},
   "outputs": [],
   "source": [
    "# 值获取\n",
    "d2.get(\"a1\")"
   ]
  },
  {
   "cell_type": "code",
   "execution_count": 45,
   "metadata": {},
   "outputs": [
    {
     "data": {
      "text/plain": [
       "[('a', 2)]"
      ]
     },
     "execution_count": 45,
     "metadata": {},
     "output_type": "execute_result"
    }
   ],
   "source": [
    "type(d2.items())\n",
    "list(d2.items())"
   ]
  },
  {
   "cell_type": "code",
   "execution_count": 46,
   "metadata": {},
   "outputs": [
    {
     "data": {
      "text/plain": [
       "['a']"
      ]
     },
     "execution_count": 46,
     "metadata": {},
     "output_type": "execute_result"
    }
   ],
   "source": [
    "type(d2.keys())\n",
    "list(d2.keys())"
   ]
  },
  {
   "cell_type": "code",
   "execution_count": 47,
   "metadata": {},
   "outputs": [
    {
     "data": {
      "text/plain": [
       "[2]"
      ]
     },
     "execution_count": 47,
     "metadata": {},
     "output_type": "execute_result"
    }
   ],
   "source": [
    "type(d2.values())\n",
    "list(d2.values())"
   ]
  },
  {
   "cell_type": "code",
   "execution_count": 48,
   "metadata": {},
   "outputs": [
    {
     "data": {
      "text/plain": [
       "{'foo': 5, ('bar', 8): 'tt', 'new': 'new', 'a': 2}"
      ]
     },
     "execution_count": 48,
     "metadata": {},
     "output_type": "execute_result"
    }
   ],
   "source": [
    "d1.update(d2)\n",
    "d1"
   ]
  },
  {
   "cell_type": "code",
   "execution_count": 49,
   "metadata": {},
   "outputs": [
    {
     "data": {
      "text/plain": [
       "5"
      ]
     },
     "execution_count": 49,
     "metadata": {},
     "output_type": "execute_result"
    }
   ],
   "source": [
    "d1.pop(\"foo\")"
   ]
  },
  {
   "cell_type": "code",
   "execution_count": 50,
   "metadata": {},
   "outputs": [
    {
     "data": {
      "text/plain": [
       "('a', 2)"
      ]
     },
     "execution_count": 50,
     "metadata": {},
     "output_type": "execute_result"
    }
   ],
   "source": [
    "d1.popitem()"
   ]
  }
 ],
 "metadata": {
  "kernelspec": {
   "display_name": ".venv",
   "language": "python",
   "name": "python3"
  },
  "language_info": {
   "codemirror_mode": {
    "name": "ipython",
    "version": 3
   },
   "file_extension": ".py",
   "mimetype": "text/x-python",
   "name": "python",
   "nbconvert_exporter": "python",
   "pygments_lexer": "ipython3",
   "version": "3.10.6"
  },
  "orig_nbformat": 4
 },
 "nbformat": 4,
 "nbformat_minor": 2
}
