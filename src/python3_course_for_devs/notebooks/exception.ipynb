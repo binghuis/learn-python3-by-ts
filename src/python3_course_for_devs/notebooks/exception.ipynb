{
 "cells": [
  {
   "cell_type": "markdown",
   "metadata": {},
   "source": [
    "# 异常处理\n"
   ]
  },
  {
   "cell_type": "markdown",
   "metadata": {},
   "source": [
    "## 断言\n",
    "\n",
    "断言语句 `assert` 遇到[假值]('./bool.ipynb')则抛 `AssertionError` 异常\n",
    "\n",
    "`assert expression`\n",
    "\n",
    "等价于\n",
    "\n",
    "```py\n",
    "if not expression:\n",
    "    raise AssertionError\n",
    "```\n",
    "\n",
    "---\n",
    "\n",
    "`assert expression [, arguments]`\n",
    "\n",
    "等价于\n",
    "\n",
    "```py\n",
    "if not expression:\n",
    "    raise AssertionError(arguments)\n",
    "```\n"
   ]
  },
  {
   "cell_type": "code",
   "execution_count": 64,
   "metadata": {},
   "outputs": [
    {
     "name": "stdout",
     "output_type": "stream",
     "text": [
      "布尔型是整型的子类型\n"
     ]
    }
   ],
   "source": [
    "# 由于 1 != True 为假，所以断言抛出异常，在 try except 中捕获异常，并打印断言异常的携带信息\n",
    "try:\n",
    "    assert 1 != True, \"布尔型是整型的子类型\"\n",
    "except AssertionError as err:\n",
    "    print(err)"
   ]
  },
  {
   "cell_type": "markdown",
   "metadata": {},
   "source": [
    "## 主动抛异常\n",
    "\n",
    "使用 `raise` 语句可以主动抛出一个异常\n"
   ]
  },
  {
   "cell_type": "code",
   "execution_count": 65,
   "metadata": {},
   "outputs": [
    {
     "name": "stdout",
     "output_type": "stream",
     "text": [
      "raise 默认抛出一个 RuntimeError\n"
     ]
    }
   ],
   "source": [
    "try:\n",
    "    raise\n",
    "except RuntimeError:\n",
    "    print(\"raise 默认抛出一个 RuntimeError\")"
   ]
  },
  {
   "cell_type": "markdown",
   "metadata": {},
   "source": [
    "注意：`raise` 语句如果在 `except` 中，那么将会抛出当前捕获的异常，而不一定是 `RuntimeError`\n"
   ]
  },
  {
   "cell_type": "code",
   "execution_count": 66,
   "metadata": {},
   "outputs": [
    {
     "name": "stdout",
     "output_type": "stream",
     "text": [
      "指定 raise 抛出一个 TypeError\n"
     ]
    }
   ],
   "source": [
    "try:\n",
    "    try:\n",
    "        raise TypeError(\"指定 raise 抛出一个 TypeError\")\n",
    "    except:\n",
    "        # except 里的 raise 将当前捕获到的 TypeError 直接抛到外层\n",
    "        raise\n",
    "except TypeError as err:\n",
    "    print(err)"
   ]
  },
  {
   "cell_type": "markdown",
   "metadata": {},
   "source": [
    "## 异常捕获\n"
   ]
  },
  {
   "cell_type": "code",
   "execution_count": 67,
   "metadata": {},
   "outputs": [
    {
     "name": "stdout",
     "output_type": "stream",
     "text": [
      "异常信息捕获 抛异常\n",
      "有没有异常都执行\n"
     ]
    }
   ],
   "source": [
    "try:\n",
    "    raise TypeError(\"抛异常\")\n",
    "\n",
    "except TypeError as err:\n",
    "    print(\"异常信息捕获\", err)\n",
    "\n",
    "except (ValueError, NameError):\n",
    "    print(\"多异常捕获\")\n",
    "\n",
    "except:\n",
    "    print(\"剩余异常捕获\")\n",
    "\n",
    "else:\n",
    "    print(\"没有异常则执行\")\n",
    "\n",
    "finally:\n",
    "    print(\"有没有异常都执行\")"
   ]
  },
  {
   "cell_type": "markdown",
   "metadata": {},
   "source": [
    "## 自定义异常\n"
   ]
  },
  {
   "cell_type": "code",
   "execution_count": 108,
   "metadata": {},
   "outputs": [
    {
     "name": "stdout",
     "output_type": "stream",
     "text": [
      "<class '__main__.CustomException'>\n",
      "True\n",
      "'服务异常' 500\n"
     ]
    }
   ],
   "source": [
    "class CustomException(Exception):\n",
    "    def __init__(self, message, error_code=None):\n",
    "        self.message = message\n",
    "        self.error_code = error_code\n",
    "        super().__init__(repr(self.message))\n",
    "\n",
    "    def __repr__(self):\n",
    "        return repr(self.message)\n",
    "\n",
    "    def get_error_code(self):\n",
    "        return self.error_code\n",
    "\n",
    "\n",
    "try:\n",
    "    raise CustomException(\"服务异常\", 500)\n",
    "except CustomException as e:  # as 返回一个 CustomException 类型的错误对象\n",
    "    print(type(e))\n",
    "    print(isinstance(e, CustomException))\n",
    "    print(e, e.get_error_code())"
   ]
  }
 ],
 "metadata": {
  "kernelspec": {
   "display_name": ".venv",
   "language": "python",
   "name": "python3"
  },
  "language_info": {
   "codemirror_mode": {
    "name": "ipython",
    "version": 3
   },
   "file_extension": ".py",
   "mimetype": "text/x-python",
   "name": "python",
   "nbconvert_exporter": "python",
   "pygments_lexer": "ipython3",
   "version": "3.10.6"
  },
  "orig_nbformat": 4
 },
 "nbformat": 4,
 "nbformat_minor": 2
}
