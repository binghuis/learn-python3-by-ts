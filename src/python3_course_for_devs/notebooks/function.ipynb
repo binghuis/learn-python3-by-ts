{
 "cells": [
  {
   "cell_type": "markdown",
   "metadata": {},
   "source": [
    "# 函数\n"
   ]
  },
  {
   "cell_type": "markdown",
   "metadata": {},
   "source": [
    "## 定义函数\n"
   ]
  },
  {
   "cell_type": "code",
   "execution_count": 88,
   "metadata": {},
   "outputs": [
    {
     "data": {
      "text/plain": [
       "'你好, 开发者'"
      ]
     },
     "execution_count": 88,
     "metadata": {},
     "output_type": "execute_result"
    }
   ],
   "source": [
    "# 函数 hello 接收一个姓名参数，并返回打招呼信息\n",
    "\n",
    "\n",
    "def hello(name):\n",
    "    return f\"你好, {name}\"\n",
    "\n",
    "\n",
    "hello(\"开发者\")"
   ]
  },
  {
   "cell_type": "markdown",
   "metadata": {},
   "source": [
    "## 函数传参\n",
    "\n",
    "函数传参类似于进行 [赋值操作](./copy.ipynb)。\n",
    "如果参数是不可变对象，那么传参过程为值传递。\n",
    "如果参数是可变对象，那么传参过程为引用传递。\n"
   ]
  },
  {
   "cell_type": "markdown",
   "metadata": {},
   "source": [
    "**必需参数、非必需参数**\n",
    "\n",
    "- 必需参数：必传参数，如果参数没有默认值，那么则为必需参数\n",
    "- 非必需参数：非必传参数，如果参数有默认值，那么则为非必需参数\n"
   ]
  },
  {
   "cell_type": "markdown",
   "metadata": {},
   "source": [
    "**位置参数、关键字参数**\n",
    "\n",
    "- 位置参数：按照定义顺序传递参数\n",
    "- 关键字参数：通过参数名传递参数\n",
    "\n",
    "位置参数与关键字参数一起使用时，位置参数必须在关键字参数之前。\n"
   ]
  },
  {
   "cell_type": "code",
   "execution_count": 89,
   "metadata": {},
   "outputs": [
    {
     "name": "stdout",
     "output_type": "stream",
     "text": [
      "你好, 开发者\n",
      "你好, 开发者\n",
      "你好, 开发者\n"
     ]
    }
   ],
   "source": [
    "# 参数 name 是必需参数\n",
    "# 参数 greeting 和 separator 是非必需参数\n",
    "def greet(name, greeting=\"hello\", separator=\",\"):\n",
    "    print(f\"{greeting}{separator} {name}\")\n",
    "\n",
    "\n",
    "# 位置参数\n",
    "greet(\"开发者\", \"你好\")\n",
    "\n",
    "# 关键字参数\n",
    "greet(greeting=\"你好\", name=\"开发者\")\n",
    "\n",
    "# 位置参数与关键字参数一起使用，位置参数在前\n",
    "greet(\"开发者\", greeting=\"你好\", separator=\",\")"
   ]
  },
  {
   "cell_type": "markdown",
   "metadata": {},
   "source": [
    "**不定长参数**\n",
    "\n",
    "- 参数带一个星 `*`：用于收集任意数量的位置参数并打包成元组\n",
    "- 参数带两个星 `**`：用于收集任意数量的关键字参数并打包成字典\n"
   ]
  },
  {
   "cell_type": "code",
   "execution_count": 90,
   "metadata": {},
   "outputs": [
    {
     "name": "stdout",
     "output_type": "stream",
     "text": [
      "你好, 开发者 ('前端', '服务端', '客户端')\n",
      "<class 'tuple'>\n"
     ]
    }
   ],
   "source": [
    "def greet_more(name, greeting=\"hello\", separator=\",\", *other):\n",
    "    print(f\"{greeting}{separator} {name} {other}\")\n",
    "    print(type(other))\n",
    "\n",
    "\n",
    "greet_more(\"开发者\", \"你好\", \",\", \"前端\", \"服务端\", \"客户端\")"
   ]
  },
  {
   "cell_type": "code",
   "execution_count": 91,
   "metadata": {},
   "outputs": [
    {
     "name": "stdout",
     "output_type": "stream",
     "text": [
      "你好, 开发者 {'fe': '前端', 'be': '服务端', 'app': '客户端'}\n",
      "<class 'dict'>\n"
     ]
    }
   ],
   "source": [
    "def greet_more(name, greeting=\"hello\", separator=\",\", **other):\n",
    "    print(f\"{greeting}{separator} {name} {other}\")\n",
    "    print(type(other))\n",
    "\n",
    "\n",
    "greet_more(\"开发者\", \"你好\", \",\", fe=\"前端\", be=\"服务端\", app=\"客户端\")"
   ]
  },
  {
   "cell_type": "markdown",
   "metadata": {},
   "source": [
    "**强制位置参数、强制关键字参数**\n",
    "\n",
    "- 符号 `/` 之前的参数被视为位置参数\n",
    "- 符号 `*` 之后的参数将被视为关键字参数\n"
   ]
  },
  {
   "cell_type": "code",
   "execution_count": 92,
   "metadata": {},
   "outputs": [
    {
     "name": "stdout",
     "output_type": "stream",
     "text": [
      "1 2 3 4 5 6\n"
     ]
    }
   ],
   "source": [
    "def foo(a, b, /, c, d, *, e, f):\n",
    "    print(a, b, c, d, e, f)\n",
    "\n",
    "\n",
    "foo(1, 2, 3, d=4, e=5, f=6)"
   ]
  },
  {
   "cell_type": "markdown",
   "metadata": {},
   "source": [
    "## `lambda` 函数\n",
    "\n",
    "`Lambda` 函数是用一行代码定义的一个匿名函数。\n",
    "\n",
    "语法：`lambda 参数列表: 执行语句`\n"
   ]
  },
  {
   "cell_type": "code",
   "execution_count": 93,
   "metadata": {},
   "outputs": [
    {
     "data": {
      "text/plain": [
       "3"
      ]
     },
     "execution_count": 93,
     "metadata": {},
     "output_type": "execute_result"
    }
   ],
   "source": [
    "add = lambda x, y: x + y\n",
    "\n",
    "add(1, 2)"
   ]
  }
 ],
 "metadata": {
  "kernelspec": {
   "display_name": ".venv",
   "language": "python",
   "name": "python3"
  },
  "language_info": {
   "codemirror_mode": {
    "name": "ipython",
    "version": 3
   },
   "file_extension": ".py",
   "mimetype": "text/x-python",
   "name": "python",
   "nbconvert_exporter": "python",
   "pygments_lexer": "ipython3",
   "version": "3.10.6"
  },
  "orig_nbformat": 4
 },
 "nbformat": 4,
 "nbformat_minor": 2
}
