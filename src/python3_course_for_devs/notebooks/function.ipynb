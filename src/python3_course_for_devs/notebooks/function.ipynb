{
 "cells": [
  {
   "cell_type": "markdown",
   "metadata": {},
   "source": [
    "# 函数\n",
    "\n",
    "函数大家都熟悉，那就直接看 python 中函数长什么样吧\n"
   ]
  },
  {
   "cell_type": "markdown",
   "metadata": {},
   "source": [
    "## 一个简单的函数\n"
   ]
  },
  {
   "cell_type": "code",
   "execution_count": 6,
   "metadata": {},
   "outputs": [
    {
     "name": "stdout",
     "output_type": "stream",
     "text": [
      "hello, world\n",
      "hello, 李华\n",
      "hello, 李华\n"
     ]
    },
    {
     "data": {
      "text/plain": [
       "'hello, 李华'"
      ]
     },
     "execution_count": 6,
     "metadata": {},
     "output_type": "execute_result"
    }
   ],
   "source": [
    "# 定义函数 hello，接收一个参数 name，类型为字符串，默认值为“小帅”\n",
    "# 函数里拼接了一个字符串，打印并返回\n",
    "def hello(name: str = \"小帅\"):\n",
    "    ret = f\"你好, {name}\"\n",
    "    print(ret)\n",
    "    return ret\n",
    "\n",
    "\n",
    "# 不传参则打印默认参数\n",
    "hello()\n",
    "hello(\"永强\")\n",
    "hello(name=\"永强\")"
   ]
  }
 ],
 "metadata": {
  "kernelspec": {
   "display_name": ".venv",
   "language": "python",
   "name": "python3"
  },
  "language_info": {
   "codemirror_mode": {
    "name": "ipython",
    "version": 3
   },
   "file_extension": ".py",
   "mimetype": "text/x-python",
   "name": "python",
   "nbconvert_exporter": "python",
   "pygments_lexer": "ipython3",
   "version": "3.10.6"
  },
  "orig_nbformat": 4
 },
 "nbformat": 4,
 "nbformat_minor": 2
}
