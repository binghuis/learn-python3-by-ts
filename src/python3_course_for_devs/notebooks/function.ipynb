{
 "cells": [
  {
   "cell_type": "markdown",
   "metadata": {},
   "source": [
    "# 函数\n"
   ]
  },
  {
   "cell_type": "markdown",
   "metadata": {},
   "source": [
    "## 一个简单的函数\n",
    "\n",
    "下面声明一个非常简单的函数，它接收一个姓名参数，并返回打招呼信息，python 函数的基本写法就是这样\n"
   ]
  },
  {
   "cell_type": "code",
   "execution_count": 59,
   "metadata": {},
   "outputs": [
    {
     "data": {
      "text/plain": [
       "'你好, 永强'"
      ]
     },
     "execution_count": 59,
     "metadata": {},
     "output_type": "execute_result"
    }
   ],
   "source": [
    "def hello(name):\n",
    "    return f\"你好, {name}\"\n",
    "\n",
    "\n",
    "hello(\"永强\")"
   ]
  },
  {
   "cell_type": "markdown",
   "metadata": {},
   "source": [
    "## 参数\n",
    "\n",
    "函数传参实际上是一次赋值操作。对于`可变类型`是引用拷贝，对于`不可变类型`是值拷贝，具体解释看[拷贝]('./copy.ipynb')这节\n",
    "\n",
    "如果参数没有默认值，则参数是必传参数，如果有默认值，那么参数不必传\n"
   ]
  },
  {
   "cell_type": "markdown",
   "metadata": {},
   "source": [
    "### 必需参数 & 非必需参数\n",
    "\n",
    "参数有默认值即为`非必需参数`，否则为`必需参数`\n"
   ]
  },
  {
   "cell_type": "markdown",
   "metadata": {},
   "source": [
    "### 位置参数 & 关键字参数\n",
    "\n",
    "位置参数是按照它们在函数定义中出现的顺序进行传递的参数。调用函数时，位置参数需要按照函数定义中参数的顺序进行传递，且数量必须匹配。位置参数的顺序和数量是非常重要的，因为它们决定了参数的对应关系。\n",
    "\n",
    "关键字参数是通过参数名称进行传递的参数。调用函数时，可以明确指定每个参数的名称和对应的值，而不必按照参数定义的顺序。这种方式使得函数调用更加清晰和可读，并且可以更灵活地选择传递哪些参数。\n",
    "\n",
    "关键字参数可以与位置参数混合使用。当使用混合方式时，位置参数必须在关键字参数之前传递。\n"
   ]
  },
  {
   "cell_type": "code",
   "execution_count": 60,
   "metadata": {},
   "outputs": [
    {
     "name": "stdout",
     "output_type": "stream",
     "text": [
      "你好, 永强\n",
      "你好, 永强\n",
      "你好, 永强\n"
     ]
    }
   ],
   "source": [
    "# 参数 name 没有默认值，是必需参数\n",
    "# 参数 greeting 有默认值，是非必需参数\n",
    "def greet(name, greeting=\"hello\", separator=\",\"):\n",
    "    print(f\"{greeting}{separator} {name}\")\n",
    "\n",
    "\n",
    "# 位置参数\n",
    "greet(\"永强\", \"你好\")\n",
    "\n",
    "# 关键字参数\n",
    "greet(greeting=\"你好\", name=\"永强\")\n",
    "\n",
    "# 位置参数与关键字参数混用，关键字参数后面不能再有位置参数\n",
    "greet(\"永强\", greeting=\"你好\", separator=\",\")"
   ]
  },
  {
   "cell_type": "markdown",
   "metadata": {},
   "source": [
    "### 不定长参数\n",
    "\n",
    "参数带一个星号 `*` 用于收集任意数量的位置参数并打包成元组，而参数带两个星号 `**` 用于收集任意数量的关键字参数并打包成字典。\n"
   ]
  },
  {
   "cell_type": "code",
   "execution_count": 61,
   "metadata": {},
   "outputs": [
    {
     "name": "stdout",
     "output_type": "stream",
     "text": [
      "你好, 永强 ('小美', '小帅', '大壮')\n"
     ]
    }
   ],
   "source": [
    "def greet_more(name, greeting=\"hello\", separator=\",\", *other):\n",
    "    print(f\"{greeting}{separator} {name} {other}\")\n",
    "\n",
    "\n",
    "greet_more(\"永强\", \"你好\", \",\", \"小美\", \"小帅\", \"大壮\")"
   ]
  },
  {
   "cell_type": "code",
   "execution_count": 62,
   "metadata": {},
   "outputs": [
    {
     "name": "stdout",
     "output_type": "stream",
     "text": [
      "你好, 永强 {'a': '小美', 'b': '小帅', 'c': '大壮'}\n"
     ]
    }
   ],
   "source": [
    "def greet_more(name, greeting=\"hello\", separator=\",\", **other):\n",
    "    print(f\"{greeting}{separator} {name} {other}\")\n",
    "\n",
    "\n",
    "greet_more(\"永强\", \"你好\", \",\", a=\"小美\", b=\"小帅\", c=\"大壮\")"
   ]
  },
  {
   "cell_type": "markdown",
   "metadata": {},
   "source": [
    "### 强制位置参数 & 强制关键字参数\n",
    "\n",
    "符号 `/` 之前的参数被视为位置参数，调用函数时必须按照它们在函数定义中的顺序提供参数值\n",
    "\n",
    "符号 `*` 之后的参数将被视为关键字参数，调用函数时必须通过参数名称指定参数值\n"
   ]
  },
  {
   "cell_type": "code",
   "execution_count": 63,
   "metadata": {},
   "outputs": [
    {
     "name": "stdout",
     "output_type": "stream",
     "text": [
      "10 20 30 40 50 60\n"
     ]
    }
   ],
   "source": [
    "def f(a, b, /, c, d, *, e, f):\n",
    "    print(a, b, c, d, e, f)\n",
    "\n",
    "\n",
    "f(10, 20, 30, d=40, e=50, f=60)"
   ]
  },
  {
   "cell_type": "markdown",
   "metadata": {},
   "source": [
    "## lambda 函数\n",
    "\n",
    "Lambda 函数是一种匿名函数，它是一种用于创建简单函数的一行代码的快捷方式。Lambda 函数通常用于需要一个函数对象的地方，但只需要一个简单的表达式来定义函数逻辑。\n",
    "\n",
    "Lambda 函数语法：\n",
    "\n",
    "`lambda 参数列表: 执行语句`\n"
   ]
  },
  {
   "cell_type": "code",
   "execution_count": 64,
   "metadata": {},
   "outputs": [
    {
     "name": "stdout",
     "output_type": "stream",
     "text": [
      "8\n"
     ]
    }
   ],
   "source": [
    "add = lambda x, y: x + y\n",
    "print(add(3, 5))  # 输出：8"
   ]
  }
 ],
 "metadata": {
  "kernelspec": {
   "display_name": ".venv",
   "language": "python",
   "name": "python3"
  },
  "language_info": {
   "codemirror_mode": {
    "name": "ipython",
    "version": 3
   },
   "file_extension": ".py",
   "mimetype": "text/x-python",
   "name": "python",
   "nbconvert_exporter": "python",
   "pygments_lexer": "ipython3",
   "version": "3.10.6"
  },
  "orig_nbformat": 4
 },
 "nbformat": 4,
 "nbformat_minor": 2
}
