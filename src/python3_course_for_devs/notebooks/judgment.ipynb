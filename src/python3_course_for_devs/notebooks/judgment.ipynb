{
 "cells": [
  {
   "cell_type": "markdown",
   "metadata": {},
   "source": [
    "# 条件控制\n"
   ]
  },
  {
   "cell_type": "markdown",
   "metadata": {},
   "source": [
    "## `if`\n",
    "\n",
    "```py\n",
    "if 判断条件:\n",
    "    执行语句\n",
    "```\n",
    "\n",
    "`if` 后的判断条件为真则执行下面的语句，这里的“真”和“假”不是单纯的布尔类型的 `True` 和 `False`，而是逻辑上的真假值\n",
    "\n",
    "关于真假值请务必阅读[真假值]('./bool.ipynb')这节的内容\n"
   ]
  },
  {
   "cell_type": "code",
   "execution_count": 4,
   "metadata": {},
   "outputs": [
    {
     "name": "stdout",
     "output_type": "stream",
     "text": [
      "B\n"
     ]
    }
   ],
   "source": [
    "### `if elif else`\n",
    "\n",
    "score = 8.5\n",
    "\n",
    "if score >= 9:\n",
    "    print(\"A\")\n",
    "elif score >= 8:\n",
    "    print(\"B\")\n",
    "else:\n",
    "    print(\"C\")"
   ]
  },
  {
   "cell_type": "markdown",
   "metadata": {},
   "source": [
    "## `match case`\n",
    "\n",
    "`match case` 使用严格匹配规则，也就是值和类型都要匹配\n",
    "\n",
    "tip：`_` 可以匹配所有条件\n"
   ]
  },
  {
   "cell_type": "code",
   "execution_count": 5,
   "metadata": {},
   "outputs": [
    {
     "name": "stdout",
     "output_type": "stream",
     "text": [
      "继续努力\n"
     ]
    }
   ],
   "source": [
    "score = 30\n",
    "match score:\n",
    "    case 100:\n",
    "        print(\"保持热爱\")\n",
    "    case 0 | 1:\n",
    "        print(\"建议说唱\")\n",
    "    case _:\n",
    "        print(\"继续努力\")"
   ]
  },
  {
   "cell_type": "markdown",
   "metadata": {},
   "source": [
    "比较运算符\n"
   ]
  },
  {
   "cell_type": "markdown",
   "metadata": {},
   "source": [
    "逻辑运算符\n"
   ]
  }
 ],
 "metadata": {
  "kernelspec": {
   "display_name": ".venv",
   "language": "python",
   "name": "python3"
  },
  "language_info": {
   "codemirror_mode": {
    "name": "ipython",
    "version": 3
   },
   "file_extension": ".py",
   "mimetype": "text/x-python",
   "name": "python",
   "nbconvert_exporter": "python",
   "pygments_lexer": "ipython3",
   "version": "3.10.6"
  },
  "orig_nbformat": 4
 },
 "nbformat": 4,
 "nbformat_minor": 2
}
