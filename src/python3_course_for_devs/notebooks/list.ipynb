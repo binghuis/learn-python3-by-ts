{
 "cells": [
  {
   "cell_type": "markdown",
   "metadata": {},
   "source": [
    "# 列表\n",
    "\n",
    "list 是 python 序列类型之一，可容纳不同类型的元素，这一点与数组不同。\n"
   ]
  },
  {
   "cell_type": "code",
   "execution_count": 12,
   "metadata": {},
   "outputs": [
    {
     "name": "stdout",
     "output_type": "stream",
     "text": [
      "['bar', 6, True, 3.4, None, {'a': 'b'}]\n"
     ]
    }
   ],
   "source": [
    "# 声明 list 字面量 foo\n",
    "foo = [\"bar\", 6, True, 3.4, None, {\"a\": \"b\"}]\n",
    "print(foo)"
   ]
  },
  {
   "cell_type": "code",
   "execution_count": 47,
   "metadata": {},
   "outputs": [
    {
     "data": {
      "text/plain": [
       "[3, 2]"
      ]
     },
     "execution_count": 47,
     "metadata": {},
     "output_type": "execute_result"
    }
   ],
   "source": [
    "# 由于 list 属于序列类型，所以可实现通用序列操作\n",
    "\n",
    "foo[1]\n",
    "foo[-2]\n",
    "foo[2:4]\n",
    "foo[2:-1]\n",
    "foo[-6:-1]\n",
    "\n",
    "3.4 in foo\n",
    "3.4 not in foo\n",
    "\n",
    "[1, 2, \"dd\"] + [5, \"u\"]\n",
    "[5, \"u\"] * 3\n",
    "\n",
    "len(foo)\n",
    "\n",
    "max([1, 2])\n",
    "min([1, 2])"
   ]
  },
  {
   "cell_type": "code",
   "execution_count": 62,
   "metadata": {},
   "outputs": [],
   "source": [
    "# list 内置方法\n",
    "\n",
    "bar = [\"bar\", 6, True, 3.4, None, {\"a\": \"b\"}]\n",
    "bar.append(\"add\")\n",
    "bar.pop(0)\n",
    "del bar[-1]\n",
    "bar.extend((9, 4, 5))\n",
    "bar.count({\"a\": \"b\"})\n",
    "bar.index({\"a\": \"b\"})\n",
    "bar.insert(1, \"pp\")\n",
    "bar.remove(\"pp\")\n",
    "bar.reverse()\n",
    "[1, 2].sort()\n",
    "bar.copy()\n",
    "bar.clear()"
   ]
  },
  {
   "cell_type": "code",
   "execution_count": 70,
   "metadata": {},
   "outputs": [
    {
     "name": "stdout",
     "output_type": "stream",
     "text": [
      "True\n",
      "False\n"
     ]
    }
   ],
   "source": [
    "import operator\n",
    "\n",
    "b = [2, 3]\n",
    "c = [2, 3]\n",
    "print(operator.eq(c, b))\n",
    "\n",
    "print(b is c)"
   ]
  }
 ],
 "metadata": {
  "kernelspec": {
   "display_name": ".venv",
   "language": "python",
   "name": "python3"
  },
  "language_info": {
   "codemirror_mode": {
    "name": "ipython",
    "version": 3
   },
   "file_extension": ".py",
   "mimetype": "text/x-python",
   "name": "python",
   "nbconvert_exporter": "python",
   "pygments_lexer": "ipython3",
   "version": "3.10.6"
  },
  "orig_nbformat": 4
 },
 "nbformat": 4,
 "nbformat_minor": 2
}
