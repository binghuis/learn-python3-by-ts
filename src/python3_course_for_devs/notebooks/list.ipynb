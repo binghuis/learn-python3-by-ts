{
 "cells": [
  {
   "cell_type": "markdown",
   "metadata": {},
   "source": [
    "# 列表\n",
    "\n",
    "列表即是`序列类型`也是`可变类型`，（`可变类型`和`序列类型`的概念在 [数据类型]('./types.ipynb') 有讲）\n",
    "\n",
    "回想一下 `序列类型` 的通用操作有哪些？\n"
   ]
  },
  {
   "cell_type": "markdown",
   "metadata": {},
   "source": [
    "## 创建一个列表\n"
   ]
  },
  {
   "cell_type": "markdown",
   "metadata": {},
   "source": [
    "### 通过字面值形式创建\n"
   ]
  },
  {
   "cell_type": "code",
   "execution_count": 70,
   "metadata": {},
   "outputs": [
    {
     "data": {
      "text/plain": [
       "['bar', 6, True, 3.4, None, {'a': 'b'}]"
      ]
     },
     "execution_count": 70,
     "metadata": {},
     "output_type": "execute_result"
    }
   ],
   "source": [
    "# 列表字面值\n",
    "[\"bar\", 6, True, 3.4, None, {\"a\": \"b\"}]"
   ]
  },
  {
   "cell_type": "markdown",
   "metadata": {},
   "source": [
    "## 序列类型通用操作 - 列表实现\n"
   ]
  },
  {
   "cell_type": "code",
   "execution_count": 71,
   "metadata": {},
   "outputs": [
    {
     "name": "stdout",
     "output_type": "stream",
     "text": [
      "['bar', 6, True, 3.4, None, {'a': 'b'}, 3.4, None, {'a': 'b'}]\n",
      "9\n",
      "4\n",
      "None None\n",
      "['bar', 6, True, 3.4]\n",
      "False True\n",
      "-1 2\n",
      "2\n",
      "3.4\n",
      "None\n",
      "{'a': 'b'}\n"
     ]
    }
   ],
   "source": [
    "a = [\"bar\", 6, True]\n",
    "b = [3.4, None, {\"a\": \"b\"}]\n",
    "\n",
    "# 连接、重复\n",
    "s = a + b * 2  # 列表 b 重复两次之后和列表 a 连接\n",
    "print(s)\n",
    "\n",
    "# 长\n",
    "l = len(s)\n",
    "print(l)\n",
    "\n",
    "# 元素位置获取\n",
    "i = s.index(None)\n",
    "print(i)\n",
    "\n",
    "# 索引访问\n",
    "s[i]  # 正索引，从左向右索引从 0 开始\n",
    "s[i - l]  # 负索引，从右向左索引从 -1 开始\n",
    "print(s[i], s[i - l])\n",
    "\n",
    "# 切片\n",
    "print(s[:i])\n",
    "\n",
    "# 成员运算\n",
    "print(b in s, b not in a)\n",
    "\n",
    "# 最大/最小元素，需保证列表为数字列表\n",
    "n = [1, -True, False, 2]\n",
    "print(min(n), max(n))\n",
    "\n",
    "# 元素出现次数，与 str.count 不同，list.count 只接受一个参数\n",
    "print(s.count(None))\n",
    "\n",
    "# 迭代\n",
    "for item in b:\n",
    "    print(item)"
   ]
  },
  {
   "cell_type": "markdown",
   "metadata": {},
   "source": [
    "## 列表内置方法/标准库操作\n"
   ]
  },
  {
   "cell_type": "markdown",
   "metadata": {},
   "source": [
    "### 增\n"
   ]
  },
  {
   "cell_type": "code",
   "execution_count": 72,
   "metadata": {},
   "outputs": [
    {
     "name": "stdout",
     "output_type": "stream",
     "text": [
      "['bar', 'insert', 6, True, 3.4, None, {'a': 'b'}, 3.4, None, {'a': 'b'}, 'append', 'extend1', 'extend2']\n"
     ]
    }
   ],
   "source": [
    "# 在列表结尾增加一项\n",
    "s.append(\"append\")\n",
    "\n",
    "# 在指定位置增加一项\n",
    "s.insert(1, \"insert\")\n",
    "\n",
    "# 在结尾拼接另一个序列类型\n",
    "s.extend((\"extend1\", \"extend2\"))\n",
    "\n",
    "print(s)"
   ]
  },
  {
   "cell_type": "markdown",
   "metadata": {},
   "source": [
    "### 删\n"
   ]
  },
  {
   "cell_type": "code",
   "execution_count": 73,
   "metadata": {},
   "outputs": [
    {
     "name": "stdout",
     "output_type": "stream",
     "text": [
      "insert\n",
      "['bar', 6, True, 3.4, None, {'a': 'b'}, 3.4, None, {'a': 'b'}, 'append', 'extend1', 'extend2']\n",
      "['bar', 6, True, 3.4, None, {'a': 'b'}, 3.4, None, {'a': 'b'}, 'append', 'extend1']\n",
      "['bar', 6, True, 3.4, None, {'a': 'b'}, 3.4, None, {'a': 'b'}, 'extend1']\n",
      "[]\n"
     ]
    }
   ],
   "source": [
    "# 删除之前先备份\n",
    "_s = s.copy()\n",
    "\n",
    "# 在指定位置弹出一项，默认为最后一项\n",
    "print(_s.pop(1))\n",
    "\n",
    "print(_s)\n",
    "\n",
    "# 还可以通过 del 语句删除\n",
    "del _s[-1]\n",
    "\n",
    "print(_s)\n",
    "\n",
    "# 移除列表中某项的第一个匹配\n",
    "_s.remove(\"append\")\n",
    "\n",
    "print(_s)\n",
    "\n",
    "# 清空列表\n",
    "_s.clear()\n",
    "\n",
    "print(_s)"
   ]
  },
  {
   "cell_type": "markdown",
   "metadata": {},
   "source": [
    "### 改\n"
   ]
  },
  {
   "cell_type": "code",
   "execution_count": 74,
   "metadata": {},
   "outputs": [
    {
     "name": "stdout",
     "output_type": "stream",
     "text": [
      "['new bar', 'insert', 6, True, 3.4, None, {'a': 'b'}, 3.4, None, {'a': 'b'}, 'append', 'extend1', 'extend2']\n"
     ]
    }
   ],
   "source": [
    "# 根据索引替换元素\n",
    "s[0] = f\"new {s[0]}\"\n",
    "print(s)"
   ]
  },
  {
   "cell_type": "markdown",
   "metadata": {},
   "source": [
    "### 查\n"
   ]
  },
  {
   "cell_type": "code",
   "execution_count": 75,
   "metadata": {},
   "outputs": [
    {
     "data": {
      "text/plain": [
       "'new bar'"
      ]
     },
     "execution_count": 75,
     "metadata": {},
     "output_type": "execute_result"
    }
   ],
   "source": [
    "# 直接根据索引获取\n",
    "\n",
    "s[0]"
   ]
  },
  {
   "cell_type": "markdown",
   "metadata": {},
   "source": [
    "### 排序\n"
   ]
  },
  {
   "cell_type": "code",
   "execution_count": 87,
   "metadata": {},
   "outputs": [
    {
     "name": "stdout",
     "output_type": "stream",
     "text": [
      "['new bar', 'insert', 6, True, 3.4, None, {'a': 'b'}, 3.4, None, {'a': 'b'}, 'append', 'extend1', 'extend2']\n",
      "[-1, False, 1, 2]\n",
      "[-1, False, 1, 2, 3]\n"
     ]
    }
   ],
   "source": [
    "# 反向排序\n",
    "s.reverse()\n",
    "print(s)\n",
    "\n",
    "# 不改变原数组，返回排序完新数组\n",
    "print(sorted(n))\n",
    "\n",
    "n1 = n + [3]\n",
    "# 对原列表进行排序\n",
    "n1.sort()\n",
    "print(n1)"
   ]
  },
  {
   "cell_type": "markdown",
   "metadata": {},
   "source": [
    "### 判断相等\n"
   ]
  },
  {
   "cell_type": "code",
   "execution_count": 91,
   "metadata": {},
   "outputs": [
    {
     "name": "stdout",
     "output_type": "stream",
     "text": [
      "True\n",
      "True\n",
      "False\n",
      "False\n"
     ]
    }
   ],
   "source": [
    "import operator\n",
    "\n",
    "b = [2, 3]\n",
    "c = [2, 3]\n",
    "\n",
    "# 值是否相等\n",
    "print(operator.eq(b, c))\n",
    "print(b == c)\n",
    "\n",
    "# 内存地址是否相同\n",
    "print(b is c)\n",
    "print(id(b) == id(c))"
   ]
  }
 ],
 "metadata": {
  "kernelspec": {
   "display_name": ".venv",
   "language": "python",
   "name": "python3"
  },
  "language_info": {
   "codemirror_mode": {
    "name": "ipython",
    "version": 3
   },
   "file_extension": ".py",
   "mimetype": "text/x-python",
   "name": "python",
   "nbconvert_exporter": "python",
   "pygments_lexer": "ipython3",
   "version": "3.10.6"
  },
  "orig_nbformat": 4
 },
 "nbformat": 4,
 "nbformat_minor": 2
}
