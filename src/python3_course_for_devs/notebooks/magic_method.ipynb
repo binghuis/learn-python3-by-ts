{
 "cells": [
  {
   "cell_type": "markdown",
   "metadata": {},
   "source": [
    "# 魔术方法\n",
    "\n",
    "具有双下划线（`__`）前缀和后缀的特殊方法，用于实现对象的特定行为。\n"
   ]
  },
  {
   "cell_type": "code",
   "execution_count": 83,
   "metadata": {},
   "outputs": [],
   "source": [
    "from typing import Any\n",
    "\n",
    "\n",
    "class MyClass:\n",
    "    # 类方法，创建并返回一个新对象实例\n",
    "    def __new__(cls, *args, **kwargs):\n",
    "        # 调用父类的__new__方法来创建对象实例\n",
    "        instance = super().__new__(cls)\n",
    "        return instance\n",
    "\n",
    "    # 构造器方法，在创建对象时调用\n",
    "    def __init__(self, instance_attribute):\n",
    "        self.instance_attribute = instance_attribute\n",
    "\n",
    "    def __str__(self):\n",
    "        return f\"MyClass(instance_attribute='{self.instance_attribute}')\"\n",
    "\n",
    "    def __repr__(self):\n",
    "        return f\"MyClass('{self.instance_attribute}')\"\n",
    "\n",
    "    # 用于使对象可以像函数一样被调用\n",
    "    def __call__(self, *args: Any, **kwds: Any) -> Any:\n",
    "        return self.__str__()\n",
    "\n",
    "    def __len__(self):\n",
    "        return len(self.instance_attribute)\n",
    "\n",
    "    # 返回哈希值，instance_attribute 必须是不可变对象\n",
    "    def __hash__(self):\n",
    "        return hash(self.instance_attribute)\n",
    "\n",
    "    # __add__\n",
    "    # 定义对象的加法操作\n",
    "    # 当两个 MyClass 对象相加时，把两对象属性拼接后重新生成新对象\n",
    "    def __add__(self, other):\n",
    "        if isinstance(other, MyClass):\n",
    "            return MyClass(f\"{self.instance_attribute}{other.instance_attribute}\")\n",
    "        else:\n",
    "            raise TypeError(\"Unsupported operand type.\")"
   ]
  },
  {
   "cell_type": "code",
   "execution_count": 84,
   "metadata": {},
   "outputs": [],
   "source": [
    "obj_a = MyClass(\"实例 A\")\n",
    "obj_b = MyClass(\"实例 B\")"
   ]
  },
  {
   "cell_type": "markdown",
   "metadata": {},
   "source": [
    "**`__str__`**\n",
    "\n",
    "返回对象字符串表示形式，强调可读性。\n",
    "可使用 `str`、`print` 方法或 `f-string` 调用。如果没有 `__str__` 则尝试调用 `__repr__`。\n"
   ]
  },
  {
   "cell_type": "code",
   "execution_count": 85,
   "metadata": {},
   "outputs": [
    {
     "data": {
      "text/plain": [
       "\"MyClass(instance_attribute='实例 A')\""
      ]
     },
     "execution_count": 85,
     "metadata": {},
     "output_type": "execute_result"
    }
   ],
   "source": [
    "str(obj_a)"
   ]
  },
  {
   "cell_type": "code",
   "execution_count": 86,
   "metadata": {},
   "outputs": [
    {
     "name": "stdout",
     "output_type": "stream",
     "text": [
      "MyClass(instance_attribute='实例 A')\n"
     ]
    }
   ],
   "source": [
    "print(obj_a)"
   ]
  },
  {
   "cell_type": "code",
   "execution_count": 87,
   "metadata": {},
   "outputs": [
    {
     "data": {
      "text/plain": [
       "\"MyClass(instance_attribute='实例 A')\""
      ]
     },
     "execution_count": 87,
     "metadata": {},
     "output_type": "execute_result"
    }
   ],
   "source": [
    "f\"{obj_a}\""
   ]
  },
  {
   "cell_type": "markdown",
   "metadata": {},
   "source": [
    "**`__repr__`**\n",
    "\n",
    "返回对象字符串表示形式，强调准确并可用于重新创建对象，通常用于开发调试。\n",
    "可使用 `repr` 方法或在交互式环境中直接执行对象名调用。如果没有 `__repr__` 则尝试调用 `__str__`。\n"
   ]
  },
  {
   "cell_type": "code",
   "execution_count": 88,
   "metadata": {},
   "outputs": [
    {
     "data": {
      "text/plain": [
       "MyClass('实例 A')"
      ]
     },
     "execution_count": 88,
     "metadata": {},
     "output_type": "execute_result"
    }
   ],
   "source": [
    "obj_a"
   ]
  },
  {
   "cell_type": "code",
   "execution_count": 89,
   "metadata": {},
   "outputs": [
    {
     "data": {
      "text/plain": [
       "MyClass('实例 A')"
      ]
     },
     "execution_count": 89,
     "metadata": {},
     "output_type": "execute_result"
    }
   ],
   "source": [
    "eval(repr(obj_a))"
   ]
  },
  {
   "cell_type": "markdown",
   "metadata": {},
   "source": [
    "**`__call__`**\n"
   ]
  },
  {
   "cell_type": "code",
   "execution_count": 90,
   "metadata": {},
   "outputs": [
    {
     "data": {
      "text/plain": [
       "\"MyClass(instance_attribute='实例 A')\""
      ]
     },
     "execution_count": 90,
     "metadata": {},
     "output_type": "execute_result"
    }
   ],
   "source": [
    "obj_a()"
   ]
  },
  {
   "cell_type": "markdown",
   "metadata": {},
   "source": [
    "**`__len__`**\n"
   ]
  },
  {
   "cell_type": "code",
   "execution_count": 91,
   "metadata": {},
   "outputs": [
    {
     "data": {
      "text/plain": [
       "4"
      ]
     },
     "execution_count": 91,
     "metadata": {},
     "output_type": "execute_result"
    }
   ],
   "source": [
    "len(obj_a)"
   ]
  },
  {
   "cell_type": "markdown",
   "metadata": {},
   "source": [
    "**`__add__`**\n"
   ]
  },
  {
   "cell_type": "code",
   "execution_count": 92,
   "metadata": {},
   "outputs": [
    {
     "data": {
      "text/plain": [
       "MyClass('实例 A实例 B')"
      ]
     },
     "execution_count": 92,
     "metadata": {},
     "output_type": "execute_result"
    }
   ],
   "source": [
    "obj_a + obj_b"
   ]
  },
  {
   "cell_type": "markdown",
   "metadata": {},
   "source": [
    "**`__hash__`**\n"
   ]
  },
  {
   "cell_type": "code",
   "execution_count": 93,
   "metadata": {},
   "outputs": [
    {
     "data": {
      "text/plain": [
       "-2999934030986681404"
      ]
     },
     "execution_count": 93,
     "metadata": {},
     "output_type": "execute_result"
    }
   ],
   "source": [
    "hash(obj_a)"
   ]
  }
 ],
 "metadata": {
  "kernelspec": {
   "display_name": ".venv",
   "language": "python",
   "name": "python3"
  },
  "language_info": {
   "codemirror_mode": {
    "name": "ipython",
    "version": 3
   },
   "file_extension": ".py",
   "mimetype": "text/x-python",
   "name": "python",
   "nbconvert_exporter": "python",
   "pygments_lexer": "ipython3",
   "version": "3.10.6"
  },
  "orig_nbformat": 4
 },
 "nbformat": 4,
 "nbformat_minor": 2
}
