{
 "cells": [
  {
   "cell_type": "markdown",
   "metadata": {},
   "source": [
    "# 魔术方法\n",
    "\n",
    "魔术方法（Magic methods）是具有双下划线（`__`）前缀和后缀的特殊方法。它们用于实现对象的特定行为和操作。\n"
   ]
  },
  {
   "cell_type": "code",
   "execution_count": 63,
   "metadata": {},
   "outputs": [],
   "source": [
    "from typing import Any\n",
    "\n",
    "\n",
    "class MyClass:\n",
    "    # 类方法，创建并返回一个新对象实例\n",
    "    def __new__(cls, *args, **kwargs):\n",
    "        # 调用父类的__new__方法来创建对象实例\n",
    "        instance = super().__new__(cls)\n",
    "        return instance\n",
    "\n",
    "    # 新对象初始化操作\n",
    "    def __init__(self, instance_attribute):\n",
    "        self.instance_attribute = instance_attribute\n",
    "\n",
    "    # 用于返回对象的人类可读的字符串表示形式。它定义了对象的\"非正式\"字符串表示形式，通常用于用户友好的输出和显示。\n",
    "    # 当使用方法 str、print 或使用 f-string 格式化时，对象的 __str__ 方法会被自动调用\n",
    "    # 如果没有定义 __str__，会尝试调用 __repr__\n",
    "    def __str__(self):\n",
    "        return f\"MyClass(instance_attribute='{self.instance_attribute}')\"\n",
    "\n",
    "    # 提供一个可读性良好且准确描述对象的字符串，通常用于调试和开发过程中。\n",
    "    # 当使用方法 repr 或在交互式环境中直接输入对象名并执行时，对象的 __repr__ 方法会被自动调用\n",
    "    # 如果没有定义 __repr__，会尝试调用 __str__\n",
    "    def __repr__(self):\n",
    "        return f\"MyClass('{self.instance_attribute}')\"\n",
    "\n",
    "    # 用于使对象可以像函数一样被调用\n",
    "    def __call__(self, *args: Any, **kwds: Any) -> Any:\n",
    "        return self.__str__()\n",
    "\n",
    "    def __len__(self):\n",
    "        return len(self.instance_attribute)\n",
    "\n",
    "    # __add__\n",
    "    # 定义对象的加法操作\n",
    "    # 当两个 MyClass 对象相加时，把两对象属性拼接后重新生成新对象\n",
    "    def __add__(self, other):\n",
    "        if isinstance(other, MyClass):\n",
    "            return MyClass(f\"{self.instance_attribute}{other.instance_attribute}\")\n",
    "        else:\n",
    "            raise TypeError(\"Unsupported operand type.\")"
   ]
  },
  {
   "cell_type": "code",
   "execution_count": 64,
   "metadata": {},
   "outputs": [],
   "source": [
    "obj1 = MyClass(\"实例属性 1\")\n",
    "obj2 = MyClass(\"实例属性 2\")"
   ]
  },
  {
   "cell_type": "code",
   "execution_count": 65,
   "metadata": {},
   "outputs": [
    {
     "name": "stdout",
     "output_type": "stream",
     "text": [
      "MyClass(instance_attribute='实例属性 1')\n"
     ]
    }
   ],
   "source": [
    "# 测试 __str__\n",
    "\n",
    "print(obj1)"
   ]
  },
  {
   "cell_type": "code",
   "execution_count": 66,
   "metadata": {},
   "outputs": [
    {
     "data": {
      "text/plain": [
       "MyClass('实例属性 1')"
      ]
     },
     "execution_count": 66,
     "metadata": {},
     "output_type": "execute_result"
    }
   ],
   "source": [
    "# 测试 __repr__\n",
    "\n",
    "eval(repr(obj1))"
   ]
  },
  {
   "cell_type": "code",
   "execution_count": 67,
   "metadata": {},
   "outputs": [
    {
     "data": {
      "text/plain": [
       "\"MyClass(instance_attribute='实例属性 1')\""
      ]
     },
     "execution_count": 67,
     "metadata": {},
     "output_type": "execute_result"
    }
   ],
   "source": [
    "# 测试 __call__\n",
    "\n",
    "obj1()"
   ]
  },
  {
   "cell_type": "code",
   "execution_count": 68,
   "metadata": {},
   "outputs": [
    {
     "data": {
      "text/plain": [
       "6"
      ]
     },
     "execution_count": 68,
     "metadata": {},
     "output_type": "execute_result"
    }
   ],
   "source": [
    "len(obj1)"
   ]
  },
  {
   "cell_type": "code",
   "execution_count": 69,
   "metadata": {},
   "outputs": [
    {
     "data": {
      "text/plain": [
       "MyClass('实例属性 1实例属性 2')"
      ]
     },
     "execution_count": 69,
     "metadata": {},
     "output_type": "execute_result"
    }
   ],
   "source": [
    "# 测试 __add__\n",
    "\n",
    "obj1 + obj2"
   ]
  },
  {
   "cell_type": "markdown",
   "metadata": {},
   "source": [
    "### 迭代器 & 可迭代对象\n",
    "\n",
    "有关[迭代器和可迭代对象]('./iterator_generator.ipynb')的魔术方法\n"
   ]
  },
  {
   "cell_type": "markdown",
   "metadata": {},
   "source": [
    "### 类型转换相关\n",
    "\n",
    "- `__str__(self)`: 该方法用于返回对象的字符串表示形式，通常用于`str`函数和打印对象时的类型转换。\n",
    "- `__repr__(self)`: 该方法用于返回对象的可打印字符串表示形式，通常用于`repr`函数和在交互式命令行中显示对象时的类型转换。\n",
    "- `__int__(self)`: 该方法用于将对象转换为整数类型，通常用于`int`函数的类型转换。\n",
    "- `__float__(self)`: 该方法用于将对象转换为浮点数类型，通常用于`float`函数的类型转换。\n",
    "- `__bool__(self)`: 该方法用于将对象转换为布尔类型，通常用于`bool`函数和条件语句中的类型转换。\n",
    "\n",
    "以下是一个示例代码，展示了如何使用这些类型转换魔术方法：\n"
   ]
  },
  {
   "cell_type": "code",
   "execution_count": 70,
   "metadata": {},
   "outputs": [
    {
     "name": "stdout",
     "output_type": "stream",
     "text": [
      "10\n",
      "MyNumber(10)\n",
      "10\n",
      "10.0\n",
      "True\n"
     ]
    }
   ],
   "source": [
    "class MyNumber:\n",
    "    def __init__(self, value):\n",
    "        self.value = value\n",
    "\n",
    "    def __str__(self):\n",
    "        return str(self.value)\n",
    "\n",
    "    def __repr__(self):\n",
    "        return f\"MyNumber({self.value})\"\n",
    "\n",
    "    def __int__(self):\n",
    "        return int(self.value)\n",
    "\n",
    "    def __float__(self):\n",
    "        return float(self.value)\n",
    "\n",
    "    def __bool__(self):\n",
    "        return bool(self.value)\n",
    "\n",
    "\n",
    "num = MyNumber(10)\n",
    "\n",
    "# 调用类型转换方法\n",
    "print(str(num))  # 输出：'10'\n",
    "print(repr(num))  # 输出：MyNumber(10)\n",
    "print(int(num))  # 输出：10\n",
    "print(float(num))  # 输出：10.0\n",
    "print(bool(num))  # 输出：True"
   ]
  }
 ],
 "metadata": {
  "kernelspec": {
   "display_name": ".venv",
   "language": "python",
   "name": "python3"
  },
  "language_info": {
   "codemirror_mode": {
    "name": "ipython",
    "version": 3
   },
   "file_extension": ".py",
   "mimetype": "text/x-python",
   "name": "python",
   "nbconvert_exporter": "python",
   "pygments_lexer": "ipython3",
   "version": "3.10.6"
  },
  "orig_nbformat": 4
 },
 "nbformat": 4,
 "nbformat_minor": 2
}
