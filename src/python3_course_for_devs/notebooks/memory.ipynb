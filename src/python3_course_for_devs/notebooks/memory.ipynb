{
 "cells": [
  {
   "cell_type": "markdown",
   "metadata": {},
   "source": [
    "# 内存管理\n"
   ]
  },
  {
   "cell_type": "markdown",
   "metadata": {},
   "source": [
    "## 内存使用\n"
   ]
  },
  {
   "cell_type": "markdown",
   "metadata": {},
   "source": [
    "## 内存释放\n"
   ]
  },
  {
   "cell_type": "markdown",
   "metadata": {},
   "source": [
    "## 对象重用\n"
   ]
  },
  {
   "cell_type": "code",
   "execution_count": null,
   "metadata": {
    "vscode": {
     "languageId": "plaintext"
    }
   },
   "outputs": [],
   "source": [
    "\n",
    "1. 小整数对象重用：Python会重用一些小整数对象，例如整数-5到256之间的对象。这意味着对于这个范围内的整数，如果多个变量引用相同的值，它们将共享同一个对象。\n",
    "\n",
    "```python\n",
    "a = 10\n",
    "b = 10\n",
    "print(a is b)  # True\n",
    "```\n",
    "\n",
    "2. 字符串对象重用：对于短字符串，Python会尝试重用已经存在的对象。具体来说，当你定义一个字符串时，如果相同的字符串已经存在于内存中，Python会返回对现有字符串对象的引用，而不是创建一个新的对象。\n",
    "\n",
    "```python\n",
    "a = \"hello\"\n",
    "b = \"hello\"\n",
    "print(a is b)  # True\n",
    "```\n",
    "\n",
    "但是，请注意这种重用行为只适用于短字符串。对于较长的字符串，Python不会进行重用。\n",
    "\n",
    "3. 不可变对象重用：对于某些不可变对象（如元组），如果多个变量引用相同的值，它们将共享同一个对象。\n",
    "\n",
    "```python\n",
    "a = (1, 2)\n",
    "b = (1, 2)\n",
    "print(a is b)  # True\n",
    "```\n",
    "\n",
    "4. 可变对象不重用：对于可变对象（如列表、字典、集合），即使它们的值相同，Python也不会重用已存在的对象。每次创建一个可变对象时，Python都会为其分配新的内存空间。\n",
    "\n",
    "```python\n",
    "a = [1, 2]\n",
    "b = [1, 2]\n",
    "print(a is b)  # False\n",
    "```\n",
    "\n",
    "需要注意的是，这些重用规则是由Python解释器的具体实现决定的，并且可能会因版本和配置的不同而有所变化。因此，在编写代码时，不应依赖于对象重用的行为，而是应该使用适当的比较操作符（如`==`）来比较对象的值。"
   ]
  }
 ],
 "metadata": {
  "language_info": {
   "name": "python"
  }
 },
 "nbformat": 4,
 "nbformat_minor": 2
}
