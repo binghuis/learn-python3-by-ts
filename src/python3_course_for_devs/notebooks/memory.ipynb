{
 "cells": [
  {
   "cell_type": "markdown",
   "metadata": {},
   "source": [
    "# 内存管理\n",
    "\n",
    "内存管理是由解释器自动处理的，开发者无需显式地进行内存分配和释放。Python 的内存管理机制主要包括以下几个方面：\n"
   ]
  },
  {
   "cell_type": "markdown",
   "metadata": {},
   "source": [
    "## 对象缓存优化\n",
    "\n",
    "针对特定不可变类型对象，在内存中缓存并重用。避免频繁的创建和销毁对象，减少内存分配的开销。\n"
   ]
  },
  {
   "cell_type": "markdown",
   "metadata": {},
   "source": [
    "**小整数缓存**\n",
    "\n",
    "小整数（`[-5, 256]`）。\n"
   ]
  },
  {
   "cell_type": "code",
   "execution_count": 125,
   "metadata": {},
   "outputs": [
    {
     "data": {
      "text/plain": [
       "True"
      ]
     },
     "execution_count": 125,
     "metadata": {},
     "output_type": "execute_result"
    }
   ],
   "source": [
    "x = 256\n",
    "y = 256\n",
    "x is y"
   ]
  },
  {
   "cell_type": "markdown",
   "metadata": {},
   "source": [
    "**字符串驻留**\n",
    "\n",
    "部分 `ASCII` 字符组成的字符串。\n"
   ]
  },
  {
   "cell_type": "code",
   "execution_count": 126,
   "metadata": {},
   "outputs": [
    {
     "data": {
      "text/plain": [
       "True"
      ]
     },
     "execution_count": 126,
     "metadata": {},
     "output_type": "execute_result"
    }
   ],
   "source": [
    "a = \"hello_world\"\n",
    "b = \"hello_world\"\n",
    "a is b"
   ]
  },
  {
   "cell_type": "markdown",
   "metadata": {},
   "source": [
    "> `sys.intern` 手动创建驻留字符串。\n"
   ]
  },
  {
   "cell_type": "code",
   "execution_count": 127,
   "metadata": {},
   "outputs": [
    {
     "data": {
      "text/plain": [
       "True"
      ]
     },
     "execution_count": 127,
     "metadata": {},
     "output_type": "execute_result"
    }
   ],
   "source": [
    "import sys\n",
    "\n",
    "a = sys.intern(\"你好\")\n",
    "b = sys.intern(\"你好\")\n",
    "a is b"
   ]
  },
  {
   "cell_type": "markdown",
   "metadata": {},
   "source": [
    "**空元组缓存**\n"
   ]
  },
  {
   "cell_type": "code",
   "execution_count": 128,
   "metadata": {},
   "outputs": [
    {
     "data": {
      "text/plain": [
       "True"
      ]
     },
     "execution_count": 128,
     "metadata": {},
     "output_type": "execute_result"
    }
   ],
   "source": [
    "a = ()\n",
    "b = ()\n",
    "a is b"
   ]
  },
  {
   "cell_type": "markdown",
   "metadata": {},
   "source": [
    "## 垃圾回收\n"
   ]
  },
  {
   "cell_type": "markdown",
   "metadata": {},
   "source": [
    "**引用计数**\n",
    "\n",
    "每当对象被引用时，引用计数加 1；当引用被删除或超出作用域时，引用计数减 1。当引用计数变为 0 时，对象被认为是不再被使用，将被垃圾回收。\n"
   ]
  },
  {
   "cell_type": "code",
   "execution_count": 129,
   "metadata": {},
   "outputs": [
    {
     "data": {
      "text/plain": [
       "2"
      ]
     },
     "execution_count": 129,
     "metadata": {},
     "output_type": "execute_result"
    }
   ],
   "source": [
    "from random import random\n",
    "import sys\n",
    "\n",
    "x = random()\n",
    "\n",
    "sys.getrefcount(x)"
   ]
  },
  {
   "cell_type": "code",
   "execution_count": 130,
   "metadata": {},
   "outputs": [
    {
     "data": {
      "text/plain": [
       "24"
      ]
     },
     "execution_count": 130,
     "metadata": {},
     "output_type": "execute_result"
    }
   ],
   "source": [
    "sys.getsizeof(x)"
   ]
  },
  {
   "cell_type": "code",
   "execution_count": 131,
   "metadata": {},
   "outputs": [
    {
     "data": {
      "text/plain": [
       "3"
      ]
     },
     "execution_count": 131,
     "metadata": {},
     "output_type": "execute_result"
    }
   ],
   "source": [
    "ref = x\n",
    "\n",
    "sys.getrefcount(x)"
   ]
  },
  {
   "cell_type": "code",
   "execution_count": 132,
   "metadata": {},
   "outputs": [
    {
     "data": {
      "text/plain": [
       "2"
      ]
     },
     "execution_count": 132,
     "metadata": {},
     "output_type": "execute_result"
    }
   ],
   "source": [
    "del ref\n",
    "\n",
    "sys.getrefcount(x)"
   ]
  },
  {
   "cell_type": "markdown",
   "metadata": {},
   "source": [
    "**标记-清除**\n",
    "\n",
    "- 标记阶段：从根对象开始递归遍历对象图，标记可达对象。\n",
    "- 清除阶段：标记完成后，垃圾回收器遍历整个内存，找到未标记对象，并释放其内存资源。\n",
    "\n",
    "> `可达` 即仍被程序中其他对象所引用。\n"
   ]
  },
  {
   "cell_type": "markdown",
   "metadata": {},
   "source": [
    "### 循环引用处理\n",
    "\n",
    "两个或多个对象之间相互引用形成一个环即为循环引用，引用计数机制无法处理这种情况。\n"
   ]
  },
  {
   "cell_type": "markdown",
   "metadata": {},
   "source": [
    "**循环垃圾收集器**\n",
    "\n",
    "垃圾回收机制中的循环垃圾收集器会定期扫描内存中的对象，当循环引用的对象无法通过引用计数访问到时，垃圾回收机制会将它们标记为待回收对象。\n",
    "垃圾回收机制会周期性地触发标记-清除算法，回收被标记待回收对象的内存。\n"
   ]
  },
  {
   "cell_type": "code",
   "execution_count": 133,
   "metadata": {},
   "outputs": [
    {
     "name": "stdout",
     "output_type": "stream",
     "text": [
      "[]\n"
     ]
    }
   ],
   "source": [
    "import gc\n",
    "\n",
    "\n",
    "class Node:\n",
    "    def __init__(self, data):\n",
    "        self.data = data\n",
    "        self.next = None\n",
    "\n",
    "\n",
    "# 创建循环引用\n",
    "node1 = Node(1)\n",
    "node2 = Node(2)\n",
    "node1.next = node2\n",
    "node2.next = node1\n",
    "\n",
    "# 显式执行一次垃圾回收\n",
    "# gc.collect()\n",
    "\n",
    "# 检查循环引用是否被清除\n",
    "print(gc.garbage)  # 输出结果：[]，表示循环引用已被成功清除"
   ]
  },
  {
   "cell_type": "markdown",
   "metadata": {},
   "source": [
    "**分代回收策略**\n"
   ]
  },
  {
   "cell_type": "markdown",
   "metadata": {},
   "source": [
    "分代回收策略（Generational Collection Strategy）是一种常用的垃圾回收策略，用于管理和回收内存中的对象。该策略基于一个观察：大多数对象的生命周期较短，而只有少数对象具有较长的生命周期。因此，分代回收策略将对象根据其存活时间分为不同的代（Generation），并针对不同代采取不同的垃圾回收策略。\n",
    "\n",
    "通常，分代回收策略将对象划分为三代：\n",
    "\n",
    "1. 第 0 代（Young Generation）：第 0 代包含了新创建的对象。这些对象的生命周期较短，大部分对象很快就会变成垃圾。垃圾回收机制会频繁地对第 0 代进行回收，使用较轻量的垃圾回收算法，例如基于引用计数的垃圾回收。\n",
    "\n",
    "2. 第 1 代（Intermediate Generation）：当对象在第 0 代经历了一定数量的垃圾回收后，仍然存活下来的对象会被晋升到第 1 代。第 1 代中的对象相对于第 0 代来说，具有更长的生命周期。垃圾回收机制会相对较少地对第 1 代进行回收，使用更耗时的垃圾回收算法，例如标记-清除算法。\n",
    "\n",
    "3. 第 2 代（Old Generation）：第 2 代是存活时间最久的对象所在的代。这些对象的生命周期很长，只有很少一部分对象能够存活到这一代。垃圾回收机制会非常少地对第 2 代进行回收，使用更耗时的垃圾回收算法，例如标记-清除算法。\n",
    "\n",
    "分代回收策略的核心思想是：根据对象的存活时间将其分配到不同的代中，并根据代的特点采用不同的垃圾回收策略。这样可以更加高效地管理内存，因为大多数对象都在年轻代中被回收，而只有少数对象需要经历更耗时的回收操作。\n"
   ]
  }
 ],
 "metadata": {
  "kernelspec": {
   "display_name": ".venv",
   "language": "python",
   "name": "python3"
  },
  "language_info": {
   "codemirror_mode": {
    "name": "ipython",
    "version": 3
   },
   "file_extension": ".py",
   "mimetype": "text/x-python",
   "name": "python",
   "nbconvert_exporter": "python",
   "pygments_lexer": "ipython3",
   "version": "3.10.6"
  }
 },
 "nbformat": 4,
 "nbformat_minor": 2
}
