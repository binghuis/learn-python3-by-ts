{
 "cells": [
  {
   "cell_type": "markdown",
   "metadata": {},
   "source": [
    "# 模块\n",
    "\n",
    "一个 Python 文件被视为一个模块，比如 `main.py`\n"
   ]
  },
  {
   "cell_type": "markdown",
   "metadata": {},
   "source": [
    "### 模块引入\n"
   ]
  },
  {
   "cell_type": "markdown",
   "metadata": {},
   "source": [
    "#### `import`\n",
    "\n",
    "将整个模块导入，并使用模块名作为前缀来访问其中的内容。\n"
   ]
  },
  {
   "cell_type": "code",
   "execution_count": 1,
   "metadata": {},
   "outputs": [
    {
     "name": "stdout",
     "output_type": "stream",
     "text": [
      "['__all__', '__builtins__', '__cached__', '__doc__', '__file__', '__loader__', '__name__', '__package__', '__spec__', 'author', 'name']\n"
     ]
    },
    {
     "data": {
      "text/plain": [
       "'python3_course_for_devs.main'"
      ]
     },
     "execution_count": 1,
     "metadata": {},
     "output_type": "execute_result"
    }
   ],
   "source": [
    "import python3_course_for_devs.main\n",
    "\n",
    "print(dir(python3_course_for_devs.main))\n",
    "\n",
    "python3_course_for_devs.main.name"
   ]
  },
  {
   "cell_type": "markdown",
   "metadata": {},
   "source": [
    "#### `import ... as ...`\n",
    "\n",
    "导入模块并为模块指定一个别名。简化模块名的使用。\n"
   ]
  },
  {
   "cell_type": "code",
   "execution_count": 2,
   "metadata": {},
   "outputs": [
    {
     "data": {
      "text/plain": [
       "'python3_course_for_devs.main'"
      ]
     },
     "execution_count": 2,
     "metadata": {},
     "output_type": "execute_result"
    }
   ],
   "source": [
    "import python3_course_for_devs.main as main\n",
    "\n",
    "main.name"
   ]
  },
  {
   "cell_type": "markdown",
   "metadata": {},
   "source": [
    "#### `from ... import ...`\n",
    "\n",
    "从模块中引入特定的函数、变量或类，并可以直接在代码中使用它们，而无需使用模块名作为前缀。\n"
   ]
  },
  {
   "cell_type": "code",
   "execution_count": 3,
   "metadata": {},
   "outputs": [
    {
     "data": {
      "text/plain": [
       "'python3_course_for_devs.main'"
      ]
     },
     "execution_count": 3,
     "metadata": {},
     "output_type": "execute_result"
    }
   ],
   "source": [
    "from python3_course_for_devs.main import name\n",
    "\n",
    "name"
   ]
  },
  {
   "cell_type": "markdown",
   "metadata": {},
   "source": [
    "#### `from ... import *`\n",
    "\n",
    "将模块中的所有函数、变量和类引入到当前命名空间中，可以直接在代码中使用它们，而无需使用模块名作为前缀。\n",
    "\n",
    "当模块定义了 `__all__` 变量时，使用 `from ... import *` 语句只会导入 `__all__` 列表中指定的变量、函数和类。\n",
    "\n",
    "注意：这种方式可能会导致命名冲突，应尽量避免使用。\n"
   ]
  },
  {
   "cell_type": "code",
   "execution_count": 4,
   "metadata": {},
   "outputs": [
    {
     "data": {
      "text/plain": [
       "'binghuis'"
      ]
     },
     "execution_count": 4,
     "metadata": {},
     "output_type": "execute_result"
    }
   ],
   "source": [
    "from python3_course_for_devs.main import *\n",
    "\n",
    "author"
   ]
  },
  {
   "cell_type": "markdown",
   "metadata": {},
   "source": [
    "### 模块查找\n",
    "\n",
    "当导入一个模块时，解释器会按照一定的顺序搜索该模块的位置。\n"
   ]
  },
  {
   "cell_type": "code",
   "execution_count": 5,
   "metadata": {},
   "outputs": [
    {
     "data": {
      "text/plain": [
       "['/Users/songbinghui/Desktop/my_dev/typescript-inspired-python3-learning/src/python3_course_for_devs/notebooks',\n",
       " '/Users/songbinghui/.pyenv/versions/3.10.6/lib/python310.zip',\n",
       " '/Users/songbinghui/.pyenv/versions/3.10.6/lib/python3.10',\n",
       " '/Users/songbinghui/.pyenv/versions/3.10.6/lib/python3.10/lib-dynload',\n",
       " '',\n",
       " '/Users/songbinghui/Desktop/my_dev/typescript-inspired-python3-learning/.venv/lib/python3.10/site-packages',\n",
       " '/Users/songbinghui/Desktop/my_dev/typescript-inspired-python3-learning/src']"
      ]
     },
     "execution_count": 5,
     "metadata": {},
     "output_type": "execute_result"
    }
   ],
   "source": [
    "import sys\n",
    "\n",
    "# 搜索路径的列表\n",
    "sys.path"
   ]
  },
  {
   "cell_type": "markdown",
   "metadata": {},
   "source": [
    "# 包\n",
    "\n",
    "包是一个包含了多个模块的目录，并且这个目录必须包含一个名为 `__init__.py` 的模块文件。\n",
    "`__init__.py` 文件是包的初始化文件，它可以为空文件，也可以包含包的初始化代码。\n"
   ]
  },
  {
   "cell_type": "code",
   "execution_count": 6,
   "metadata": {},
   "outputs": [
    {
     "data": {
      "text/plain": [
       "'python3_course_for_devs.main'"
      ]
     },
     "execution_count": 6,
     "metadata": {},
     "output_type": "execute_result"
    }
   ],
   "source": [
    "import python3_course_for_devs\n",
    "\n",
    "\n",
    "python3_course_for_devs.main.name"
   ]
  },
  {
   "cell_type": "markdown",
   "metadata": {},
   "source": [
    "### `__name__` & `\"__main__\"`\n",
    "\n",
    "`__name__` 是一个内置变量，用于表示当前模块的名称。\n",
    "\n",
    "`__main__` 是一个特殊的字符串，用于表示当前执行的模块的名称。当一个模块直接作为脚本被执行时，其`__name__`变量的值将被设置为`__main__`。\n",
    "\n",
    "通过将特定的代码逻辑包装在`if __name__ == \"__main__\":`条件语句中，可以确保这部分代码只在模块直接执行时运行，而在导入时不运行。\n"
   ]
  },
  {
   "cell_type": "code",
   "execution_count": 7,
   "metadata": {},
   "outputs": [
    {
     "name": "stdout",
     "output_type": "stream",
     "text": [
      "__main__\n"
     ]
    }
   ],
   "source": [
    "# main 模块作为脚本直接执行\n",
    "\n",
    "!python ../main.py"
   ]
  }
 ],
 "metadata": {
  "kernelspec": {
   "display_name": ".venv",
   "language": "python",
   "name": "python3"
  },
  "language_info": {
   "codemirror_mode": {
    "name": "ipython",
    "version": 3
   },
   "file_extension": ".py",
   "mimetype": "text/x-python",
   "name": "python",
   "nbconvert_exporter": "python",
   "pygments_lexer": "ipython3",
   "version": "3.10.6"
  },
  "orig_nbformat": 4
 },
 "nbformat": 4,
 "nbformat_minor": 2
}
