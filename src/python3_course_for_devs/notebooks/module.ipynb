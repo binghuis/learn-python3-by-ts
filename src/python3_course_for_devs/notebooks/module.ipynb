{
 "cells": [
  {
   "cell_type": "markdown",
   "metadata": {},
   "source": [
    "# 模块\n",
    "\n",
    "一个 Python 文件被视为一个模块，比如 `main.py`\n"
   ]
  },
  {
   "cell_type": "markdown",
   "metadata": {},
   "source": [
    "### 模块引入\n"
   ]
  },
  {
   "cell_type": "markdown",
   "metadata": {},
   "source": [
    "#### `import`\n",
    "\n",
    "将整个模块导入，并使用模块名作为前缀来访问其中的内容。\n"
   ]
  },
  {
   "cell_type": "code",
   "execution_count": 46,
   "metadata": {},
   "outputs": [
    {
     "data": {
      "text/plain": [
       "'这是一个测试模块'"
      ]
     },
     "execution_count": 46,
     "metadata": {},
     "output_type": "execute_result"
    }
   ],
   "source": [
    "import python3_course_for_devs.main\n",
    "\n",
    "python3_course_for_devs.main.c_name"
   ]
  },
  {
   "cell_type": "markdown",
   "metadata": {},
   "source": [
    "#### `import ... as ...`\n",
    "\n",
    "导入模块并为模块指定一个别名。简化模块名的使用。\n"
   ]
  },
  {
   "cell_type": "code",
   "execution_count": 47,
   "metadata": {},
   "outputs": [
    {
     "data": {
      "text/plain": [
       "'这是一个测试模块'"
      ]
     },
     "execution_count": 47,
     "metadata": {},
     "output_type": "execute_result"
    }
   ],
   "source": [
    "import python3_course_for_devs.main as main\n",
    "\n",
    "main.c_name"
   ]
  },
  {
   "cell_type": "markdown",
   "metadata": {},
   "source": [
    "#### `from ... import ...`\n",
    "\n",
    "从模块中引入特定的函数、变量或类，并可以直接在代码中使用它们，而无需使用模块名作为前缀。\n"
   ]
  },
  {
   "cell_type": "code",
   "execution_count": 48,
   "metadata": {},
   "outputs": [
    {
     "data": {
      "text/plain": [
       "'这是一个测试模块'"
      ]
     },
     "execution_count": 48,
     "metadata": {},
     "output_type": "execute_result"
    }
   ],
   "source": [
    "from python3_course_for_devs.main import c_name\n",
    "\n",
    "c_name"
   ]
  },
  {
   "cell_type": "markdown",
   "metadata": {},
   "source": [
    "#### `from ... import *`\n",
    "\n",
    "将模块中的所有函数、变量和类引入到当前命名空间中，可以直接在代码中使用它们，而无需使用模块名作为前缀。\n",
    "\n",
    "这种方式可能会导致命名冲突，因此在实际使用中需要谨慎使用。\n"
   ]
  },
  {
   "cell_type": "code",
   "execution_count": 49,
   "metadata": {},
   "outputs": [
    {
     "data": {
      "text/plain": [
       "'这是一个测试模块'"
      ]
     },
     "execution_count": 49,
     "metadata": {},
     "output_type": "execute_result"
    }
   ],
   "source": [
    "from python3_course_for_devs.main import *\n",
    "\n",
    "c_name"
   ]
  },
  {
   "cell_type": "markdown",
   "metadata": {},
   "source": [
    "# 包\n",
    "\n",
    "包是一个包含了多个模块的目录，并且这个目录必须包含一个名为 `__init__.py` 的模块文件。\n",
    "`__init__.py` 文件是包的初始化文件，它可以为空文件，也可以包含包的初始化代码。\n"
   ]
  },
  {
   "cell_type": "code",
   "execution_count": 50,
   "metadata": {},
   "outputs": [
    {
     "data": {
      "text/plain": [
       "'这是一个测试模块'"
      ]
     },
     "execution_count": 50,
     "metadata": {},
     "output_type": "execute_result"
    }
   ],
   "source": [
    "import python3_course_for_devs\n",
    "\n",
    "\n",
    "python3_course_for_devs.main.c_name"
   ]
  },
  {
   "cell_type": "markdown",
   "metadata": {},
   "source": [
    "### `if __name__ == \"__main__\"`\n",
    "\n",
    "`__name__` 是 Python 中一个特殊的内置变量，用于表示当前模块的名称。\n",
    "\n",
    "`__main__` 是一个特殊的字符串，用于表示当前执行的模块的名称。当一个 Python 模块直接作为脚本被执行时，其`__name__`变量的值将被设置为`__main__`。\n",
    "\n",
    "这种用法通常与条件语句结合使用，例如：\n",
    "\n",
    "```python\n",
    "if __name__ == \"__main__\":\n",
    "    # 在这里编写只有在当前模块作为脚本执行时才会运行的代码\n",
    "    # 例如，进行一些测试或执行一些特定的操作\n",
    "    pass\n",
    "```\n",
    "\n",
    "上述代码块中的代码只有在当前模块作为脚本直接执行时才会被执行。当该模块被导入为一个模块时，这部分代码不会执行。\n",
    "\n",
    "这种用法常用于将模块既作为脚本执行，又作为其他模块导入使用。通过将特定的代码逻辑包装在`if __name__ == \"__main__\":`条件语句中，可以确保这部分代码只在模块直接执行时运行，而在导入时不运行。\n"
   ]
  },
  {
   "cell_type": "code",
   "execution_count": 51,
   "metadata": {},
   "outputs": [
    {
     "data": {
      "text/plain": [
       "'python3_course_for_devs'"
      ]
     },
     "execution_count": 51,
     "metadata": {},
     "output_type": "execute_result"
    }
   ],
   "source": [
    "python3_course_for_devs.__name__"
   ]
  }
 ],
 "metadata": {
  "kernelspec": {
   "display_name": ".venv",
   "language": "python",
   "name": "python3"
  },
  "language_info": {
   "codemirror_mode": {
    "name": "ipython",
    "version": 3
   },
   "file_extension": ".py",
   "mimetype": "text/x-python",
   "name": "python",
   "nbconvert_exporter": "python",
   "pygments_lexer": "ipython3",
   "version": "3.10.6"
  },
  "orig_nbformat": 4
 },
 "nbformat": 4,
 "nbformat_minor": 2
}
