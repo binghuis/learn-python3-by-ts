{
 "cells": [
  {
   "cell_type": "code",
   "execution_count": null,
   "metadata": {},
   "outputs": [],
   "source": []
  },
  {
   "cell_type": "markdown",
   "metadata": {},
   "source": [
    "## 魔术方法\n",
    "\n",
    "Python 中的魔术方法（Magic Methods）是一组特殊的方法，它们以双下划线（`__`）开头和结尾。这些方法可以在类中定义，用于实现对象的特定行为和操作。下面是一些常用的魔术方法及其功能：\n",
    "\n",
    "- 对象创建和销毁相关：\n",
    "\n",
    "  - `__new__(cls, ...)`: 创建对象时调用的方法，用于创建并返回实例。\n",
    "  - `__init__(self, ...)`: 初始化方法，用于对实例进行初始化操作。\n",
    "  - `__del__(self)`: 对象销毁时调用的方法，用于执行清理操作。\n",
    "\n",
    "- 对象表示相关：\n",
    "\n",
    "  - `__str__(self)`: 返回对象的字符串表示，通常在使用 `print(obj)` 或 `str(obj)` 时调用。\n",
    "  - `__repr__(self)`: 返回对象的可打印字符串表示，通常在使用 `repr(obj)` 时调用。\n",
    "  - `__format__(self, format_spec)`: 控制对象的格式化输出。\n",
    "\n",
    "- 属性访问相关：\n",
    "\n",
    "  - `__getattr__(self, name)`: 访问不存在属性时调用的方法。\n",
    "  - `__getattribute__(self, name)`: 访问对象属性时调用的方法，比 `__getattr__` 更早调用。\n",
    "  - `__setattr__(self, name, value)`: 对象属性赋值时调用的方法。\n",
    "  - `__delattr__(self, name)`: 删除对象属性时调用的方法。\n",
    "\n",
    "- 容器类型相关：\n",
    "\n",
    "  - `__len__(self)`: 返回对象的长度，通常在使用 `len(obj)` 时调用。\n",
    "  - `__getitem__(self, key)`: 对象通过索引访问元素时调用的方法。\n",
    "  - `__setitem__(self, key, value)`: 对象通过索引设置元素值时调用的方法。\n",
    "  - `__delitem__(self, key)`: 对象通过索引删除元素时调用的方法。\n",
    "  - `__iter__(self)`: 返回一个迭代器对象，用于支持对象的迭代。\n",
    "  - `__next__(self)`: 返回迭代器的下一个元素。\n",
    "  - `__contains__(self, item)`: 判断对象是否包含指定元素，通常在使用 `in` 运算符时调用。\n",
    "\n",
    "- 比较和排序相关：\n",
    "\n",
    "  - `__eq__(self, other)`: 定义对象的相等比较操作，使得对象可以使用 `==` 运算符进行比较。\n",
    "  - `__ne__(self, other)`: 定义对象的不等比较操作，使得对象可以使用 `!=` 运算符进行比较。\n",
    "  - `__lt__(self, other)`: 定义对象的小于比较操作，使得对象可以使用 `<` 运算符进行比较。\n",
    "  - `__gt__(self, other)`: 定义对象的大于比较操作，使得对象可以使用 `>` 运算符进行比较。\n",
    "  - `__le__(self, other)`: 定义对象的小于等于比较操作，使得对象可以使用 `<=` 运算符进行比较。\n",
    "  - `__ge__(self, other)`: 定义对象的大于等于比较操作，使得对象可以使用 `>=` 运算符进行比较。\n",
    "  - `__hash__(self)`: 返回对象的哈希值。\n",
    "\n",
    "- 调用相关：\n",
    "\n",
    "  - `__call__(self, ...)`: 将对象当作函数进行调用时调用的方法。\n",
    "\n",
    "- 上下文管理相关：\n",
    "\n",
    "  - `__enter__(self)`, `__exit__(self, exc_type, exc_value, traceback)`: 定义对象在上下文管理器中的行为，允许使用 `with` 语句管理资源。\n"
   ]
  }
 ],
 "metadata": {
  "language_info": {
   "name": "python"
  },
  "orig_nbformat": 4
 },
 "nbformat": 4,
 "nbformat_minor": 2
}
