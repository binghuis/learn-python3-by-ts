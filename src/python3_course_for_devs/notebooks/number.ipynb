{
 "cells": [
  {
   "cell_type": "markdown",
   "metadata": {},
   "source": [
    "# 数字类型\n",
    "\n",
    "数字类型即非`可变类型`也非`序列类型`（`可变类型`和`序列类型`的概念在 [数据类型]('./types.ipynb') 有讲）\n",
    "\n",
    "数字类型包括：\n",
    "\n",
    "- `int`: 整型（长整型）\n",
    "- `float`: 浮点型（双精度）\n",
    "- `complex`: 复数类型\n",
    "\n",
    "tip: 在 python 中布尔型是 `int` 类型的子类型，详细解释在 [布尔型]('./bool.ipynb')\n"
   ]
  },
  {
   "cell_type": "markdown",
   "metadata": {},
   "source": [
    "## 创建一个数字\n"
   ]
  },
  {
   "cell_type": "markdown",
   "metadata": {},
   "source": [
    "### 通过字面值形式创建\n"
   ]
  },
  {
   "cell_type": "code",
   "execution_count": 36,
   "metadata": {},
   "outputs": [
    {
     "data": {
      "text/plain": [
       "(1+2j)"
      ]
     },
     "execution_count": 36,
     "metadata": {},
     "output_type": "execute_result"
    }
   ],
   "source": [
    "# int 型字面值\n",
    "1  # 正整数\n",
    "-1  # 负整数\n",
    "0xA0F  # 十六进制整数\n",
    "0o37  # 八进制整数\n",
    "\n",
    "# float 型字面值\n",
    "1.1  # 小数\n",
    "2.5e2  # 科学计数法表示的小数\n",
    "\n",
    "# complex 型字面值，通过 a + bj 的形式声明，a 是复数的实数部，b 是复数的虚数部\n",
    "1 + 2j"
   ]
  },
  {
   "cell_type": "markdown",
   "metadata": {},
   "source": [
    "### 通过构造函数创建\n",
    "\n",
    "数字类型 `int`、`float` 和 `complex` 都有各自同名函数，它们是对应类型的构造/转换函数，本节我们只看函数的构造功能，类型转换看这节 [类型转换]('./type_conversion.ipynb')\n"
   ]
  },
  {
   "cell_type": "markdown",
   "metadata": {},
   "source": [
    "#### 整数创建\n"
   ]
  },
  {
   "cell_type": "code",
   "execution_count": 37,
   "metadata": {},
   "outputs": [
    {
     "data": {
      "text/plain": [
       "0"
      ]
     },
     "execution_count": 37,
     "metadata": {},
     "output_type": "execute_result"
    }
   ],
   "source": [
    "# 通过 int 方法创建一个默认为 0 的整数\n",
    "\n",
    "int()  # 0"
   ]
  },
  {
   "cell_type": "markdown",
   "metadata": {},
   "source": [
    "#### 浮点数创建\n"
   ]
  },
  {
   "cell_type": "code",
   "execution_count": 38,
   "metadata": {},
   "outputs": [
    {
     "data": {
      "text/plain": [
       "0.0"
      ]
     },
     "execution_count": 38,
     "metadata": {},
     "output_type": "execute_result"
    }
   ],
   "source": [
    "# 通过 float 方法创建一个默认为 0.0 的小数\n",
    "\n",
    "float()  # 0.0"
   ]
  },
  {
   "cell_type": "markdown",
   "metadata": {},
   "source": [
    "#### 复数创建\n",
    "\n",
    "构造函数 `complex` 方法接收两个参数，分别对应复数的实部和虚部，虚部如果不传则默认为 0\n"
   ]
  },
  {
   "cell_type": "code",
   "execution_count": 39,
   "metadata": {},
   "outputs": [
    {
     "data": {
      "text/plain": [
       "(-3+0j)"
      ]
     },
     "execution_count": 39,
     "metadata": {},
     "output_type": "execute_result"
    }
   ],
   "source": [
    "# 通过 complex 方法创建一个默认为 0j 的复数\n",
    "complex()\n",
    "\n",
    "# 虚部不传，1+0j\n",
    "complex(1)\n",
    "\n",
    "# 浮点数，-1.1-1.2j\n",
    "complex(-1.1, -1.2)\n",
    "\n",
    "# 布尔型，-1j（再啰嗦一遍，python 中布尔型是整型的子类型）\n",
    "complex(+False, -True)\n",
    "\n",
    "# 整数字面值字符串，可以带正负号，首尾也可以有空格\n",
    "complex(\" -3 \")\n",
    "\n",
    "# 注意：complex 方法如果只传一个参数，可以是数字或者字符串，但传两个参数，那么两个参数都必须是数字\n",
    "# 还有：complex 参数不支持字节串或者字节数组\n",
    "\n",
    "# complex(\"-3\", 3)  # 错\n",
    "# complex(-3, \"3\")  # 错\n",
    "# complex(b\"3\")  # 错"
   ]
  },
  {
   "cell_type": "markdown",
   "metadata": {},
   "source": [
    "## 数字运算\n"
   ]
  },
  {
   "cell_type": "code",
   "execution_count": 41,
   "metadata": {},
   "outputs": [
    {
     "data": {
      "text/plain": [
       "9"
      ]
     },
     "execution_count": 41,
     "metadata": {},
     "output_type": "execute_result"
    }
   ],
   "source": [
    "# 加减乘除\n",
    "2 * (3 + 7) - 10 / 2\n",
    "\n",
    "# tip：除法 / 返回的是浮点数，要想返回整数要用 // 且除数和被除数要都是整数\n",
    "17 // 3  # 5：向下取整\n",
    "17.0 // 3  # 5.0\n",
    "\n",
    "# 求余\n",
    "17 % 3  # 2\n",
    "\n",
    "# 幂运算\n",
    "3**2  # 9"
   ]
  },
  {
   "cell_type": "markdown",
   "metadata": {},
   "source": [
    "## 数字类型内置方法/标准库操作\n"
   ]
  },
  {
   "cell_type": "markdown",
   "metadata": {},
   "source": [
    "### 绝对值、取整\n"
   ]
  },
  {
   "cell_type": "code",
   "execution_count": 42,
   "metadata": {},
   "outputs": [
    {
     "data": {
      "text/plain": [
       "4"
      ]
     },
     "execution_count": 42,
     "metadata": {},
     "output_type": "execute_result"
    }
   ],
   "source": [
    "import math\n",
    "\n",
    "# 绝对值\n",
    "abs(-1)\n",
    "\n",
    "# 四舍五入\n",
    "round(3.55555, 3)\n",
    "\n",
    "# 浮点数形式绝对值\n",
    "math.fabs(-10)\n",
    "\n",
    "# 上取整\n",
    "math.ceil(3.3)\n",
    "\n",
    "# 下取整\n",
    "math.floor(4.9)"
   ]
  },
  {
   "cell_type": "markdown",
   "metadata": {},
   "source": [
    "### 最大/最小值\n",
    "\n",
    "从一组`序列类型`里取最大/最小值\n",
    "\n",
    "- `max`\n",
    "- `min`\n"
   ]
  },
  {
   "cell_type": "code",
   "execution_count": 43,
   "metadata": {},
   "outputs": [
    {
     "data": {
      "text/plain": [
       "1"
      ]
     },
     "execution_count": 43,
     "metadata": {},
     "output_type": "execute_result"
    }
   ],
   "source": [
    "min(1, 2)\n",
    "min((1, 2))\n",
    "min([1, 2])\n",
    "\n",
    "# max 使用方式同上"
   ]
  },
  {
   "cell_type": "markdown",
   "metadata": {},
   "source": [
    "### 随机数操作\n"
   ]
  },
  {
   "cell_type": "code",
   "execution_count": 44,
   "metadata": {},
   "outputs": [
    {
     "data": {
      "text/plain": [
       "[3, 5, 1, 8]"
      ]
     },
     "execution_count": 44,
     "metadata": {},
     "output_type": "execute_result"
    }
   ],
   "source": [
    "import random\n",
    "\n",
    "# 从一个序列随机取值\n",
    "random.choice([1, 2])\n",
    "\n",
    "# 从指定范围内随机抽取，支持设定梯度\n",
    "random.randrange(1, 9, 2)\n",
    "\n",
    "# [0,1) 范围呢随机数生成\n",
    "random.random()\n",
    "\n",
    "# 在指定范围呢生成随机数\n",
    "random.uniform(1, 9)\n",
    "\n",
    "# 随机对一个序列排序\n",
    "list = [1, 3, 5, 8]\n",
    "random.shuffle(list)\n",
    "list"
   ]
  },
  {
   "cell_type": "markdown",
   "metadata": {},
   "source": [
    "### 浮点数拆分\n"
   ]
  },
  {
   "cell_type": "code",
   "execution_count": 46,
   "metadata": {},
   "outputs": [
    {
     "data": {
      "text/plain": [
       "(0.3000000000000007, 10.0)"
      ]
     },
     "execution_count": 46,
     "metadata": {},
     "output_type": "execute_result"
    }
   ],
   "source": [
    "import math\n",
    "\n",
    "# 返回一个元组类型包括这个数的小数和整数部分，(小数部分, 整数部分)，两部分数值符号与参数相同，整数部分以浮点型表示\n",
    "# 注意！！：这里 10.3 输出的小数部分不是 0.3，是 0.3000000000000007\n",
    "math.modf(10.3)"
   ]
  },
  {
   "cell_type": "markdown",
   "metadata": {},
   "source": [
    "关于浮点数计算误差原因看这一节：[0.1 + 0.2 !== 0.3 ?]('./float_calc.ipynb')\n"
   ]
  }
 ],
 "metadata": {
  "kernelspec": {
   "display_name": "Python 3 (ipykernel)",
   "language": "python",
   "name": "python3"
  },
  "language_info": {
   "codemirror_mode": {
    "name": "ipython",
    "version": 3
   },
   "file_extension": ".py",
   "mimetype": "text/x-python",
   "name": "python",
   "nbconvert_exporter": "python",
   "pygments_lexer": "ipython3",
   "version": "3.10.6"
  }
 },
 "nbformat": 4,
 "nbformat_minor": 4
}
