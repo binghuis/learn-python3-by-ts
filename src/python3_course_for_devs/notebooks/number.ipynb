{
 "cells": [
  {
   "cell_type": "markdown",
   "metadata": {},
   "source": [
    "> ”一个看上去是整数的东西，其实都是浮点数“ -- mdn web docs\n",
    "\n",
    "上面这句话出自 mdn 上的 Number 章节，指的是在 TS 中，我们平时写的数字尽管有的看起来是整型，其实也都是浮点型，\n",
    "因为在 TS 中，number 类型就是浮点型，如下：\n",
    "\n",
    "```ts\n",
    "// a 和 b 都是浮点型，尽管 a 看起来好像是个整型\n",
    "const a: number = 1;\n",
    "const b: number = 1.1;\n",
    "```\n",
    "\n",
    "不过，在 TS 中数值类型是有整型的，那就是在 ES 2020 新加入的类型 bigint\n",
    "\n",
    "```ts\n",
    "// 在整数后面加个 n，就是声明 bigint 了，c 就是整数类型\n",
    "const c = 1n;\n",
    "console.log(typeof c); // bigint\n",
    "```\n",
    "\n",
    "总结：\n",
    "\n",
    "- number：双精度 64 位浮点型\n",
    "- bigint：长整型\n"
   ]
  },
  {
   "cell_type": "code",
   "execution_count": 1,
   "metadata": {},
   "outputs": [
    {
     "name": "stdout",
     "output_type": "stream",
     "text": [
      "<class 'int'>\n",
      "<class 'float'>\n",
      "<class 'complex'>\n"
     ]
    }
   ],
   "source": [
    "\"\"\" \n",
    "python 中数值类型有三种：\n",
    "int：长整型\n",
    "float：浮点型\n",
    "complex：复数，用 a + bj，或者 complex(a, b) 表示，复数的实部 a 和虚部 b 都是浮点型\n",
    "\"\"\"\n",
    "\n",
    "# 整型\n",
    "a = 1  # 正\n",
    "a2 = -1  # 负\n",
    "a3 = 0xA0F  # 十六进制\n",
    "a4 = 0o37  # 八进制\n",
    "\n",
    "# 浮点型\n",
    "b = 1.1  # 小数\n",
    "b2 = 2.5e2  # 科学计数法表示的小数\n",
    "\n",
    "# 复数\n",
    "c = 1 + 2j\n",
    "\n",
    "print(type(a))\n",
    "print(type(b))\n",
    "print(type(c))"
   ]
  },
  {
   "cell_type": "code",
   "execution_count": 73,
   "metadata": {},
   "outputs": [
    {
     "name": "stdout",
     "output_type": "stream",
     "text": [
      "True\n",
      "True\n",
      "10\n",
      "20\n",
      "32\n",
      "-32\n",
      "42\n",
      "42\n",
      "-42\n",
      "42\n",
      "42\n",
      "42\n",
      "42\n"
     ]
    },
    {
     "data": {
      "text/plain": [
       "42"
      ]
     },
     "execution_count": 73,
     "metadata": {},
     "output_type": "execute_result"
    }
   ],
   "source": [
    "# 接下来看一下 python 是如何进行数值类型的转换的\n",
    "\n",
    "# 下面，把你的光标移动到 int() 方法上，你将会看到这个方法的解释\n",
    "\n",
    "int()\n",
    "\n",
    "# int 方法的官方解释是 Convert a number or string to an integer\n",
    "# 但是严格来说 int 转换的不仅仅是字符串或者数字，还包括其他几种情况，下面一一列举\n",
    "\n",
    "# 1. 布尔型\n",
    "print(int(True) == 1)  # 这是因为在 python 中，布尔类型其实是数值类型的子类型，这个会在 boolean 章节详细介绍，这里先留个印象\n",
    "\n",
    "# 2. 空\n",
    "print(int() == 0)  # 如果传参为空，则 return 0\n",
    "# 注意：传参为空的意思是啥都不传，None 不行，空字符串/空列表更不行\n",
    "\n",
    "# 3. 实现了 __int__ 方法的类所生成的对象\n",
    "\n",
    "print(int(10))  # 数字类型默认实现了 __int__ 方法，因此可以被转换\n",
    "\n",
    "\n",
    "# 自定义类 MyIntClass 实现了 __int__ 方法，因此对象 my_num 也可以被转换\n",
    "class MyIntClass:\n",
    "    def __init__(self, value):\n",
    "        self.value = value\n",
    "\n",
    "    # 注意：__int__ 返回的必须是 int 型，不然报错\n",
    "    def __int__(self):\n",
    "        return self.value\n",
    "\n",
    "\n",
    "my_num = MyIntClass(20)\n",
    "print(int(my_num))  # 因为在执行 int 方法的时候，它会寻找对象上的 __int__ 方法，如果找到了即执行并返回结果\n",
    "\n",
    "# 4. 浮点数\n",
    "# 结果向零方向取整，这个好理解\n",
    "print(int(32.6))\n",
    "print(int(-32.6))\n",
    "\n",
    "# 5. 字符串 / 字节串 / 字节数组\n",
    "# 如果传入的是字符串、字节串或者字节数组，首先要注意一个参数 base，\n",
    "# 就像是 TS 里面的 parseInt 方法一样，int 方法也接收一个参数，表示要转换数字的进制，默认为 10，即十进制\n",
    "# 注意：在这种情况下只能传入”整数字面值“，但是可以带正负号，且首尾可以有空格\n",
    "# tip：字面值（Literal）是指表示特定值的语法表示形式。它们是代码中直接使用的固定值，而不是变量或计算结果\n",
    "# 看例子：\n",
    "\n",
    "# 整数字面值字符串\n",
    "print(int(\"42\"))\n",
    "print(int(\" 42 \"))  # 首尾有空格\n",
    "print(int(\"-42\"))  # 加了个负号\n",
    "# int(\"42.2\") 不行，不是整数\n",
    "\n",
    "# 整数字面值字节串\n",
    "print(int(b\"42\"))\n",
    "print(int(b\"101010\", base=2))\n",
    "# int(bytes([72, 101, 108, 108, 111])) 不行，不支持构造函数生成，要是字面值\n",
    "# int(b\"42\", base=2) 不行，42 不是二进制\n",
    "\n",
    "# 整数字面值字节数组\n",
    "print(int(bytearray(b\"42\")))\n",
    "print(int(bytearray(b\"101010\"), 2))\n",
    "\n",
    "# 最后一点需要注意的是 base 的范围为 2-36，以及 0\n",
    "# 当 base 为 0 的时候，int 函数会根据前缀来确定其解析进制\n",
    "\n",
    "int(\"42\", 0)  # 解析为十进制\n",
    "int(\"0x42\", 0)  # 解析为十六进制\n",
    "int(\"0o42\", 0)  # 解析为八进制\n",
    "int(\"0b101010\", 0)  # 解析为二进制"
   ]
  },
  {
   "cell_type": "code",
   "execution_count": 14,
   "metadata": {},
   "outputs": [
    {
     "data": {
      "text/plain": [
       "0.0"
      ]
     },
     "execution_count": 14,
     "metadata": {},
     "output_type": "execute_result"
    }
   ],
   "source": [
    "float()"
   ]
  }
 ],
 "metadata": {
  "kernelspec": {
   "display_name": "Python 3 (ipykernel)",
   "language": "python",
   "name": "python3"
  },
  "language_info": {
   "codemirror_mode": {
    "name": "ipython",
    "version": 3
   },
   "file_extension": ".py",
   "mimetype": "text/x-python",
   "name": "python",
   "nbconvert_exporter": "python",
   "pygments_lexer": "ipython3",
   "version": "3.10.6"
  }
 },
 "nbformat": 4,
 "nbformat_minor": 4
}
