{
 "cells": [
  {
   "cell_type": "markdown",
   "metadata": {},
   "source": [
    "> ”一个看上去是整数的东西，其实都是浮点数“ -- mdn web docs\n",
    "\n",
    "上面这句话出自 mdn 上的 Number 章节，指的是在 TS 中，我们平时写的数字尽管有的看起来是整型，其实也都是浮点型，\n",
    "因为在 TS 中，number 类型就是浮点型，如下：\n",
    "\n",
    "```ts\n",
    "// a 和 b 都是浮点型，尽管 a 看起来好像是个整型\n",
    "const a: number = 1;\n",
    "const b: number = 1.1;\n",
    "```\n",
    "\n",
    "不过，在 TS 中数值类型是有整型的，那就是在 ES 2020 新加入的类型 bigint\n",
    "\n",
    "```ts\n",
    "// 在整数后面加个 n，就是声明 bigint 了，c 就是整数类型\n",
    "const c = 1n;\n",
    "console.log(typeof c); // bigint\n",
    "```\n",
    "\n",
    "总结：\n",
    "\n",
    "- number：双精度 64 位浮点型\n",
    "- bigint：长整型\n"
   ]
  },
  {
   "cell_type": "code",
   "execution_count": 6,
   "metadata": {},
   "outputs": [
    {
     "name": "stdout",
     "output_type": "stream",
     "text": [
      "<class 'int'>\n",
      "<class 'float'>\n",
      "<class 'complex'>\n"
     ]
    }
   ],
   "source": [
    "\"\"\" \n",
    "python 中数值类型有三种：\n",
    "int：长整型\n",
    "float：浮点型\n",
    "complex：复数，用 a + bj，或者 complex(a, b) 表示，复数的实部 a 和虚部 b 都是浮点型\n",
    "\"\"\"\n",
    "\n",
    "# 整型\n",
    "a = 1  # 正\n",
    "a2 = -1  # 负\n",
    "a3 = 0xA0F  # 十六进制\n",
    "a4 = 0o37  # 八进制\n",
    "\n",
    "# 浮点型\n",
    "b = 1.1  # 小数\n",
    "b2 = 2.5e2  # 科学计数法表示的小数\n",
    "\n",
    "# 复数\n",
    "c = 1 + 2j\n",
    "\n",
    "print(type(a))\n",
    "print(type(b))\n",
    "print(type(c))"
   ]
  },
  {
   "cell_type": "code",
   "execution_count": 7,
   "metadata": {},
   "outputs": [
    {
     "name": "stdout",
     "output_type": "stream",
     "text": [
      "True\n",
      "True\n",
      "10\n",
      "20\n",
      "32\n",
      "-32\n",
      "42\n",
      "42\n",
      "-42\n",
      "42\n",
      "42\n",
      "42\n",
      "42\n"
     ]
    },
    {
     "data": {
      "text/plain": [
       "42"
      ]
     },
     "execution_count": 7,
     "metadata": {},
     "output_type": "execute_result"
    }
   ],
   "source": [
    "# 接下来看一下 python 是如何进行数值类型的转换的\n",
    "\n",
    "# 下面，把你的光标移动到 int() 方法上，你将会看到这个方法的解释\n",
    "\n",
    "int()\n",
    "\n",
    "# int 方法的官方解释是 Convert a number or string to an integer\n",
    "# 但是严格来说 int 转换的不仅仅是字符串或者数字，还包括其他几种情况，下面一一列举\n",
    "\n",
    "# 1. 布尔型\n",
    "print(int(True) == 1)  # 这是因为在 python 中，布尔类型其实是数值类型的子类型，这个会在 boolean 章节详细介绍，这里先留个印象\n",
    "\n",
    "# 2. 空\n",
    "print(int() == 0)  # 如果传参为空，则 return 0\n",
    "# 注意：传参为空的意思是啥都不传，None 不行，空字符串/空列表更不行\n",
    "\n",
    "# 3. 实现了 __int__ 方法的类所生成的对象\n",
    "\n",
    "print(int(10))  # 数字类型默认实现了 __int__ 方法，因此可以被转换\n",
    "\n",
    "\n",
    "# 自定义类 MyIntClass 实现了 __int__ 方法，因此对象 my_num 也可以被转换\n",
    "class MyIntClass:\n",
    "    def __init__(self, value):\n",
    "        self.value = value\n",
    "\n",
    "    # 注意：__int__ 返回的必须是 int 型，不然报错\n",
    "    def __int__(self):\n",
    "        return self.value\n",
    "\n",
    "\n",
    "my_num = MyIntClass(20)\n",
    "print(int(my_num))  # 因为在执行 int 方法的时候，它会寻找对象上的 __int__ 方法，如果找到了即执行并返回结果\n",
    "\n",
    "# 4. 浮点数\n",
    "# 结果向零方向取整，这个好理解\n",
    "print(int(32.6))\n",
    "print(int(-32.6))\n",
    "\n",
    "# 5. 字符串 / 字节串 / 字节数组\n",
    "# 如果传入的是字符串、字节串或者字节数组，首先要注意一个参数 base，\n",
    "# 就像是 TS 里面的 parseInt 方法一样，int 方法也接收一个参数，表示要转换数字的进制，默认为 10，即十进制\n",
    "# 注意：在这种情况下只能传入”整数字面值“，但是可以带正负号，且首尾可以有空格\n",
    "# tip：字面值（Literal）是指表示特定值的语法表示形式。它们是代码中直接使用的固定值，而不是变量或计算结果\n",
    "# 看例子：\n",
    "\n",
    "# 整数字面值字符串\n",
    "print(int(\"42\"))\n",
    "print(int(\" 42 \"))  # 首尾有空格\n",
    "print(int(\"-42\"))  # 加了个负号\n",
    "# int(\"42.2\") 不行，不是整数\n",
    "\n",
    "# 整数字面值字节串\n",
    "print(int(b\"42\"))\n",
    "print(int(b\"101010\", base=2))\n",
    "# int(bytes([72, 101, 108, 108, 111])) 不行，不支持构造函数生成，要是字面值\n",
    "# int(b\"42\", base=2) 不行，42 不是二进制\n",
    "\n",
    "# 整数字面值字节数组\n",
    "print(int(bytearray(b\"42\")))\n",
    "print(int(bytearray(b\"101010\"), 2))\n",
    "\n",
    "# 最后一点需要注意的是 base 的范围为 2-36，以及 0\n",
    "# 当 base 为 0 的时候，int 函数会根据前缀来确定其解析进制\n",
    "\n",
    "int(\"42\", 0)  # 解析为十进制\n",
    "int(\"0x42\", 0)  # 解析为十六进制\n",
    "int(\"0o42\", 0)  # 解析为八进制\n",
    "int(\"0b101010\", 0)  # 解析为二进制"
   ]
  },
  {
   "cell_type": "code",
   "execution_count": 11,
   "metadata": {},
   "outputs": [
    {
     "name": "stdout",
     "output_type": "stream",
     "text": [
      "True\n",
      "True\n",
      "20.2\n",
      "42.0\n",
      "42.0\n",
      "-42.0\n",
      "42.0\n",
      "42.0\n"
     ]
    }
   ],
   "source": [
    "# 浮点数转换\n",
    "\n",
    "float()  # float 方法的官方解释是 Convert a string or number to a floating point number, if possible.\n",
    "# 但是呢，和上面的 int 方法一样，实际上也有好多细节，下面详细解释一下\n",
    "# 在 int 那里已经讲了的部分，就不重复了，只讲一下和 int 方法不一样的地方\n",
    "\n",
    "# 1. 布尔型\n",
    "print(float(True) == 1)\n",
    "# 2. 空\n",
    "print(float() == 0)\n",
    "\n",
    "# 3. 实现了 __float__ 方法的类所生成的对象\n",
    "\n",
    "\n",
    "class MyFloatClass:\n",
    "    def __init__(self, value):\n",
    "        self.value = value\n",
    "\n",
    "    def __float__(self):  # 这里还是强调一下，返回类型一定要是浮点型\n",
    "        return self.value\n",
    "\n",
    "\n",
    "my_float = MyFloatClass(20.2)\n",
    "print(float(my_float))\n",
    "\n",
    "\n",
    "# 4. 字符串 / 字节串 / 字节数组\n",
    "\n",
    "# 注意：float 只有一个参数，没有 base，不涉及进制的问题\n",
    "# 整数字面值字符串\n",
    "print(float(\"42\"))\n",
    "print(float(\" 42 \"))\n",
    "print(float(\"-42\"))\n",
    "\n",
    "# 整数字面值字节串\n",
    "print(float(b\"42\"))\n",
    "\n",
    "# 整数字面值字节数组\n",
    "print(float(bytearray(b\"42\")))"
   ]
  },
  {
   "cell_type": "code",
   "execution_count": 36,
   "metadata": {},
   "outputs": [
    {
     "name": "stdout",
     "output_type": "stream",
     "text": [
      "0j\n",
      "(1+0j)\n",
      "(-1.1-1.2j)\n",
      "-1j\n",
      "(3+0j)\n",
      "(3+0j)\n",
      "(-3+0j)\n"
     ]
    }
   ],
   "source": [
    "# 复数转换\n",
    "\n",
    "complex()\n",
    "\n",
    "# 官方定义汉化：complex(real, imag) 等同于 real + imag*1j，由实部 real 和 虚部 imag 创建一个复数，虚部 imag 可以不传默认为 0\n",
    "# 注意：还是要像上面一样，继续啰嗦，其实看完 int 和 float 两部分，你应该大概理清楚这里面的套路了，那么我们继续精简废话，看代码\n",
    "print(complex())  # 传空，可以\n",
    "print(complex(1))  # 虚部不传，可以\n",
    "print(complex(-1.1, -1.2))  # 浮点数，可以\n",
    "print(complex(+False, -True))  # 布尔型，可以（啰嗦最后一遍，python 中布尔型是数值类型的子类型）\n",
    "\n",
    "# 注意：来新东西了啊，complex 方法如果只传一个参数，可以是数字或者字符串，但传两个参数，那么两个参数都必须是数字\n",
    "# 还有：complex 参数不支持字节串或者字节数组了，只支持字面值字符串\n",
    "\n",
    "# complex(\"-3\", 3)  # 错\n",
    "# complex(-3, \"3\")  # 错\n",
    "\n",
    "print(complex(\"3\"))  # 整数字面值字符串，可以\n",
    "print(complex(\" 3 \"))  # 收尾加空格，可以\n",
    "print(complex(\"-3\"))  # 带正负号，可以"
   ]
  },
  {
   "cell_type": "code",
   "execution_count": 43,
   "metadata": {},
   "outputs": [
    {
     "name": "stdout",
     "output_type": "stream",
     "text": [
      "15.0\n",
      "5\n",
      "5.0\n",
      "2\n",
      "29.160000000000004\n"
     ]
    }
   ],
   "source": [
    "# 迅速过一遍数字运算，很简单，但是每个语言数字类型都有它\n",
    "\n",
    "# 加减乘除\n",
    "print(2 * 10 - 10 / 2)\n",
    "\n",
    "# tip：除法 / 返回的一直是浮点数，要想返回整数要用 //，前提是除数和被除数都是整数，否则返回的还是浮点数\n",
    "print(17 // 3)  # 向下取整\n",
    "print(17.0 // 3)  # 被除数是浮点数，结果也是\n",
    "\n",
    "# 求余\n",
    "print(17 % 3)\n",
    "\n",
    "# 幂运算\n",
    "print(5.4**2)"
   ]
  },
  {
   "cell_type": "code",
   "execution_count": 100,
   "metadata": {},
   "outputs": [
    {
     "name": "stdout",
     "output_type": "stream",
     "text": [
      "1\n",
      "10.0\n",
      "4\n",
      "4\n",
      "1\n",
      "1\n",
      "1\n",
      "(0.3000000000000007, 10.0)\n",
      "True\n",
      "3.556\n",
      "2\n",
      "1\n",
      "0.15726888821521878\n",
      "3.047471717698662\n",
      "[5, 3, 8, 1]\n"
     ]
    }
   ],
   "source": [
    "# 最后，数学函数/随机数函数/三角函数 这些内置方法，只挑几个常用的说一下，其余的随用随查，大家也节约时间\n",
    "import math\n",
    "import random\n",
    "\n",
    "print(abs(-1))  # 取绝对值\n",
    "print(math.fabs(-10))  # 浮点数形式取绝对值\n",
    "print(math.ceil(3.3))  # 上取整\n",
    "print(math.floor(4.9))  # 下取整\n",
    "# 最大/最小值，参数支持元组，列表等序列\n",
    "print(min(1, 2))\n",
    "print(min((1, 2)))\n",
    "print(min([1, 2]))\n",
    "# max 也一样，不重复写了哈\n",
    "\n",
    "print(math.modf(10.3))  # 返回一个元组类型包括这个数的小数和整数部分，(小数部分, 整数部分)，两部分数值符号与参数相同，整数部分以浮点型表示\n",
    "# 注意！！：这里 10.3 输出的小数部分不是 0.3，是 0.3000000000000007\n",
    "# 如果有 js 开发经验的同学，想起来点啥没？那道经典的面试题？\n",
    "print(0.1 + 0.2 != 0.3)  # 为什么？\n",
    "# 因为篇幅的原因，浮点数计算详细介绍这部分放到了 float_calc 这章\n",
    "\n",
    "# 四舍五入\n",
    "print(round(3.55555, 3))\n",
    "\n",
    "# 从序列中随机抽取\n",
    "print(random.choice([1, 2]))\n",
    "\n",
    "# 从指定范围内随机抽取，支持设定梯度\n",
    "print(random.randrange(1, 9, 2))\n",
    "# [0,1) 范围呢随机数生成\n",
    "print(random.random())\n",
    "# 在指定范围呢生成随机数\n",
    "print(random.uniform(1, 9))\n",
    "# 随机对一个序列排序\n",
    "list = [1, 3, 5, 8]\n",
    "random.shuffle(list)\n",
    "print(list)"
   ]
  }
 ],
 "metadata": {
  "kernelspec": {
   "display_name": "Python 3 (ipykernel)",
   "language": "python",
   "name": "python3"
  },
  "language_info": {
   "codemirror_mode": {
    "name": "ipython",
    "version": 3
   },
   "file_extension": ".py",
   "mimetype": "text/x-python",
   "name": "python",
   "nbconvert_exporter": "python",
   "pygments_lexer": "ipython3",
   "version": "3.10.6"
  }
 },
 "nbformat": 4,
 "nbformat_minor": 4
}
