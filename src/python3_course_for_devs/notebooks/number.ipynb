{
 "cells": [
  {
   "cell_type": "markdown",
   "metadata": {},
   "source": [
    "# 数字类型\n",
    "\n",
    "数字类型即非`可变类型`也非`序列类型`（`可变类型`和`序列类型`的概念在 [数据类型]('./types.ipynb') 有讲）\n",
    "\n",
    "数字类型包括：\n",
    "\n",
    "- `int`: 整型（长整型），即整数\n",
    "- `float`: 浮点型（双精度），即小数\n",
    "- `complex`: 复数类型，由 a+bj 表示，a 为实数部，b 为虚数部\n",
    "\n",
    "tip: 在 python 中布尔型是 `int` 类型的子类型，详细解释在 [布尔型]('./bool.ipynb')\n"
   ]
  },
  {
   "cell_type": "markdown",
   "metadata": {},
   "source": [
    "## 创建一个数字\n"
   ]
  },
  {
   "cell_type": "markdown",
   "metadata": {},
   "source": [
    "### 通过字面值形式创建\n"
   ]
  },
  {
   "cell_type": "code",
   "execution_count": 29,
   "metadata": {},
   "outputs": [
    {
     "data": {
      "text/plain": [
       "(1+2j)"
      ]
     },
     "execution_count": 29,
     "metadata": {},
     "output_type": "execute_result"
    }
   ],
   "source": [
    "# 整数型字面值\n",
    "1  # 正整数\n",
    "-1  # 负整数\n",
    "0xA0F  # 十六进制整数\n",
    "0o37  # 八进制整数\n",
    "\n",
    "# 浮点型字面值\n",
    "1.1  # 小数\n",
    "2.5e2  # 科学计数法表示的小数\n",
    "\n",
    "# 复数类型字面值\n",
    "1 + 2j"
   ]
  },
  {
   "cell_type": "markdown",
   "metadata": {},
   "source": [
    "### 通过构造函数创建\n",
    "\n",
    "数字类型 `int`、`float` 和 `complex` 都有各自同名函数，它们是对应类型的构造/转换函数，本节我们只用它们构造数字，数字转换看这节 [类型转换]('./type_conversion.ipynb')\n"
   ]
  },
  {
   "cell_type": "markdown",
   "metadata": {},
   "source": [
    "#### 整数创建\n"
   ]
  },
  {
   "cell_type": "code",
   "execution_count": 30,
   "metadata": {},
   "outputs": [
    {
     "data": {
      "text/plain": [
       "0"
      ]
     },
     "execution_count": 30,
     "metadata": {},
     "output_type": "execute_result"
    }
   ],
   "source": [
    "# 通过 int 方法创建一个默认为 0 的整数\n",
    "\n",
    "int()  # 0"
   ]
  },
  {
   "cell_type": "markdown",
   "metadata": {},
   "source": [
    "#### 浮点数创建\n"
   ]
  },
  {
   "cell_type": "code",
   "execution_count": 31,
   "metadata": {},
   "outputs": [
    {
     "data": {
      "text/plain": [
       "0.0"
      ]
     },
     "execution_count": 31,
     "metadata": {},
     "output_type": "execute_result"
    }
   ],
   "source": [
    "# 通过 float 方法创建一个默认为 0.0 的小数\n",
    "\n",
    "float()  # 0.0"
   ]
  },
  {
   "cell_type": "markdown",
   "metadata": {},
   "source": [
    "#### 复数创建\n",
    "\n",
    "`complex` 方法接收两个参数，分别对应复数的实部和虚部，虚部如果不传则默认为 0\n"
   ]
  },
  {
   "cell_type": "code",
   "execution_count": 32,
   "metadata": {},
   "outputs": [
    {
     "data": {
      "text/plain": [
       "(-3+0j)"
      ]
     },
     "execution_count": 32,
     "metadata": {},
     "output_type": "execute_result"
    }
   ],
   "source": [
    "# 通过 complex 方法创建一个默认为 0j 的复数\n",
    "complex()\n",
    "\n",
    "# 虚部不传，1+0j\n",
    "complex(1)\n",
    "\n",
    "# 浮点数，-1.1-1.2j\n",
    "complex(-1.1, -1.2)\n",
    "\n",
    "# 布尔型，-1j（再啰嗦一遍，python 中布尔型是整型的子类型）\n",
    "complex(+False, -True)\n",
    "\n",
    "# 整数字面值字符串，可以带正负号，首尾也可以有空格\n",
    "# 注意：complex 方法如果只传一个参数，可以是数字或者字符串，但传两个参数，那么两个参数都必须是数字\n",
    "# 还有：complex 参数不支持字节串或者字节数组\n",
    "complex(\" -3 \")\n",
    "\n",
    "# complex(\"-3\", 3)  # 错\n",
    "# complex(-3, \"3\")  # 错\n",
    "# complex(b\"3\")  # 错"
   ]
  },
  {
   "cell_type": "markdown",
   "metadata": {},
   "source": [
    "## 数字运算\n",
    "\n",
    "tip：整数与浮点数运算，结果为浮点数\n"
   ]
  },
  {
   "cell_type": "code",
   "execution_count": 34,
   "metadata": {},
   "outputs": [
    {
     "data": {
      "text/plain": [
       "9"
      ]
     },
     "execution_count": 34,
     "metadata": {},
     "output_type": "execute_result"
    }
   ],
   "source": [
    "# 加减乘除\n",
    "2 * (3 + 7) - 10 / 2\n",
    "\n",
    "# 除法 / 返回的是浮点数\n",
    "9 / 2  # 4.5\n",
    "\n",
    "# 地板除法 // 向下取整\n",
    "9 // 2  # 4\n",
    "9.0 // 2  # 4.0\n",
    "\n",
    "# 求余\n",
    "17 % 3  # 2\n",
    "\n",
    "# 幂运算\n",
    "3**2  # 9"
   ]
  },
  {
   "cell_type": "markdown",
   "metadata": {},
   "source": [
    "## 数字类型内置方法/标准库操作\n"
   ]
  },
  {
   "cell_type": "markdown",
   "metadata": {},
   "source": [
    "### 数学操作\n"
   ]
  },
  {
   "cell_type": "code",
   "execution_count": 35,
   "metadata": {},
   "outputs": [
    {
     "data": {
      "text/plain": [
       "1"
      ]
     },
     "execution_count": 35,
     "metadata": {},
     "output_type": "execute_result"
    }
   ],
   "source": [
    "# 绝对值\n",
    "abs(-1)"
   ]
  },
  {
   "cell_type": "code",
   "execution_count": 43,
   "metadata": {},
   "outputs": [
    {
     "data": {
      "text/plain": [
       "10.0"
      ]
     },
     "execution_count": 43,
     "metadata": {},
     "output_type": "execute_result"
    }
   ],
   "source": [
    "# 浮点数形式绝对值\n",
    "import math\n",
    "\n",
    "math.fabs(-10)"
   ]
  },
  {
   "cell_type": "code",
   "execution_count": 37,
   "metadata": {},
   "outputs": [
    {
     "data": {
      "text/plain": [
       "4"
      ]
     },
     "execution_count": 37,
     "metadata": {},
     "output_type": "execute_result"
    }
   ],
   "source": [
    "# 上取整\n",
    "math.ceil(3.3)"
   ]
  },
  {
   "cell_type": "code",
   "execution_count": 38,
   "metadata": {},
   "outputs": [
    {
     "data": {
      "text/plain": [
       "4"
      ]
     },
     "execution_count": 38,
     "metadata": {},
     "output_type": "execute_result"
    }
   ],
   "source": [
    "# 下取整\n",
    "math.floor(4.9)"
   ]
  },
  {
   "cell_type": "code",
   "execution_count": 44,
   "metadata": {},
   "outputs": [
    {
     "data": {
      "text/plain": [
       "3.556"
      ]
     },
     "execution_count": 44,
     "metadata": {},
     "output_type": "execute_result"
    }
   ],
   "source": [
    "# 四舍五入\n",
    "round(3.55555, 3)  # 保留 3 位小数"
   ]
  },
  {
   "cell_type": "code",
   "execution_count": 46,
   "metadata": {},
   "outputs": [
    {
     "data": {
      "text/plain": [
       "8"
      ]
     },
     "execution_count": 46,
     "metadata": {},
     "output_type": "execute_result"
    }
   ],
   "source": [
    "# 幂运算：等同于 2**3\n",
    "pow(2, 3)"
   ]
  },
  {
   "cell_type": "markdown",
   "metadata": {},
   "source": [
    "### 最大/最小值\n",
    "\n",
    "从一组`序列类型`里取最大/最小值\n",
    "\n",
    "- `max`\n",
    "- `min`\n"
   ]
  },
  {
   "cell_type": "code",
   "execution_count": 45,
   "metadata": {},
   "outputs": [
    {
     "data": {
      "text/plain": [
       "1"
      ]
     },
     "execution_count": 45,
     "metadata": {},
     "output_type": "execute_result"
    }
   ],
   "source": [
    "min(1, 2)\n",
    "min((1, 2))\n",
    "min([1, 2])\n",
    "\n",
    "# max 使用方式同上"
   ]
  },
  {
   "cell_type": "markdown",
   "metadata": {},
   "source": [
    "### 随机数操作\n"
   ]
  },
  {
   "cell_type": "code",
   "execution_count": 52,
   "metadata": {},
   "outputs": [
    {
     "data": {
      "text/plain": [
       "1"
      ]
     },
     "execution_count": 52,
     "metadata": {},
     "output_type": "execute_result"
    }
   ],
   "source": [
    "import random\n",
    "\n",
    "# 从一个序列随机取值\n",
    "random.choice([1, 5, 3, 4])"
   ]
  },
  {
   "cell_type": "code",
   "execution_count": 53,
   "metadata": {},
   "outputs": [
    {
     "data": {
      "text/plain": [
       "7"
      ]
     },
     "execution_count": 53,
     "metadata": {},
     "output_type": "execute_result"
    }
   ],
   "source": [
    "# 从指定范围内随机抽取，支持设定梯度\n",
    "random.randrange(1, 9, 2)  # 从 1 到 9 随机取值，间隔为 2，等同于从 [1, 3, 5, 7] 中随机取值"
   ]
  },
  {
   "cell_type": "code",
   "execution_count": 54,
   "metadata": {},
   "outputs": [
    {
     "data": {
      "text/plain": [
       "0.9763965500235539"
      ]
     },
     "execution_count": 54,
     "metadata": {},
     "output_type": "execute_result"
    }
   ],
   "source": [
    "# [0,1) 范围内生成一个随机数\n",
    "random.random()"
   ]
  },
  {
   "cell_type": "code",
   "execution_count": 55,
   "metadata": {},
   "outputs": [
    {
     "data": {
      "text/plain": [
       "7.644884831573863"
      ]
     },
     "execution_count": 55,
     "metadata": {},
     "output_type": "execute_result"
    }
   ],
   "source": [
    "# 在指定范围内生成随机数\n",
    "random.uniform(1, 9)"
   ]
  },
  {
   "cell_type": "code",
   "execution_count": 56,
   "metadata": {},
   "outputs": [
    {
     "data": {
      "text/plain": [
       "[5, 8, 3, 1]"
      ]
     },
     "execution_count": 56,
     "metadata": {},
     "output_type": "execute_result"
    }
   ],
   "source": [
    "# 随机对一个序列排序\n",
    "list = [1, 3, 5, 8]\n",
    "random.shuffle(list)\n",
    "list"
   ]
  },
  {
   "cell_type": "markdown",
   "metadata": {},
   "source": [
    "### 浮点数计算\n"
   ]
  },
  {
   "cell_type": "code",
   "execution_count": 49,
   "metadata": {},
   "outputs": [
    {
     "data": {
      "text/plain": [
       "(-0.3000000000000007, -10.0)"
      ]
     },
     "execution_count": 49,
     "metadata": {},
     "output_type": "execute_result"
    }
   ],
   "source": [
    "# 用元组返回一个数的小数和整数部分：(小数部分, 整数部分)，两部分数值都带符号且都为浮点数\n",
    "# 注意：小数部分不是 0.3，而是 0.3000000000000007，为什么？向下看\n",
    "math.modf(-10.3)"
   ]
  },
  {
   "cell_type": "markdown",
   "metadata": {},
   "source": [
    "关于浮点数计算误差原因看这一节：[0.1 + 0.2 !== 0.3 ?]('./float_calc.ipynb')\n"
   ]
  }
 ],
 "metadata": {
  "kernelspec": {
   "display_name": "Python 3 (ipykernel)",
   "language": "python",
   "name": "python3"
  },
  "language_info": {
   "codemirror_mode": {
    "name": "ipython",
    "version": 3
   },
   "file_extension": ".py",
   "mimetype": "text/x-python",
   "name": "python",
   "nbconvert_exporter": "python",
   "pygments_lexer": "ipython3",
   "version": "3.10.6"
  }
 },
 "nbformat": 4,
 "nbformat_minor": 4
}
