{
 "cells": [
  {
   "cell_type": "markdown",
   "metadata": {},
   "source": [
    "# 作用域 & 命名空间\n"
   ]
  },
  {
   "cell_type": "markdown",
   "metadata": {},
   "source": [
    "## 命名空间\n",
    "\n",
    "命名空间可以被看作是一个字典或类似字典的对象，用于存储变量名和对应对象之间的映射关系。当你在一个作用域中定义一个变量时，这个变量就会被存储在该作用域对应的命名空间中。\n",
    "\n",
    "不同作用域的命名空间是相互独立的，它们之间不会相互干扰。这意味着在一个作用域内定义的变量不会影响到其他作用域中同名的变量。\n"
   ]
  },
  {
   "cell_type": "markdown",
   "metadata": {},
   "source": [
    "### 生命周期\n",
    "\n",
    "命名空间的生命周期可以与其所属的作用域相关联。命名空间是在创建对应作用域时动态生成的，并在作用域的生命周期内存在。命名空间的生命周期取决于其所属的作用域的创建和销毁过程。\n"
   ]
  },
  {
   "cell_type": "markdown",
   "metadata": {},
   "source": [
    "## 作用域\n",
    "\n",
    "在 Python 中，变量的作用域是指变量在程序中可见和可访问的范围。Python 有以下几种作用域：\n",
    "\n",
    "- Local（局部作用域）\n",
    "- Enclosing (or Nonlocal)（嵌套作用域）\n",
    "- Global（全局作用域）\n",
    "- Built-in（内置作用域）\n",
    "\n",
    "当引用一个变量时，解释器会按照以下顺序在不同的作用域的命名空间中查找变量：局部作用域 -> 嵌套作用域 -> 全局作用域 -> 内置作用域。这就是所谓的 `LEGB` 规则。\n"
   ]
  },
  {
   "cell_type": "markdown",
   "metadata": {},
   "source": [
    "### 全局作用域\n",
    "\n",
    "全局作用域（Global Scope）是在模块级别定义的变量的作用域。这意味着在模块中定义的变量可以在整个模块中的任何地方访问。全局变量在模块加载时被创建，并在整个程序的执行过程中一直存在，直到程序结束或模块被卸载。\n"
   ]
  },
  {
   "cell_type": "markdown",
   "metadata": {},
   "source": [
    "### 嵌套作用域\n",
    "\n",
    "嵌套作用域（Nested Scope）是指在一个函数内部定义的函数中的作用域。内部函数可以访问外部函数的变量和状态。嵌套作用域的作用范围包括外部函数及其嵌套函数的作用域。内部函数在定义时会捕获并保持对外部函数作用域的引用，形成了一个嵌套作用域链。内部函数可以在外部函数执行完毕后仍然访问外部函数的变量。\n"
   ]
  },
  {
   "cell_type": "markdown",
   "metadata": {},
   "source": [
    "### 局部作用域\n",
    "\n",
    "局部作用域（Local Scope）是指在函数内部定义的变量的作用域。这些变量只能在函数内部访问，对于函数外部是不可见的。局部作用域可以防止变量名冲突，提供了封装和保护变量的机制。局部作用域的变量在函数执行期间创建，并在函数执行完毕后被销毁。每次函数调用都会创建一个新的局部作用域。\n"
   ]
  },
  {
   "cell_type": "markdown",
   "metadata": {},
   "source": [
    "### 内置作用域\n",
    "\n",
    "内置作用域（Built-in Scope）是指 Python 解释器提供的内置函数和变量的作用域，内置作用域是全局作用域的一部分，因此在全局作用域中可以直接访问和使用内置函数（如 `print`、`len` 等）和内置类型（如 `list`、`dict` 等），而无需导入或声明。\n"
   ]
  },
  {
   "cell_type": "code",
   "execution_count": 6,
   "metadata": {},
   "outputs": [
    {
     "data": {
      "text/plain": [
       "['ArithmeticError',\n",
       " 'AssertionError',\n",
       " 'AttributeError',\n",
       " 'BaseException',\n",
       " 'BlockingIOError',\n",
       " 'BrokenPipeError',\n",
       " 'BufferError',\n",
       " 'BytesWarning',\n",
       " 'ChildProcessError',\n",
       " 'ConnectionAbortedError',\n",
       " 'ConnectionError',\n",
       " 'ConnectionRefusedError',\n",
       " 'ConnectionResetError',\n",
       " 'DeprecationWarning',\n",
       " 'EOFError',\n",
       " 'Ellipsis',\n",
       " 'EncodingWarning',\n",
       " 'EnvironmentError',\n",
       " 'Exception',\n",
       " 'False',\n",
       " 'FileExistsError',\n",
       " 'FileNotFoundError',\n",
       " 'FloatingPointError',\n",
       " 'FutureWarning',\n",
       " 'GeneratorExit',\n",
       " 'IOError',\n",
       " 'ImportError',\n",
       " 'ImportWarning',\n",
       " 'IndentationError',\n",
       " 'IndexError',\n",
       " 'InterruptedError',\n",
       " 'IsADirectoryError',\n",
       " 'KeyError',\n",
       " 'KeyboardInterrupt',\n",
       " 'LookupError',\n",
       " 'MemoryError',\n",
       " 'ModuleNotFoundError',\n",
       " 'NameError',\n",
       " 'None',\n",
       " 'NotADirectoryError',\n",
       " 'NotImplemented',\n",
       " 'NotImplementedError',\n",
       " 'OSError',\n",
       " 'OverflowError',\n",
       " 'PendingDeprecationWarning',\n",
       " 'PermissionError',\n",
       " 'ProcessLookupError',\n",
       " 'RecursionError',\n",
       " 'ReferenceError',\n",
       " 'ResourceWarning',\n",
       " 'RuntimeError',\n",
       " 'RuntimeWarning',\n",
       " 'StopAsyncIteration',\n",
       " 'StopIteration',\n",
       " 'SyntaxError',\n",
       " 'SyntaxWarning',\n",
       " 'SystemError',\n",
       " 'SystemExit',\n",
       " 'TabError',\n",
       " 'TimeoutError',\n",
       " 'True',\n",
       " 'TypeError',\n",
       " 'UnboundLocalError',\n",
       " 'UnicodeDecodeError',\n",
       " 'UnicodeEncodeError',\n",
       " 'UnicodeError',\n",
       " 'UnicodeTranslateError',\n",
       " 'UnicodeWarning',\n",
       " 'UserWarning',\n",
       " 'ValueError',\n",
       " 'Warning',\n",
       " 'ZeroDivisionError',\n",
       " '__IPYTHON__',\n",
       " '__build_class__',\n",
       " '__debug__',\n",
       " '__doc__',\n",
       " '__import__',\n",
       " '__loader__',\n",
       " '__name__',\n",
       " '__package__',\n",
       " '__spec__',\n",
       " 'abs',\n",
       " 'aiter',\n",
       " 'all',\n",
       " 'anext',\n",
       " 'any',\n",
       " 'ascii',\n",
       " 'bin',\n",
       " 'bool',\n",
       " 'breakpoint',\n",
       " 'bytearray',\n",
       " 'bytes',\n",
       " 'callable',\n",
       " 'chr',\n",
       " 'classmethod',\n",
       " 'compile',\n",
       " 'complex',\n",
       " 'copyright',\n",
       " 'credits',\n",
       " 'delattr',\n",
       " 'dict',\n",
       " 'dir',\n",
       " 'display',\n",
       " 'divmod',\n",
       " 'enumerate',\n",
       " 'eval',\n",
       " 'exec',\n",
       " 'execfile',\n",
       " 'filter',\n",
       " 'float',\n",
       " 'format',\n",
       " 'frozenset',\n",
       " 'get_ipython',\n",
       " 'getattr',\n",
       " 'globals',\n",
       " 'hasattr',\n",
       " 'hash',\n",
       " 'help',\n",
       " 'hex',\n",
       " 'id',\n",
       " 'input',\n",
       " 'int',\n",
       " 'isinstance',\n",
       " 'issubclass',\n",
       " 'iter',\n",
       " 'len',\n",
       " 'license',\n",
       " 'list',\n",
       " 'locals',\n",
       " 'map',\n",
       " 'max',\n",
       " 'memoryview',\n",
       " 'min',\n",
       " 'next',\n",
       " 'object',\n",
       " 'oct',\n",
       " 'open',\n",
       " 'ord',\n",
       " 'pow',\n",
       " 'print',\n",
       " 'property',\n",
       " 'range',\n",
       " 'repr',\n",
       " 'reversed',\n",
       " 'round',\n",
       " 'runfile',\n",
       " 'set',\n",
       " 'setattr',\n",
       " 'slice',\n",
       " 'sorted',\n",
       " 'staticmethod',\n",
       " 'str',\n",
       " 'sum',\n",
       " 'super',\n",
       " 'tuple',\n",
       " 'type',\n",
       " 'vars',\n",
       " 'zip']"
      ]
     },
     "execution_count": 6,
     "metadata": {},
     "output_type": "execute_result"
    }
   ],
   "source": [
    "# 查看内置属性和方法\n",
    "import builtins\n",
    "\n",
    "dir(builtins)"
   ]
  },
  {
   "cell_type": "markdown",
   "metadata": {},
   "source": [
    "### 闭包\n",
    "\n",
    "闭包（Closure）是通过在一个函数内部创建并返回另一个函数来实现的，内部函数可以访问外部函数的作用域，从而达到暴露外层函数作用域的目的。\n"
   ]
  },
  {
   "cell_type": "markdown",
   "metadata": {},
   "source": [
    "在函数内部使用关键字 `global` 可以声明一个变量为全局变量\n",
    "\n",
    "在嵌套函数内部使用 `nonlocal` 关键字可以声明一个变量为上一级函数的局部变量\n"
   ]
  },
  {
   "cell_type": "code",
   "execution_count": 7,
   "metadata": {},
   "outputs": [
    {
     "name": "stdout",
     "output_type": "stream",
     "text": [
      "nested\n",
      "local\n",
      "global\n"
     ]
    }
   ],
   "source": [
    "# 全局作用域\n",
    "x = \"global\"\n",
    "\n",
    "\n",
    "# 嵌套作用域\n",
    "def outer():\n",
    "    # global x\n",
    "    x = \"nested\"\n",
    "    print(x)\n",
    "\n",
    "    # 局部作用域\n",
    "    def inner():\n",
    "        # nonlocal x\n",
    "        x = \"local\"\n",
    "        print(x)\n",
    "\n",
    "    # 闭包\n",
    "    return inner\n",
    "\n",
    "\n",
    "closure = outer()\n",
    "closure()  # 执行闭包函数\n",
    "print(x)"
   ]
  }
 ],
 "metadata": {
  "kernelspec": {
   "display_name": ".venv",
   "language": "python",
   "name": "python3"
  },
  "language_info": {
   "codemirror_mode": {
    "name": "ipython",
    "version": 3
   },
   "file_extension": ".py",
   "mimetype": "text/x-python",
   "name": "python",
   "nbconvert_exporter": "python",
   "pygments_lexer": "ipython3",
   "version": "3.10.6"
  },
  "orig_nbformat": 4
 },
 "nbformat": 4,
 "nbformat_minor": 2
}
