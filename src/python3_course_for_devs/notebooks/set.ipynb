{
 "cells": [
  {
   "cell_type": "markdown",
   "metadata": {},
   "source": [
    "# 集合\n",
    "\n",
    "集合即非`序列类型`也非`可变类型`（`可变类型`和`序列类型`的概念在 [数据类型]('./types.ipynb') 有讲）\n",
    "\n",
    "它是一个无序但不重复的数据结构\n",
    "\n",
    "集合的元素必须是可哈希的，而可哈希的对象必须是不可变的。这是因为集合是基于哈希表实现的，哈希表要求元素是可哈希的以确保高效的插入、查找和删除操作。\n",
    "\n",
    "不可变的对象在其生命周期中保持不变，因此它们的哈希值也不会改变。这使得可以使用对象的哈希值来确定其在集合中的位置，从而实现高效的集合操作。\n"
   ]
  },
  {
   "cell_type": "markdown",
   "metadata": {},
   "source": [
    "## 创建一个集合\n"
   ]
  },
  {
   "cell_type": "code",
   "execution_count": 94,
   "metadata": {},
   "outputs": [],
   "source": [
    "# 空集合\n",
    "set()\n",
    "\n",
    "# 使用大括号包裹的元素集合\n",
    "my_set = {\"a\", 3, (2, \"t\"), 3}"
   ]
  },
  {
   "cell_type": "markdown",
   "metadata": {},
   "source": [
    "### 新增元素\n"
   ]
  },
  {
   "cell_type": "code",
   "execution_count": 95,
   "metadata": {},
   "outputs": [
    {
     "data": {
      "text/plain": [
       "{(2, 't'), 3, 'a', 'add', 'banana', 'cherry', 'durian', 'grape'}"
      ]
     },
     "execution_count": 95,
     "metadata": {},
     "output_type": "execute_result"
    }
   ],
   "source": [
    "# 新增一个元素\n",
    "my_set.add(\"add\")\n",
    "\n",
    "# 用于将一个或多个可迭代对象的元素添加到集合中。\n",
    "# 它可以接受多个参数，并将这些参数中的元素添加集合中。重复的元素不会被重复添加。\n",
    "my_set.update([\"cherry\", \"durian\"], {\"grape\", \"banana\"})\n",
    "\n",
    "my_set"
   ]
  },
  {
   "cell_type": "markdown",
   "metadata": {},
   "source": [
    "### 删除元素\n"
   ]
  },
  {
   "cell_type": "code",
   "execution_count": 96,
   "metadata": {},
   "outputs": [
    {
     "name": "stdout",
     "output_type": "stream",
     "text": [
      "banana\n"
     ]
    },
    {
     "data": {
      "text/plain": [
       "{(2, 't'), 'a', 'add', 'cherry', 'durian', 'grape'}"
      ]
     },
     "execution_count": 96,
     "metadata": {},
     "output_type": "execute_result"
    }
   ],
   "source": [
    "# 元素不存在时 remove 会引发 KeyError 错误\n",
    "my_set.remove(3)\n",
    "\n",
    "# discard 在元素不存在时无提示信息\n",
    "my_set.discard(3)\n",
    "\n",
    "# pop 用于从集合中随机移除并返回一个元素。由于集合是无序的，无法确定具体移除的元素是哪个。\n",
    "# 如果集合为空，调用 pop 方法会引发 KeyError 错误。\n",
    "print(my_set.pop())\n",
    "\n",
    "my_set"
   ]
  },
  {
   "cell_type": "code",
   "execution_count": 97,
   "metadata": {},
   "outputs": [
    {
     "data": {
      "text/plain": [
       "False"
      ]
     },
     "execution_count": 97,
     "metadata": {},
     "output_type": "execute_result"
    }
   ],
   "source": [
    "len(my_set)\n",
    "\n",
    "3 in my_set"
   ]
  },
  {
   "cell_type": "markdown",
   "metadata": {},
   "source": [
    "### 清空集合\n"
   ]
  },
  {
   "cell_type": "code",
   "execution_count": 98,
   "metadata": {},
   "outputs": [],
   "source": [
    "my_set.clear()"
   ]
  },
  {
   "cell_type": "markdown",
   "metadata": {},
   "source": [
    "### 集合推导式\n",
    "\n",
    "推导式详情看这节[推导式 & 生成器表达式]('./comprehension.ipynb')\n"
   ]
  },
  {
   "cell_type": "code",
   "execution_count": 99,
   "metadata": {},
   "outputs": [
    {
     "data": {
      "text/plain": [
       "{4, 16}"
      ]
     },
     "execution_count": 99,
     "metadata": {},
     "output_type": "execute_result"
    }
   ],
   "source": [
    "{x**2 for x in range(1, 6) if x % 2 == 0}"
   ]
  },
  {
   "cell_type": "code",
   "execution_count": 100,
   "metadata": {},
   "outputs": [
    {
     "data": {
      "text/plain": [
       "{'a', 'c'}"
      ]
     },
     "execution_count": 100,
     "metadata": {},
     "output_type": "execute_result"
    }
   ],
   "source": [
    "s1 = set(\"abracadabra\")\n",
    "s2 = set(\"alacazam\")\n",
    "# 交\n",
    "s1 & s2"
   ]
  },
  {
   "cell_type": "code",
   "execution_count": 101,
   "metadata": {},
   "outputs": [
    {
     "data": {
      "text/plain": [
       "{'b', 'd', 'r'}"
      ]
     },
     "execution_count": 101,
     "metadata": {},
     "output_type": "execute_result"
    }
   ],
   "source": [
    "# 排除\n",
    "s1 - s2"
   ]
  },
  {
   "cell_type": "code",
   "execution_count": 102,
   "metadata": {},
   "outputs": [
    {
     "data": {
      "text/plain": [
       "{'a', 'b', 'c', 'd', 'l', 'm', 'r', 'z'}"
      ]
     },
     "execution_count": 102,
     "metadata": {},
     "output_type": "execute_result"
    }
   ],
   "source": [
    "# 或\n",
    "s1 | s2"
   ]
  },
  {
   "cell_type": "code",
   "execution_count": 103,
   "metadata": {},
   "outputs": [
    {
     "data": {
      "text/plain": [
       "{'b', 'd', 'l', 'm', 'r', 'z'}"
      ]
     },
     "execution_count": 103,
     "metadata": {},
     "output_type": "execute_result"
    }
   ],
   "source": [
    "# 异或\n",
    "s1 ^ s2"
   ]
  }
 ],
 "metadata": {
  "kernelspec": {
   "display_name": ".venv",
   "language": "python",
   "name": "python3"
  },
  "language_info": {
   "codemirror_mode": {
    "name": "ipython",
    "version": 3
   },
   "file_extension": ".py",
   "mimetype": "text/x-python",
   "name": "python",
   "nbconvert_exporter": "python",
   "pygments_lexer": "ipython3",
   "version": "3.10.6"
  },
  "orig_nbformat": 4
 },
 "nbformat": 4,
 "nbformat_minor": 2
}
