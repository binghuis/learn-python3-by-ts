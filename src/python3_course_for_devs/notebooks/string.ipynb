{
 "cells": [
  {
   "cell_type": "markdown",
   "metadata": {},
   "source": [
    "# 字符串\n"
   ]
  },
  {
   "cell_type": "markdown",
   "metadata": {},
   "source": [
    "## 声明\n"
   ]
  },
  {
   "cell_type": "code",
   "execution_count": 48,
   "metadata": {},
   "outputs": [
    {
     "name": "stdout",
     "output_type": "stream",
     "text": [
      "<class 'str'>\n",
      "10\n",
      "this\n",
      "is\n",
      "a\n",
      "str\n",
      "this is \n",
      " a str\n",
      "this is \\n a str\n"
     ]
    }
   ],
   "source": [
    "a = \"this a str\"  # 单双引号都可以\n",
    "\n",
    "print(type(a))\n",
    "print(len(a))\n",
    "\n",
    "# 多行字符串，可以实现换行输出，注意：不建议用这种方式作为注释\n",
    "print(\n",
    "    \"\"\"this\n",
    "is\n",
    "a\n",
    "str\"\"\"\n",
    ")\n",
    "\n",
    "# 你可以在字符串当中使用转义符\n",
    "print(\"this is \\n a str\")\n",
    "# 也可以通过 r 得到一个原始值字符串\n",
    "print(r\"this is \\n a str\")"
   ]
  },
  {
   "cell_type": "markdown",
   "metadata": {},
   "source": [
    "## 字符串运算\n"
   ]
  },
  {
   "cell_type": "code",
   "execution_count": 52,
   "metadata": {},
   "outputs": [
    {
     "name": "stdout",
     "output_type": "stream",
     "text": [
      "this is a: this a str\n",
      "this is a: this a str\n",
      "1+1=2\n",
      "this is a: this a strthis is a: this a str\n"
     ]
    }
   ],
   "source": [
    "# 拼接\n",
    "print(\"this is a: \" + a)\n",
    "# 使用 f-string 进行拼接操作，毫无疑问，它是更好的选择\n",
    "b = f\"this is a: {a}\"\n",
    "print(b)\n",
    "# f-string 甚至能自动计算结果并补全\n",
    "print(f\"{1+1=}\")\n",
    "\n",
    "# 乘一个正整数，实现重复拼接\n",
    "print(b * 2)"
   ]
  },
  {
   "cell_type": "code",
   "execution_count": null,
   "metadata": {},
   "outputs": [],
   "source": [
    "# 通过索引获取某一位置的值\n",
    "print(a[5])  # 正索引，从左向右索引从 0 开始\n",
    "print(a[-5])  # 负索引，从右向左索引从 -1 开始\n",
    "\n",
    "# 字符串截断，从左向右，左闭[右开)\n",
    "print(b[0:7])\n",
    "print(b[8:])\n",
    "print(b[-5:-2])  # 负索引截断"
   ]
  },
  {
   "cell_type": "code",
   "execution_count": 44,
   "metadata": {},
   "outputs": [
    {
     "name": "stdout",
     "output_type": "stream",
     "text": [
      "True\n",
      "False\n"
     ]
    }
   ],
   "source": [
    "# 判断一个值是否属于一个字符串\n",
    "\n",
    "print(\"a\" in a)\n",
    "print(\"a\" not in a)"
   ]
  },
  {
   "cell_type": "markdown",
   "metadata": {},
   "source": [
    "## 内置方法\n"
   ]
  },
  {
   "cell_type": "code",
   "execution_count": 70,
   "metadata": {},
   "outputs": [
    {
     "data": {
      "text/plain": [
       "'This a str'"
      ]
     },
     "execution_count": 70,
     "metadata": {},
     "output_type": "execute_result"
    }
   ],
   "source": [
    "# 大写首字母\n",
    "a.capitalize()"
   ]
  },
  {
   "cell_type": "code",
   "execution_count": 71,
   "metadata": {},
   "outputs": [
    {
     "data": {
      "text/plain": [
       "'--------------------this a str--------------------'"
      ]
     },
     "execution_count": 71,
     "metadata": {},
     "output_type": "execute_result"
    }
   ],
   "source": [
    "# 传入新字符串长度，将原字符串居中，两侧用占位符补齐，占位符默认为空格\n",
    "a.center(50, \"-\")"
   ]
  },
  {
   "cell_type": "code",
   "execution_count": 72,
   "metadata": {},
   "outputs": [
    {
     "data": {
      "text/plain": [
       "1"
      ]
     },
     "execution_count": 72,
     "metadata": {},
     "output_type": "execute_result"
    }
   ],
   "source": [
    "# 数量统计，支持范围查找\n",
    "a.count(\"is\", 0, len(a))"
   ]
  },
  {
   "cell_type": "code",
   "execution_count": 74,
   "metadata": {},
   "outputs": [
    {
     "data": {
      "text/plain": [
       "b'this a str'"
      ]
     },
     "execution_count": 74,
     "metadata": {},
     "output_type": "execute_result"
    }
   ],
   "source": [
    "# 字符串 => 字节串\n",
    "a.encode()"
   ]
  },
  {
   "cell_type": "code",
   "execution_count": 76,
   "metadata": {},
   "outputs": [
    {
     "data": {
      "text/plain": [
       "'this a str'"
      ]
     },
     "execution_count": 76,
     "metadata": {},
     "output_type": "execute_result"
    }
   ],
   "source": [
    "# 字节串 => 字符串\n",
    "a.encode().decode()"
   ]
  },
  {
   "cell_type": "code",
   "execution_count": 77,
   "metadata": {},
   "outputs": [
    {
     "data": {
      "text/plain": [
       "True"
      ]
     },
     "execution_count": 77,
     "metadata": {},
     "output_type": "execute_result"
    }
   ],
   "source": [
    "# 判断字符串结尾\n",
    "a.endswith(\"str\")"
   ]
  },
  {
   "cell_type": "code",
   "execution_count": 80,
   "metadata": {},
   "outputs": [
    {
     "data": {
      "text/plain": [
       "'a  b  c '"
      ]
     },
     "execution_count": 80,
     "metadata": {},
     "output_type": "execute_result"
    }
   ],
   "source": [
    "# tab => space\n",
    "\"a  b  c\\t\".expandtabs()"
   ]
  },
  {
   "cell_type": "code",
   "execution_count": 85,
   "metadata": {},
   "outputs": [
    {
     "name": "stdout",
     "output_type": "stream",
     "text": [
      "7\n",
      "-1\n"
     ]
    },
    {
     "data": {
      "text/plain": [
       "7"
      ]
     },
     "execution_count": 85,
     "metadata": {},
     "output_type": "execute_result"
    }
   ],
   "source": [
    "# 字符串检索\n",
    "\n",
    "print(a.find(\"str\"))\n",
    "print(a.find(\"none\"))\n",
    "\n",
    "a.index(\"str\")  # index 如果找不到检索内容会爆异常"
   ]
  },
  {
   "cell_type": "code",
   "execution_count": 112,
   "metadata": {},
   "outputs": [
    {
     "name": "stdout",
     "output_type": "stream",
     "text": [
      "True\n",
      "True\n",
      "True\n",
      "True\n"
     ]
    }
   ],
   "source": [
    "# 判断是否不为空且只包含数字和字母\n",
    "print(\"uuu74\".isalnum())\n",
    "# 判断是否不为空且只包含数字和中文\n",
    "print(\"uuu你好\".isalpha())\n",
    "# 判断是否不为空且只包含数字（也就是正整数字面值字符串）\n",
    "print(\"5557\".isdigit())\n",
    "# 判断是否不为空且不包含大写字母\n",
    "print(\"2,2y\".islower())"
   ]
  }
 ],
 "metadata": {
  "kernelspec": {
   "display_name": "Python 3 (ipykernel)",
   "language": "python",
   "name": "python3"
  },
  "language_info": {
   "codemirror_mode": {
    "name": "ipython",
    "version": 3
   },
   "file_extension": ".py",
   "mimetype": "text/x-python",
   "name": "python",
   "nbconvert_exporter": "python",
   "pygments_lexer": "ipython3",
   "version": "3.10.6"
  }
 },
 "nbformat": 4,
 "nbformat_minor": 4
}
