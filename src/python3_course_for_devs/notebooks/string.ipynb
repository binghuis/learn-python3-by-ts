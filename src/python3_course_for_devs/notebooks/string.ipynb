{
 "cells": [
  {
   "cell_type": "markdown",
   "metadata": {},
   "source": [
    "# 字符串类型\n",
    "\n",
    "字符串是`序列类型`但非`可变类型`，（`可变类型`和`序列类型`的概念在 [数据类型]('./types.ipynb') 有讲）\n",
    "\n",
    "先回想一下 `序列类型` 的通用操作有哪些？\n"
   ]
  },
  {
   "cell_type": "markdown",
   "metadata": {},
   "source": [
    "## 创建一个字符串\n"
   ]
  },
  {
   "cell_type": "markdown",
   "metadata": {},
   "source": [
    "### 通过字面值形式创建\n"
   ]
  },
  {
   "cell_type": "code",
   "execution_count": 32,
   "metadata": {},
   "outputs": [
    {
     "data": {
      "text/plain": [
       "'this a str'"
      ]
     },
     "execution_count": 32,
     "metadata": {},
     "output_type": "execute_result"
    }
   ],
   "source": [
    "# 单双引号都可以\n",
    "\n",
    "\"this a str\""
   ]
  },
  {
   "cell_type": "code",
   "execution_count": 33,
   "metadata": {},
   "outputs": [
    {
     "name": "stdout",
     "output_type": "stream",
     "text": [
      "this\n",
      "is\n",
      "a\n",
      "str\n"
     ]
    }
   ],
   "source": [
    "# 多行字符串，可以实现换行输出，注意：不建议用这种方式作为注释\n",
    "\n",
    "print(\n",
    "    \"\"\"this\n",
    "is\n",
    "a\n",
    "str\"\"\"\n",
    ")"
   ]
  },
  {
   "cell_type": "code",
   "execution_count": 34,
   "metadata": {},
   "outputs": [
    {
     "name": "stdout",
     "output_type": "stream",
     "text": [
      "this is a \n",
      " str\n"
     ]
    }
   ],
   "source": [
    "# 在字符串当中使用转义符\n",
    "\n",
    "print(\"this is a \\n str\")"
   ]
  },
  {
   "cell_type": "code",
   "execution_count": 35,
   "metadata": {},
   "outputs": [
    {
     "name": "stdout",
     "output_type": "stream",
     "text": [
      "this is a str\n"
     ]
    }
   ],
   "source": [
    "# \\ 在行尾时被用作续行符，可以将一行字符串写成多行\n",
    "\n",
    "print(\n",
    "    \"this \\\n",
    "is \\\n",
    "a \\\n",
    "str\"\n",
    ")"
   ]
  },
  {
   "cell_type": "markdown",
   "metadata": {},
   "source": [
    "#### 原始字符串\n"
   ]
  },
  {
   "cell_type": "code",
   "execution_count": 36,
   "metadata": {},
   "outputs": [
    {
     "name": "stdout",
     "output_type": "stream",
     "text": [
      "this is a \\n str\n"
     ]
    }
   ],
   "source": [
    "# 原始字符串的 \\ 不转义，直接显示\n",
    "print(r\"this is a \\n str\")"
   ]
  },
  {
   "cell_type": "markdown",
   "metadata": {},
   "source": [
    "#### 字面量格式化字符串 f-string\n"
   ]
  },
  {
   "cell_type": "code",
   "execution_count": 37,
   "metadata": {},
   "outputs": [
    {
     "name": "stdout",
     "output_type": "stream",
     "text": [
      "1+1 = 2\n",
      "1+1 = 2\n"
     ]
    }
   ],
   "source": [
    "# f-string 可以在字符串中插入表达式\n",
    "\n",
    "print(f\"1+1 = {1+1}\")\n",
    "\n",
    "# 甚至可以这样，f-string 能自动计算结果并补全\n",
    "\n",
    "print(f\"{1+1 = }\")"
   ]
  },
  {
   "cell_type": "markdown",
   "metadata": {},
   "source": [
    "## 序列类型通用操作 - 字符串实现\n"
   ]
  },
  {
   "cell_type": "code",
   "execution_count": 75,
   "metadata": {},
   "outputs": [
    {
     "name": "stdout",
     "output_type": "stream",
     "text": [
      "this is a sequence type, but str str\n",
      "36\n",
      "10 18\n",
      "s s\n",
      "sequence\n",
      "True True\n",
      "  y\n",
      "2\n",
      " \n",
      "s\n",
      "t\n",
      "r\n"
     ]
    }
   ],
   "source": [
    "a = \"this is a sequence type, but\"\n",
    "b = \" str\"\n",
    "\n",
    "# 连接、重复\n",
    "s = a + b * 2  # 字符串 b 重复两次之后和字符串 a 连接\n",
    "print(s)\n",
    "\n",
    "# 长\n",
    "l = len(s)\n",
    "print(l)\n",
    "\n",
    "# 元素位置获取\n",
    "i1 = s.index(\"sequence\")\n",
    "# 字符串还可以通过 find 方法获取元素位置，区别是找不到元素时返回 -1，而不是报错\n",
    "i2 = s.find(\" type\")\n",
    "print(i1, i2)\n",
    "\n",
    "# 索引访问\n",
    "s[i1]  # 正索引，从左向右索引从 0 开始\n",
    "s[i1 - l]  # 负索引，从右向左索引从 -1 开始\n",
    "print(s[i1], s[i1 - l])\n",
    "\n",
    "# 切片\n",
    "print(s[i1:i2])\n",
    "\n",
    "# 成员运算\n",
    "print(b in s, b not in a)\n",
    "\n",
    "# 最大/最小元素，对比的是元素字典顺序\n",
    "print(min(s), max(s))\n",
    "\n",
    "# 元素出现次数，支持指定查找范围\n",
    "print(s.count(\"str\", 0, len(s)))\n",
    "\n",
    "# 迭代\n",
    "for char in b:\n",
    "    print(char)"
   ]
  },
  {
   "cell_type": "markdown",
   "metadata": {},
   "source": [
    "## 字符串内置方法/标准库操作\n"
   ]
  },
  {
   "cell_type": "code",
   "execution_count": null,
   "metadata": {},
   "outputs": [
    {
     "data": {
      "text/plain": [
       "'This a str'"
      ]
     },
     "execution_count": 70,
     "metadata": {},
     "output_type": "execute_result"
    }
   ],
   "source": [
    "# 大写首字母\n",
    "a.capitalize()"
   ]
  },
  {
   "cell_type": "code",
   "execution_count": null,
   "metadata": {},
   "outputs": [
    {
     "data": {
      "text/plain": [
       "'--------------------this a str--------------------'"
      ]
     },
     "execution_count": 71,
     "metadata": {},
     "output_type": "execute_result"
    }
   ],
   "source": [
    "# 传入新字符串长度，将原字符串居中，两侧用占位符补齐，占位符默认为空格\n",
    "a.center(50, \"-\")"
   ]
  },
  {
   "cell_type": "code",
   "execution_count": null,
   "metadata": {},
   "outputs": [
    {
     "data": {
      "text/plain": [
       "'this a str----------------------------------------'"
      ]
     },
     "execution_count": 128,
     "metadata": {},
     "output_type": "execute_result"
    }
   ],
   "source": [
    "# 传入新字符串长度，将原字符串左对齐，结尾用占位符补齐，占位符默认为空格\n",
    "a.ljust(50, \"-\")"
   ]
  },
  {
   "cell_type": "code",
   "execution_count": null,
   "metadata": {},
   "outputs": [
    {
     "data": {
      "text/plain": [
       "'----------------------------------------this a str'"
      ]
     },
     "execution_count": 144,
     "metadata": {},
     "output_type": "execute_result"
    }
   ],
   "source": [
    "a.rjust(50, \"-\")"
   ]
  },
  {
   "cell_type": "code",
   "execution_count": null,
   "metadata": {},
   "outputs": [
    {
     "data": {
      "text/plain": [
       "b'this a str'"
      ]
     },
     "execution_count": 74,
     "metadata": {},
     "output_type": "execute_result"
    }
   ],
   "source": [
    "# 字符串 => 字节串\n",
    "a.encode()"
   ]
  },
  {
   "cell_type": "code",
   "execution_count": null,
   "metadata": {},
   "outputs": [
    {
     "data": {
      "text/plain": [
       "'this a str'"
      ]
     },
     "execution_count": 76,
     "metadata": {},
     "output_type": "execute_result"
    }
   ],
   "source": [
    "# 字节串 => 字符串\n",
    "a.encode().decode()"
   ]
  },
  {
   "cell_type": "code",
   "execution_count": null,
   "metadata": {},
   "outputs": [
    {
     "data": {
      "text/plain": [
       "True"
      ]
     },
     "execution_count": 77,
     "metadata": {},
     "output_type": "execute_result"
    }
   ],
   "source": [
    "# 判断字符串结尾\n",
    "a.endswith(\"str\")"
   ]
  },
  {
   "cell_type": "code",
   "execution_count": null,
   "metadata": {},
   "outputs": [],
   "source": [
    "a.startswith(\"str\")"
   ]
  },
  {
   "cell_type": "code",
   "execution_count": null,
   "metadata": {},
   "outputs": [
    {
     "data": {
      "text/plain": [
       "'a  b  c '"
      ]
     },
     "execution_count": 80,
     "metadata": {},
     "output_type": "execute_result"
    }
   ],
   "source": [
    "# tab => space\n",
    "\"a  b  c\\t\".expandtabs()"
   ]
  },
  {
   "cell_type": "code",
   "execution_count": null,
   "metadata": {},
   "outputs": [
    {
     "name": "stdout",
     "output_type": "stream",
     "text": [
      "7\n"
     ]
    },
    {
     "data": {
      "text/plain": [
       "7"
      ]
     },
     "execution_count": 143,
     "metadata": {},
     "output_type": "execute_result"
    }
   ],
   "source": [
    "# 检索最后一次出现的索引\n",
    "print(a.rfind(\"str\"))\n",
    "\n",
    "a.rindex(\"str\")"
   ]
  },
  {
   "cell_type": "code",
   "execution_count": null,
   "metadata": {},
   "outputs": [
    {
     "name": "stdout",
     "output_type": "stream",
     "text": [
      "True\n",
      "True\n",
      "True\n",
      "True\n",
      "True\n",
      "True\n",
      "True\n",
      "This A Str\n",
      "True\n",
      "t-h-i-s- -a- -s-t-r\n"
     ]
    }
   ],
   "source": [
    "# 判断是否不为空且仅包含数字和字母\n",
    "print(\"uuu74\".isalnum())\n",
    "\n",
    "# 判断是否不为空且仅包含数字和中文\n",
    "print(\"uuu你好\".isalpha())\n",
    "\n",
    "# 判断是否不为空且仅包含数字（也就是正整数字面值字符串）\n",
    "print(\"5557\".isdigit())\n",
    "\n",
    "# 判断是否不为空且不包含大写字母\n",
    "print(\"2,2y\".islower())\n",
    "\n",
    "# 判断是否不为空且不包含小写字母\n",
    "print(\"2,2Y\".isupper())\n",
    "\n",
    "# 判断是否不为空且仅包含数字字符\n",
    "print(\"壹佰万½2²\".isnumeric())\n",
    "\n",
    "# 判断是否不为空且仅包含空格\n",
    "print(\" \".isspace())\n",
    "\n",
    "# 是否仅包含十进制\n",
    "\"11\".isdecimal()\n",
    "\n",
    "# 字符串标题化\n",
    "print(a.title())\n",
    "\n",
    "# 判断是不是标题化字符串\n",
    "print(a.title().istitle())\n",
    "\n",
    "# 使用分隔符分隔\n",
    "print(\"-\".join(a))"
   ]
  },
  {
   "cell_type": "code",
   "execution_count": null,
   "metadata": {},
   "outputs": [
    {
     "data": {
      "text/plain": [
       "'l c r'"
      ]
     },
     "execution_count": 129,
     "metadata": {},
     "output_type": "execute_result"
    }
   ],
   "source": [
    "\" l c r \".strip()"
   ]
  },
  {
   "cell_type": "code",
   "execution_count": null,
   "metadata": {},
   "outputs": [
    {
     "data": {
      "text/plain": [
       "'l c r '"
      ]
     },
     "execution_count": 130,
     "metadata": {},
     "output_type": "execute_result"
    }
   ],
   "source": [
    "\" l c r \".lstrip()"
   ]
  },
  {
   "cell_type": "code",
   "execution_count": null,
   "metadata": {},
   "outputs": [],
   "source": [
    "\" l c r \".rstrip()"
   ]
  },
  {
   "cell_type": "code",
   "execution_count": null,
   "metadata": {},
   "outputs": [
    {
     "data": {
      "text/plain": [
       "'WW'"
      ]
     },
     "execution_count": 131,
     "metadata": {},
     "output_type": "execute_result"
    }
   ],
   "source": [
    "\"ww\".upper()"
   ]
  },
  {
   "cell_type": "code",
   "execution_count": null,
   "metadata": {},
   "outputs": [],
   "source": [
    "\"WW\".lower()"
   ]
  },
  {
   "cell_type": "code",
   "execution_count": null,
   "metadata": {},
   "outputs": [
    {
     "data": {
      "text/plain": [
       "'tHIS a sTR'"
      ]
     },
     "execution_count": 147,
     "metadata": {},
     "output_type": "execute_result"
    }
   ],
   "source": [
    "# 大小写互相转换\n",
    "a.title().swapcase()"
   ]
  },
  {
   "cell_type": "code",
   "execution_count": null,
   "metadata": {},
   "outputs": [
    {
     "data": {
      "text/plain": [
       "'_his a s_'"
      ]
     },
     "execution_count": 136,
     "metadata": {},
     "output_type": "execute_result"
    }
   ],
   "source": [
    "# 根据映射表进行字符替换或删除\n",
    "tran = str.maketrans(\"t\", \"_\", \"r\")\n",
    "a.translate(tran)"
   ]
  },
  {
   "cell_type": "code",
   "execution_count": null,
   "metadata": {},
   "outputs": [
    {
     "data": {
      "text/plain": [
       "'this a rst'"
      ]
     },
     "execution_count": 142,
     "metadata": {},
     "output_type": "execute_result"
    }
   ],
   "source": [
    "a.replace(\"str\", \"rst\")"
   ]
  },
  {
   "cell_type": "code",
   "execution_count": null,
   "metadata": {},
   "outputs": [
    {
     "data": {
      "text/plain": [
       "['this ', ' str']"
      ]
     },
     "execution_count": 145,
     "metadata": {},
     "output_type": "execute_result"
    }
   ],
   "source": [
    "a.split(\"a\")"
   ]
  },
  {
   "cell_type": "code",
   "execution_count": null,
   "metadata": {},
   "outputs": [
    {
     "data": {
      "text/plain": [
       "['a', 'set', 'set']"
      ]
     },
     "execution_count": 146,
     "metadata": {},
     "output_type": "execute_result"
    }
   ],
   "source": [
    "\"\"\"a\n",
    "set\n",
    "set\n",
    "\"\"\".splitlines()"
   ]
  },
  {
   "cell_type": "code",
   "execution_count": null,
   "metadata": {},
   "outputs": [
    {
     "data": {
      "text/plain": [
       "'0000000000000000000000000000000000000000this a str'"
      ]
     },
     "execution_count": 148,
     "metadata": {},
     "output_type": "execute_result"
    }
   ],
   "source": [
    "# 右对齐，0填充\n",
    "a.zfill(50)"
   ]
  }
 ],
 "metadata": {
  "kernelspec": {
   "display_name": "Python 3 (ipykernel)",
   "language": "python",
   "name": "python3"
  },
  "language_info": {
   "codemirror_mode": {
    "name": "ipython",
    "version": 3
   },
   "file_extension": ".py",
   "mimetype": "text/x-python",
   "name": "python",
   "nbconvert_exporter": "python",
   "pygments_lexer": "ipython3",
   "version": "3.10.6"
  }
 },
 "nbformat": 4,
 "nbformat_minor": 4
}
