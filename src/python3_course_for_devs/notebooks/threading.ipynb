{
 "cells": [
  {
   "cell_type": "markdown",
   "metadata": {},
   "source": [
    "# 线程\n"
   ]
  },
  {
   "cell_type": "code",
   "execution_count": 4,
   "metadata": {},
   "outputs": [
    {
     "name": "stdout",
     "output_type": "stream",
     "text": [
      "开始线程：Thread-1\n",
      "开始线程：Thread-2\n",
      "Thread-1: Wed Oct 25 18:00:14 2023\n",
      "Thread-2: Wed Oct 25 18:00:15 2023\n",
      "Thread-1: Wed Oct 25 18:00:15 2023\n",
      "Thread-1: Wed Oct 25 18:00:16 2023\n",
      "Thread-2: Wed Oct 25 18:00:17 2023\n",
      "Thread-1: Wed Oct 25 18:00:17 2023\n",
      "Thread-1: Wed Oct 25 18:00:18 2023\n",
      "退出线程：Thread-1\n",
      "Thread-2: Wed Oct 25 18:00:19 2023\n",
      "Thread-2: Wed Oct 25 18:00:21 2023\n",
      "Thread-2: Wed Oct 25 18:00:23 2023\n",
      "退出线程：Thread-2\n",
      "退出主线程\n"
     ]
    }
   ],
   "source": [
    "import threading\n",
    "import time\n",
    "\n",
    "exitFlag = 0\n",
    "\n",
    "\n",
    "class myThread(threading.Thread):\n",
    "    def __init__(self, threadID, name, delay):\n",
    "        threading.Thread.__init__(self)\n",
    "        self.threadID = threadID\n",
    "        self.name = name\n",
    "        self.delay = delay\n",
    "\n",
    "    def run(self):\n",
    "        print(\"开始线程：\" + self.name)\n",
    "        print_time(self.name, self.delay, 5)\n",
    "        print(\"退出线程：\" + self.name)\n",
    "\n",
    "\n",
    "def print_time(threadName, delay, counter):\n",
    "    while counter:\n",
    "        if exitFlag:\n",
    "            threadName.exit()\n",
    "        time.sleep(delay)\n",
    "        print(\"%s: %s\" % (threadName, time.ctime(time.time())))\n",
    "        counter -= 1\n",
    "\n",
    "\n",
    "# 创建新线程\n",
    "thread1 = myThread(1, \"Thread-1\", 1)\n",
    "thread2 = myThread(2, \"Thread-2\", 2)\n",
    "\n",
    "# 开启新线程\n",
    "thread1.start()\n",
    "thread2.start()\n",
    "thread1.join()\n",
    "thread2.join()\n",
    "print(\"退出主线程\")"
   ]
  }
 ],
 "metadata": {
  "kernelspec": {
   "display_name": ".venv",
   "language": "python",
   "name": "python3"
  },
  "language_info": {
   "codemirror_mode": {
    "name": "ipython",
    "version": 3
   },
   "file_extension": ".py",
   "mimetype": "text/x-python",
   "name": "python",
   "nbconvert_exporter": "python",
   "pygments_lexer": "ipython3",
   "version": "3.10.6"
  }
 },
 "nbformat": 4,
 "nbformat_minor": 2
}
