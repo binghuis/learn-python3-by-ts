{
 "cells": [
  {
   "cell_type": "markdown",
   "metadata": {},
   "source": [
    "# 元组\n",
    "\n",
    "元组也是序列类型，但与列表不同，元组元素无法被更改，因此，经过优化的元组比列表内存占用更少，迭代效率更高。\n",
    "并且，由于元组的不可变性，其可作为字典的键来使用\n"
   ]
  },
  {
   "cell_type": "code",
   "execution_count": 9,
   "metadata": {},
   "outputs": [],
   "source": [
    "# 元组字面量声明\n",
    "\n",
    "t0 = ()  # 空元组\n",
    "\n",
    "t1 = (\"foo\",)  # 元组只包含一个元素\n",
    "\n",
    "t2 = (\"foo\", 5)\n",
    "\n",
    "t3 = \"foo\", 5  # 仅使用逗号也可以声明元组"
   ]
  },
  {
   "cell_type": "code",
   "execution_count": 12,
   "metadata": {},
   "outputs": [
    {
     "data": {
      "text/plain": [
       "{('foo',): ('foo',)}"
      ]
     },
     "execution_count": 12,
     "metadata": {},
     "output_type": "execute_result"
    }
   ],
   "source": [
    "# 元组可作为字典的键，列表则不行\n",
    "\n",
    "d1 = {t1: t1}\n",
    "d1"
   ]
  }
 ],
 "metadata": {
  "kernelspec": {
   "display_name": ".venv",
   "language": "python",
   "name": "python3"
  },
  "language_info": {
   "codemirror_mode": {
    "name": "ipython",
    "version": 3
   },
   "file_extension": ".py",
   "mimetype": "text/x-python",
   "name": "python",
   "nbconvert_exporter": "python",
   "pygments_lexer": "ipython3",
   "version": "3.10.6"
  },
  "orig_nbformat": 4
 },
 "nbformat": 4,
 "nbformat_minor": 2
}
