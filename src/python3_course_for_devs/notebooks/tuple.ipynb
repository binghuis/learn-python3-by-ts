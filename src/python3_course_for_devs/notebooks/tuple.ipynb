{
 "cells": [
  {
   "cell_type": "markdown",
   "metadata": {},
   "source": [
    "# 元组\n",
    "\n",
    "元组是`序列类型`但非`可变类型`，（`可变类型`和`序列类型`的概念在 [数据类型]('./types.ipynb') 有讲）\n",
    "\n",
    "回想一下 `序列类型` 的通用操作有哪些？\n",
    "\n",
    "元组与列表不同，元素无法被更改，因此，经过优化的元组比列表内存占用更少，迭代效率更高。\n"
   ]
  },
  {
   "cell_type": "markdown",
   "metadata": {},
   "source": [
    "## 创建一个元组\n"
   ]
  },
  {
   "cell_type": "markdown",
   "metadata": {},
   "source": [
    "### 通过字面值形式创建\n"
   ]
  },
  {
   "cell_type": "code",
   "execution_count": 9,
   "metadata": {},
   "outputs": [],
   "source": [
    "# 空元组\n",
    "t0 = ()\n",
    "\n",
    "# 包含一个元素的元组\n",
    "t1 = (\"foo\",)\n",
    "\n",
    "t2 = (\"foo\", 5)\n",
    "\n",
    "# 仅使用逗号也可以\n",
    "t3 = \"foo\", 5"
   ]
  },
  {
   "cell_type": "markdown",
   "metadata": {},
   "source": [
    "## 序列类型通用操作 - 元组实现\n"
   ]
  },
  {
   "cell_type": "code",
   "execution_count": 2,
   "metadata": {},
   "outputs": [
    {
     "name": "stdout",
     "output_type": "stream",
     "text": [
      "('bar', 6, True, 3.4, None, {'a': 'b'}, 3.4, None, {'a': 'b'})\n",
      "9\n",
      "4\n",
      "None None\n",
      "('bar', 6, True, 3.4)\n",
      "False True\n",
      "-1 2\n",
      "2\n",
      "3.4\n",
      "None\n",
      "{'a': 'b'}\n"
     ]
    }
   ],
   "source": [
    "a = (\"bar\", 6, True)\n",
    "b = (3.4, None, {\"a\": \"b\"})\n",
    "\n",
    "# 连接、重复\n",
    "s = a + b * 2  # 列表 b 重复两次之后和列表 a 连接\n",
    "print(s)\n",
    "\n",
    "# 长\n",
    "l = len(s)\n",
    "print(l)\n",
    "\n",
    "# 元素位置获取\n",
    "i = s.index(None)\n",
    "print(i)\n",
    "\n",
    "# 索引访问\n",
    "s[i]  # 正索引，从左向右索引从 0 开始\n",
    "s[i - l]  # 负索引，从右向左索引从 -1 开始\n",
    "print(s[i], s[i - l])\n",
    "\n",
    "# 切片\n",
    "print(s[:i])\n",
    "\n",
    "# 成员运算\n",
    "print(b in s, b not in a)\n",
    "\n",
    "# 最大/最小元素，需保证列表为数字列表\n",
    "n = (1, -True, False, 2)\n",
    "print(min(n), max(n))\n",
    "\n",
    "# 元素出现次数，与 str.count 不同，list.count 只接受一个参数\n",
    "print(s.count(None))\n",
    "\n",
    "# 迭代\n",
    "for item in b:\n",
    "    print(item)"
   ]
  },
  {
   "cell_type": "markdown",
   "metadata": {},
   "source": [
    "## 元组解包\n",
    "\n",
    "## 命名元组\n"
   ]
  }
 ],
 "metadata": {
  "kernelspec": {
   "display_name": ".venv",
   "language": "python",
   "name": "python3"
  },
  "language_info": {
   "codemirror_mode": {
    "name": "ipython",
    "version": 3
   },
   "file_extension": ".py",
   "mimetype": "text/x-python",
   "name": "python",
   "nbconvert_exporter": "python",
   "pygments_lexer": "ipython3",
   "version": "3.10.6"
  },
  "orig_nbformat": 4
 },
 "nbformat": 4,
 "nbformat_minor": 2
}
