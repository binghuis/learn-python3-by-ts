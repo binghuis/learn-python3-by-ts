{
    "cells": [
        {
            "cell_type": "markdown",
            "metadata": {},
            "source": [
                "# 数据类型 & 特性\n",
                "\n",
                "Python 中标准数据类型包括数字类型、字符串（`str`）、元组（`tuple`）、列表（`list`）、集合（`set`）、字典（`dict`）以及一个特殊的类型 `NoneType`。\n",
                "\n",
                "数字类型是由整型（`int`），浮点型（`float`）和复数类型（`complex`）组成的。\n",
                "\n",
                "`NoneType` 类型只有一个对象 `None`，代表空值。\n"
            ]
        },
        {
            "cell_type": "code",
            "execution_count": 102,
            "metadata": {},
            "outputs": [
                {
                    "data": {
                        "text/plain": [
                            "NoneType"
                        ]
                    },
                    "execution_count": 102,
                    "metadata": {},
                    "output_type": "execute_result"
                }
            ],
            "source": [
                "# 使用 type 方法可以查看一个对象的类型\n",
                "type(None)"
            ]
        },
        {
            "cell_type": "markdown",
            "metadata": {},
            "source": [
                "## 数据特性\n",
                "\n",
                "数据特性是指数据本身的属性或特点。\n"
            ]
        },
        {
            "cell_type": "markdown",
            "metadata": {},
            "source": [
                "### 可变与不可变性\n",
                "\n",
                "- 可变性是指对象可以在原内存地址上进行就地修改，而不需要重新分配内存。\n",
                "\n",
                "  列表、集合和字典都是可变对象类型。\n",
                "\n",
                "- 不可变性是指对象保持着固定的值，无法通过任何操作来改变其状态。\n",
                "\n",
                "  数字、字符串和元组都是不可变对象类型。\n",
                "\n",
                "> 可变对象和不可变对象在进行复制操作时表现不同。请看 [深拷贝 & 浅拷贝]('./copy.ipynb')\n",
                "\n",
                "> 通过 `id` 方法可获得对象的内存标识。\n"
            ]
        },
        {
            "cell_type": "code",
            "execution_count": 103,
            "metadata": {},
            "outputs": [
                {
                    "name": "stdout",
                    "output_type": "stream",
                    "text": [
                        "4402982208\n",
                        "4402982208\n"
                    ]
                }
            ],
            "source": [
                "# 对列表变量 b 在原内存地址上进行元素增加\n",
                "b = []\n",
                "\n",
                "print(id(b))\n",
                "\n",
                "b.append(1)\n",
                "\n",
                "print(id(b))"
            ]
        },
        {
            "cell_type": "markdown",
            "metadata": {},
            "source": [
                "### 可哈希性\n",
                "\n",
                "可哈希是指对象在其生命周期中状态保持不变。生命周期指的是对象存在的时间段，从对象的创建到销毁的整个过程。\n",
                "\n",
                "简单来说，可哈希对象从创建到销毁都是不可变的。显然，不可变对象都是可哈希的。\n",
                "\n",
                "> 通过 `hash` 方法可获取可哈希对象的哈希值。\n"
            ]
        },
        {
            "cell_type": "code",
            "execution_count": 104,
            "metadata": {},
            "outputs": [
                {
                    "data": {
                        "text/plain": [
                            "6717373325313123974"
                        ]
                    },
                    "execution_count": 104,
                    "metadata": {},
                    "output_type": "execute_result"
                }
            ],
            "source": [
                "hash(\"foo\")"
            ]
        },
        {
            "cell_type": "markdown",
            "metadata": {},
            "source": [
                "#### 自定义可哈希对象类\n",
                "\n",
                "> 内置方法 `repr` 返回一个对象的字符串表示形式。\n"
            ]
        },
        {
            "cell_type": "code",
            "execution_count": 105,
            "metadata": {},
            "outputs": [
                {
                    "data": {
                        "text/plain": [
                            "-5603055806371908543"
                        ]
                    },
                    "execution_count": 105,
                    "metadata": {},
                    "output_type": "execute_result"
                }
            ],
            "source": [
                "class CustomHashable:\n",
                "    def __init__(self, value):\n",
                "        self.value = value\n",
                "\n",
                "    def __hash__(self):\n",
                "        if self.value.__hash__:\n",
                "            return self.value.__hash__()\n",
                "        else:\n",
                "            # 方法 hash 只接收不可变对象，因此把 value 转为字符串\n",
                "            return hash(repr(self.value))\n",
                "\n",
                "\n",
                "obj = CustomHashable([1, 2, 3])\n",
                "\n",
                "hash(obj)"
            ]
        },
        {
            "cell_type": "markdown",
            "metadata": {},
            "source": [
                "### 可迭代性\n",
                "\n",
                "可迭代是指对象可被迭代器遍历。\n",
                "\n",
                "字符串、元组、列表、集合和字典都是可迭代的。\n",
                "\n",
                "详细介绍看[迭代器 & 可迭代对象 & 生成器]('./iterator_generator.ipynb')\n"
            ]
        },
        {
            "cell_type": "markdown",
            "metadata": {},
            "source": [
                "## 类型划分\n",
                "\n",
                "按照特性与共性，划分数据类型。\n"
            ]
        },
        {
            "cell_type": "markdown",
            "metadata": {},
            "source": [
                "### 序列类型\n",
                "\n",
                "序列类型是一种包含多个元素的数据类型，这些元素按照一定的顺序排列。\n",
                "\n",
                "字符串、元组、列表都是序列类型。\n",
                "\n",
                "序列类型的一些共同特性：\n",
                "\n",
                "- 可迭代\n",
                "\n",
                "- 索引访问\n",
                "\n",
                "  可以使用索引来访问序列中的元素。可以使用正整数和负整数来访问元素，其中正整数索引从左往右从 0 递增，负整数索引从右往左从 -1 递减。\n",
                "\n",
                "- 切片操作\n",
                "\n",
                "  可以通过切片操作获取序列的子序列。切片操作使用 `[start:stop:step]` 的形式，表示从索引 `start` 开始（闭），到索引 `stop` 结束（开），步长为 `step`。\n"
            ]
        },
        {
            "cell_type": "markdown",
            "metadata": {},
            "source": [
                "- 元素查找\n",
                "\n",
                "> `index` 方法可查找序列类型中特定元素第一次出现的索引。如果要查找的元素不存在，引发 `ValueError` 异常。\n"
            ]
        },
        {
            "cell_type": "code",
            "execution_count": 106,
            "metadata": {},
            "outputs": [
                {
                    "data": {
                        "text/plain": [
                            "0"
                        ]
                    },
                    "execution_count": 106,
                    "metadata": {},
                    "output_type": "execute_result"
                }
            ],
            "source": [
                "[1, 2].index(1)"
            ]
        },
        {
            "cell_type": "markdown",
            "metadata": {},
            "source": [
                "- 可拼接（`+`）、可重复（`*`）\n"
            ]
        },
        {
            "cell_type": "code",
            "execution_count": 107,
            "metadata": {},
            "outputs": [
                {
                    "data": {
                        "text/plain": [
                            "[1, 2, 1, 2, 3, 4]"
                        ]
                    },
                    "execution_count": 107,
                    "metadata": {},
                    "output_type": "execute_result"
                }
            ],
            "source": [
                "# 字符串先重复后拼接\n",
                "\"foo\" * 2 + \"bar\"\n",
                "\n",
                "# 列表先重复后拼接\n",
                "[1, 2] * 2 + [3, 4]"
            ]
        },
        {
            "cell_type": "markdown",
            "metadata": {},
            "source": [
                "- 可计数\n"
            ]
        },
        {
            "cell_type": "code",
            "execution_count": 108,
            "metadata": {},
            "outputs": [
                {
                    "data": {
                        "text/plain": [
                            "1"
                        ]
                    },
                    "execution_count": 108,
                    "metadata": {},
                    "output_type": "execute_result"
                }
            ],
            "source": [
                "\"foo\".count(\"o\")\n",
                "\n",
                "[1, 2, 3].count(1)"
            ]
        },
        {
            "cell_type": "markdown",
            "metadata": {},
            "source": [
                "### 容器类型\n",
                "\n",
                "容器类型是可容纳多个元素的对象的数据类型。\n",
                "\n",
                "元组、列表、集合和字典都是容器类型。\n",
                "\n",
                "序列类型除了字符串都是容器类型，字符串虽不算容器类型，但它却支持很多容器类型的特性。\n",
                "\n",
                "容器类型的一些共同特性（以下特性字符串同样支持）：\n",
                "\n",
                "- 可迭代\n"
            ]
        },
        {
            "cell_type": "markdown",
            "metadata": {},
            "source": [
                "- 长度\n",
                "\n",
                "  通过内置方法 `len` 获取对象长度。\n"
            ]
        },
        {
            "cell_type": "code",
            "execution_count": 109,
            "metadata": {},
            "outputs": [
                {
                    "data": {
                        "text/plain": [
                            "2"
                        ]
                    },
                    "execution_count": 109,
                    "metadata": {},
                    "output_type": "execute_result"
                }
            ],
            "source": [
                "len({\"a\": 1, \"b\": 2})"
            ]
        },
        {
            "cell_type": "markdown",
            "metadata": {},
            "source": [
                "- 包含性检查\n",
                "\n",
                "  使用 `in` 和 `not in` 操作符来检查容器中是否包含某个特定元素。\n"
            ]
        },
        {
            "cell_type": "code",
            "execution_count": 110,
            "metadata": {},
            "outputs": [
                {
                    "data": {
                        "text/plain": [
                            "True"
                        ]
                    },
                    "execution_count": 110,
                    "metadata": {},
                    "output_type": "execute_result"
                }
            ],
            "source": [
                "1 in {1, 2, 3}"
            ]
        },
        {
            "cell_type": "markdown",
            "metadata": {},
            "source": [
                "- 最大/最小值\n"
            ]
        },
        {
            "cell_type": "code",
            "execution_count": 111,
            "metadata": {},
            "outputs": [
                {
                    "data": {
                        "text/plain": [
                            "'a'"
                        ]
                    },
                    "execution_count": 111,
                    "metadata": {},
                    "output_type": "execute_result"
                }
            ],
            "source": [
                "min({\"a\": 1, \"b\": 2})"
            ]
        },
        {
            "cell_type": "code",
            "execution_count": 112,
            "metadata": {},
            "outputs": [
                {
                    "data": {
                        "text/plain": [
                            "'b'"
                        ]
                    },
                    "execution_count": 112,
                    "metadata": {},
                    "output_type": "execute_result"
                }
            ],
            "source": [
                "max({\"a\": 1, \"b\": 2})"
            ]
        }
    ],
    "metadata": {
        "kernelspec": {
            "display_name": "Python 3 (ipykernel)",
            "language": "python",
            "name": "python3"
        },
        "language_info": {
            "codemirror_mode": {
                "name": "ipython",
                "version": 3
            },
            "file_extension": ".py",
            "mimetype": "text/x-python",
            "name": "python",
            "nbconvert_exporter": "python",
            "pygments_lexer": "ipython3",
            "version": "3.10.6"
        }
    },
    "nbformat": 4,
    "nbformat_minor": 4
}
