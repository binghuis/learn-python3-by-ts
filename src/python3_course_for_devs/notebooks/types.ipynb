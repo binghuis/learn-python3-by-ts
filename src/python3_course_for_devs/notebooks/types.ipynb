{
 "cells": [
  {
   "cell_type": "markdown",
   "metadata": {},
   "source": [
    "```ts\n",
    "number // 数字\n",
    "string // 字符串\n",
    "boolean // 布尔\n",
    "symbol // 符号\n",
    "object // 对象\n",
    "  function // 函数\n",
    "  array // 数组\n",
    "  date // 时间\n",
    "  regexp // 正则\n",
    "null // 空对象\n",
    "undefined // 未定义\n",
    "```\n"
   ]
  },
  {
   "cell_type": "code",
   "execution_count": null,
   "metadata": {},
   "outputs": [],
   "source": [
    "\"\"\"\n",
    "基本型：\n",
    "Number（数字）、String（字符串）、Tuple（元组）\n",
    "\n",
    "索引类型：\n",
    "List（列表）、Dictionary（字典）、Set（集合）\n",
    "\"\"\""
   ]
  }
 ],
 "metadata": {
  "language_info": {
   "name": "python"
  },
  "orig_nbformat": 4
 },
 "nbformat": 4,
 "nbformat_minor": 2
}
