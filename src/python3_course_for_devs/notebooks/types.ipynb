{
    "cells": [
        {
            "cell_type": "markdown",
            "metadata": {},
            "source": [
                "# 数据类型\n",
                "\n",
                "标准数据类型：\n",
                "\n",
                "- 数字类型\n",
                "  - int 整型\n",
                "  - float 浮点型\n",
                "  - complex 复数类型\n",
                "- str 字符串\n",
                "- tuple 元组\n",
                "- list 列表\n",
                "- set 集合\n",
                "- dict 字典\n"
            ]
        },
        {
            "cell_type": "code",
            "execution_count": 7,
            "metadata": {},
            "outputs": [
                {
                    "data": {
                        "text/plain": [
                            "str"
                        ]
                    },
                    "execution_count": 7,
                    "metadata": {},
                    "output_type": "execute_result"
                }
            ],
            "source": [
                "# 可通过 type 方法查看数据类型\n",
                "type(\"nihao\")"
            ]
        },
        {
            "cell_type": "markdown",
            "metadata": {},
            "source": [
                "## 类型分类\n"
            ]
        },
        {
            "cell_type": "markdown",
            "metadata": {},
            "source": [
                "### 按`数据可变性`划分\n",
                "\n",
                "- 可变（mutable）：可变数据可以在原始对象所在的内存地址上进行修改，而不是创建一个新的对象\n",
                "  - 包括：列表、集合、字典\n",
                "- 不可变（immutable）：不可变数据则不可以在原始对象所在的内存地址上直接进行修改\n",
                "  - 包括：数字、字符串、元组\n"
            ]
        },
        {
            "cell_type": "code",
            "execution_count": 27,
            "metadata": {},
            "outputs": [
                {
                    "name": "stdout",
                    "output_type": "stream",
                    "text": [
                        "4393962544\n",
                        "4398874752\n"
                    ]
                }
            ],
            "source": [
                "# 字符串无法在原内存地址上直接进行修改，只能通过新建对象的方式进行替换\n",
                "\n",
                "# 两次打印的内存标识不一样\n",
                "s = \"this is a str\"\n",
                "print(id(s))\n",
                "\n",
                "s = \"this is a new str\"\n",
                "print(id(s))"
            ]
        },
        {
            "cell_type": "code",
            "execution_count": 29,
            "metadata": {},
            "outputs": [
                {
                    "name": "stdout",
                    "output_type": "stream",
                    "text": [
                        "4398595584\n",
                        "4398595584\n"
                    ]
                }
            ],
            "source": [
                "# 而列表则可以直接在原始对象上进行修改\n",
                "\n",
                "# 列表 l 新增加了一个元素，但是内存地址并没有改变\n",
                "l = [1, 2]\n",
                "print(id(l))\n",
                "\n",
                "l.append(3)\n",
                "print(id(l))"
            ]
        },
        {
            "cell_type": "markdown",
            "metadata": {},
            "source": [
                "tip: 字典的键必须为不可变数据类型\n"
            ]
        },
        {
            "cell_type": "markdown",
            "metadata": {},
            "source": [
                "### 按`序列类型`划分\n",
                "\n",
                "- 序列类型：元素在内存中连续存储。序列类型可通过索引访问每个元素，且元素可以为不同类型。\n",
                "\n",
                "  - 包括：字符串、元组、列表\n",
                "\n",
                "- 非序列类型：元素在内存中非连续存储。非序列类型的元素不可访问，因为它们没有像序列类型那样的索引机制。\n",
                "\n",
                "  - 包括：数字、集合、字典\n",
                "\n",
                "#### 序列类型的通用操作：（操作的具体解释写在类型分章节）\n",
                "\n",
                "假如有两个序列：x，长度为 8，y，长度为 2\n"
            ]
        },
        {
            "cell_type": "markdown",
            "metadata": {},
            "source": [
                "- 连接：使用 + 运算符来连接两个序列，生成一个新的序列。\n",
                "\n",
                "  `x + y` 获得一个长度为 10 的新序列\n"
            ]
        },
        {
            "cell_type": "markdown",
            "metadata": {},
            "source": [
                "- 重复：使用 \\* 运算符将序列重复指定次数，生成一个新的序列。\n",
                "\n",
                "  `x * 2` 获得一个由 x 重复两次获得的新序列\n"
            ]
        },
        {
            "cell_type": "markdown",
            "metadata": {},
            "source": [
                "- 长度获取：使用 `len` 函数获取序列的长度，即序列中元素的个数。\n",
                "\n",
                "  `len(x) == 8`\n"
            ]
        },
        {
            "cell_type": "markdown",
            "metadata": {},
            "source": [
                "- 索引访问：可使用索引来访问序列中的单个元素。\n",
                "\n",
                "  获取 x 第 3 个元素：`x[2]`\n"
            ]
        },
        {
            "cell_type": "markdown",
            "metadata": {},
            "source": [
                "- 元素位置获取：使用 `index` 方法获取序列中指定元素首次出现的位置。\n",
                "\n",
                "  如果找不到对应元素，`index` 返回错误 `ValueError`\n",
                "\n",
                "  x 中数字 4 的索引：`x.index(4)`\n"
            ]
        },
        {
            "cell_type": "markdown",
            "metadata": {},
            "source": [
                "- 切片操作：切片操作用于获取序列中的子序列，可以指定起始索引和结束索引（不包括结束索引本身）。使用方括号和冒号 [:] 来实现。\n",
                "\n",
                "  获取 x 从 2 到 6 的片段：`x[2:7]`\n",
                "  `[:]` 表示从开始到结尾\n"
            ]
        },
        {
            "cell_type": "markdown",
            "metadata": {},
            "source": [
                "- 成员运算：使用 `in` 和 `not in` 运算符来判断某个元素是否存在于序列中。\n",
                "\n",
                "  判断数字 9 是否在序列 x 中：`9 in x` 或 `9 not in x`\n"
            ]
        },
        {
            "cell_type": "markdown",
            "metadata": {},
            "source": [
                "- 迭代：序列可以使用 for 循环进行迭代，依次访问序列中的每个元素。\n"
            ]
        },
        {
            "cell_type": "markdown",
            "metadata": {},
            "source": [
                "- 最大值和最小值：使用 `max` 和 `min` 函数分别获取序列中的最大值和最小值。\n",
                "\n",
                "  x 中最小值：`min(x)`，x 中最大值：`max(x)`\n"
            ]
        },
        {
            "cell_type": "markdown",
            "metadata": {},
            "source": [
                "- 元素计数：使用 `count` 函数统计序列中指定元素的出现次数。\n",
                "\n",
                "  x 中数字 3 出现的次数：`x.count(3)`\n"
            ]
        }
    ],
    "metadata": {
        "kernelspec": {
            "display_name": "Python 3 (ipykernel)",
            "language": "python",
            "name": "python3"
        },
        "language_info": {
            "codemirror_mode": {
                "name": "ipython",
                "version": 3
            },
            "file_extension": ".py",
            "mimetype": "text/x-python",
            "name": "python",
            "nbconvert_exporter": "python",
            "pygments_lexer": "ipython3",
            "version": "3.10.6"
        }
    },
    "nbformat": 4,
    "nbformat_minor": 4
}
