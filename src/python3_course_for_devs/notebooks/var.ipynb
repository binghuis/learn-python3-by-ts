{
 "cells": [
  {
   "cell_type": "markdown",
   "metadata": {},
   "source": [
    "# 变量\n",
    "\n",
    "在 Python 中，变量是用于存储数据值的标识符。它可以是任何数据类型的容器。当你创建一个变量时，你实际上在内存中分配了一块空间来存储该变量的值。\n",
    "\n",
    "Python 中的变量具有动态类型，这意味着你可以在任何时候将一个变量指定为不同的数据类型。你可以使用赋值操作符（`=`）来创建变量并为其赋值。例如：\n"
   ]
  },
  {
   "cell_type": "code",
   "execution_count": 8,
   "metadata": {},
   "outputs": [
    {
     "data": {
      "text/plain": [
       "str"
      ]
     },
     "execution_count": 8,
     "metadata": {},
     "output_type": "execute_result"
    }
   ],
   "source": [
    "# 只需这样，我就定义了一个变量 x，值是 1\n",
    "x = 1\n",
    "\n",
    "# 给 x 重新赋值\n",
    "x = \"foo\"\n",
    "\n",
    "# 此时 x 变为字符串类型\n",
    "type(x)"
   ]
  },
  {
   "cell_type": "markdown",
   "metadata": {},
   "source": [
    "## 如何定义常量？\n",
    "\n",
    "其实 Python 中并没有常量的概念，但可以使用全大写命名法来约定一个变量为常量\n"
   ]
  },
  {
   "cell_type": "code",
   "execution_count": 9,
   "metadata": {},
   "outputs": [
    {
     "data": {
      "text/plain": [
       "'bar'"
      ]
     },
     "execution_count": 9,
     "metadata": {},
     "output_type": "execute_result"
    }
   ],
   "source": [
    "BAR = \"bar\"  # 这样，我们就会知道 BAR 应该被作为常量使用\n",
    "\n",
    "BAR = \"foo\"  # 但是 BAR 其实仍然可以被改变，因为本质上它还是一个变量\n",
    "\n",
    "# 那如何才能声明一个无法被修改的常量？\n",
    "\n",
    "# 可以通过枚举实现\n",
    "from enum import Enum\n",
    "\n",
    "\n",
    "class Constants(Enum):\n",
    "    BAR = \"bar\"\n",
    "\n",
    "\n",
    "# 这样我们就变相的获得了一个无法被修改的常量\n",
    "Constants.BAR.value"
   ]
  },
  {
   "cell_type": "code",
   "execution_count": 10,
   "metadata": {},
   "outputs": [],
   "source": [
    "# 多个变量赋值\n",
    "\n",
    "x, y, z = 1, 2, 3\n",
    "\n",
    "m = n = 5"
   ]
  },
  {
   "cell_type": "markdown",
   "metadata": {},
   "source": [
    "### 删除一个变量的引用\n"
   ]
  },
  {
   "cell_type": "code",
   "execution_count": 11,
   "metadata": {},
   "outputs": [],
   "source": [
    "# del 操作会删除变量的引用，当变量的引用计数变为 0，那么 python 的垃圾回收机制就会回收变量所占用的内存\n",
    "var = \"foo\"\n",
    "del var"
   ]
  },
  {
   "cell_type": "markdown",
   "metadata": {},
   "source": [
    "### 命名规范\n",
    "\n",
    "变量名开头使用字母或者下划线，其余部分由字母、数字或下划线组成，字母大小写敏感\n",
    "\n",
    "其实中文现在也可以用作变量名，但非常不建议这么做\n"
   ]
  },
  {
   "cell_type": "code",
   "execution_count": 12,
   "metadata": {},
   "outputs": [
    {
     "name": "stdout",
     "output_type": "stream",
     "text": [
      "['False', 'None', 'True', 'and', 'as', 'assert', 'async', 'await', 'break', 'class', 'continue', 'def', 'del', 'elif', 'else', 'except', 'finally', 'for', 'from', 'global', 'if', 'import', 'in', 'is', 'lambda', 'nonlocal', 'not', 'or', 'pass', 'raise', 'return', 'try', 'while', 'with', 'yield']\n"
     ]
    }
   ],
   "source": [
    "foo_bar_01 = \"foo bar\"  # 声明一个变量\n",
    "\n",
    "使用中文作为变量名 = \"不，不要这样\"  # 这样可以，但完全不建议\n",
    "\n",
    "import keyword\n",
    "\n",
    "# 还有就是下面这些保留字，不要用他们作为变量名\n",
    "print(keyword.kwlist)"
   ]
  }
 ],
 "metadata": {
  "kernelspec": {
   "display_name": "Python 3 (ipykernel)",
   "language": "python",
   "name": "python3"
  },
  "language_info": {
   "codemirror_mode": {
    "name": "ipython",
    "version": 3
   },
   "file_extension": ".py",
   "mimetype": "text/x-python",
   "name": "python",
   "nbconvert_exporter": "python",
   "pygments_lexer": "ipython3",
   "version": "3.10.6"
  }
 },
 "nbformat": 4,
 "nbformat_minor": 4
}
