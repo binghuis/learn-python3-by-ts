{
 "cells": [
  {
   "cell_type": "markdown",
   "metadata": {},
   "source": [
    "# 变量\n",
    "\n",
    "变量是用于引用数据的标识符。\n"
   ]
  },
  {
   "cell_type": "markdown",
   "metadata": {},
   "source": [
    "## 定义变量\n"
   ]
  },
  {
   "cell_type": "markdown",
   "metadata": {},
   "source": [
    "### 类型推导\n",
    "\n",
    "根据变量值自动推断。\n"
   ]
  },
  {
   "cell_type": "code",
   "execution_count": 8,
   "metadata": {},
   "outputs": [
    {
     "data": {
      "text/plain": [
       "int"
      ]
     },
     "execution_count": 8,
     "metadata": {},
     "output_type": "execute_result"
    }
   ],
   "source": [
    "# 定义变量 x，值是 1\n",
    "x = 1\n",
    "\n",
    "# 推导出 x 的类型为整型\n",
    "type(x)"
   ]
  },
  {
   "cell_type": "markdown",
   "metadata": {},
   "source": [
    "### 类型注解\n",
    "\n",
    "在变量名后面使用冒号（`:`）显式指定变量类型。\n"
   ]
  },
  {
   "cell_type": "code",
   "execution_count": 9,
   "metadata": {},
   "outputs": [],
   "source": [
    "# 定义变量 y，指定它为字符串类型，并设置初始值 'foo'\n",
    "y: str = \"foo\""
   ]
  },
  {
   "cell_type": "markdown",
   "metadata": {},
   "source": [
    "## 命名规范\n",
    "\n",
    "变量名开头使用字母或下划线，其余部分由字母、数字或下划线组成，字母大小写敏感。例如：\n"
   ]
  },
  {
   "cell_type": "code",
   "execution_count": 10,
   "metadata": {},
   "outputs": [],
   "source": [
    "foo_bar_01 = \"foo bar\"\n",
    "\n",
    "# 中文也可以用作变量名，但不要这么做\n",
    "使用中文作为变量名 = \"不，不要这样\""
   ]
  },
  {
   "cell_type": "markdown",
   "metadata": {},
   "source": [
    "### 关键字\n",
    "\n",
    "下面这些保留字不能作为变量名。\n"
   ]
  },
  {
   "cell_type": "code",
   "execution_count": 11,
   "metadata": {},
   "outputs": [
    {
     "name": "stdout",
     "output_type": "stream",
     "text": [
      "['False', 'None', 'True', 'and', 'as', 'assert', 'async', 'await', 'break', 'class', 'continue', 'def', 'del', 'elif', 'else', 'except', 'finally', 'for', 'from', 'global', 'if', 'import', 'in', 'is', 'lambda', 'nonlocal', 'not', 'or', 'pass', 'raise', 'return', 'try', 'while', 'with', 'yield']\n"
     ]
    }
   ],
   "source": [
    "import keyword\n",
    "\n",
    "print(keyword.kwlist)"
   ]
  },
  {
   "cell_type": "markdown",
   "metadata": {},
   "source": [
    "## 变量赋值\n",
    "\n",
    "由于 Python 是动态类型语言，变量的类型可以在运行时根据赋值改变。\n",
    "\n",
    "> 在类型注解中指定的类型只是一种提示，它并不限制变量的实际类型。因此，类型注解过的变量仍然可以在后续被修改为不同的类型。\n",
    "\n",
    "下面我通过 [元组解包](./tuple.ipynb) 的方式将变量 `x` 、 `y` 的值进行互换。\n"
   ]
  },
  {
   "cell_type": "code",
   "execution_count": 12,
   "metadata": {},
   "outputs": [
    {
     "name": "stdout",
     "output_type": "stream",
     "text": [
      "foo 1\n",
      "<class 'str'> <class 'int'>\n"
     ]
    }
   ],
   "source": [
    "# 此时 y 的类型也改变了\n",
    "x, y = y, x\n",
    "\n",
    "print(x, y)\n",
    "print(type(x), type(y))"
   ]
  },
  {
   "cell_type": "markdown",
   "metadata": {},
   "source": [
    "## 类型转换\n",
    "\n",
    "Python 还是强类型语言，即变量的类型转换必须显式进行。\n",
    "\n",
    "显式类型转换是通过内置的类型转换函数实现的。\n",
    "\n",
    "比如：`int`、`float`、`complex`、`bool`、`str`、`list`、`tuple` 和 `set`。\n",
    "\n",
    "这些方法的具体使用在 [标椎数据类型和特性]('./types.ipynb') 和各个数据类型独立章节。\n"
   ]
  },
  {
   "cell_type": "markdown",
   "metadata": {},
   "source": [
    "## 定义常量\n",
    "\n",
    "Python 中没有严格的常量概念，也没有内置的机制来定义不可更改的常量。Python 约定使用全大写字母的变量名来表示常量，并将其视为不应该被修改的值。这是一种约定，而不是强制规则，因此仍然可以通过重新赋值来修改这些变量的值。\n"
   ]
  },
  {
   "cell_type": "code",
   "execution_count": 13,
   "metadata": {},
   "outputs": [],
   "source": [
    "# PI 仅是约定的常量，实际上它仍是变量\n",
    "PI = 3.14\n",
    "\n",
    "PI = 3.1415"
   ]
  },
  {
   "cell_type": "markdown",
   "metadata": {},
   "source": [
    "### 通过工具声明常量\n",
    "\n",
    "`typing` 模块中的类型提示符 `Final` 用于声明一个变量为“最终”（final）变量，表明该变量的值在定义之后不应再被修改。\n",
    "\n",
    "当你尝试改变一个被声明为 `Final` 的变量的类型时，编辑器会进行错误提示，告诉你变量无法重新分配。\n",
    "\n",
    "> `Final` 依然不能真正阻止变量的修改，它依然只是一种约定和提示。但类型提示工具提供的静态类型检查足够帮助我们避免这些常见的问题。\n"
   ]
  },
  {
   "cell_type": "code",
   "execution_count": 14,
   "metadata": {},
   "outputs": [],
   "source": [
    "from typing import Final\n",
    "\n",
    "MAX_VALUE: Final[int] = 99\n",
    "\n",
    "MAX_VALUE = \"999\"  # Cannot assign to final name \"MAX_VALUE\" Mypy"
   ]
  }
 ],
 "metadata": {
  "kernelspec": {
   "display_name": "Python 3 (ipykernel)",
   "language": "python",
   "name": "python3"
  },
  "language_info": {
   "codemirror_mode": {
    "name": "ipython",
    "version": 3
   },
   "file_extension": ".py",
   "mimetype": "text/x-python",
   "name": "python",
   "nbconvert_exporter": "python",
   "pygments_lexer": "ipython3",
   "version": "3.12.0"
  }
 },
 "nbformat": 4,
 "nbformat_minor": 4
}
