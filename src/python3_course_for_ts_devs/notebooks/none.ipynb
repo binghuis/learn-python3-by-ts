{
 "cells": [
  {
   "cell_type": "code",
   "execution_count": null,
   "metadata": {},
   "outputs": [],
   "source": [
    "# 空字符串/空数组/null/undefined 啥的也不行，况且 python 里压根就没 null 和 undefined"
   ]
  }
 ],
 "metadata": {
  "language_info": {
   "name": "python"
  },
  "orig_nbformat": 4
 },
 "nbformat": 4,
 "nbformat_minor": 2
}
