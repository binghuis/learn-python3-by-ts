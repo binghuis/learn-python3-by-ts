{
 "cells": [
  {
   "cell_type": "markdown",
   "metadata": {},
   "source": [
    "> ”一个看上去是整数的东西，其实都是浮点数“ -- mdn web docs\n",
    "\n",
    "上面这句话出自 mdn 上的 Number 章节，指的是在 TS 中，我们平时写的数字尽管有的看起来是整型，其实也都是浮点型，\n",
    "因为在 TS 中，number 类型就是浮点型，如下：\n",
    "\n",
    "```ts\n",
    "// a 和 b 都是浮点型，尽管 a 看起来好像是个整型\n",
    "const a: number = 1;\n",
    "const b: number = 1.1;\n",
    "```\n",
    "\n",
    "不过，在 TS 中数值类型是有整型的，那就是在 ES 2020 新加入的类型 bigint\n",
    "\n",
    "```ts\n",
    "// 在整数后面加个 n，就是声明 bigint 了，c 就是整数类型\n",
    "const c = 1n;\n",
    "console.log(typeof c); // bigint\n",
    "```\n",
    "\n",
    "总结：\n",
    "\n",
    "- number：双精度 64 位浮点型\n",
    "- bigint：长整型\n"
   ]
  },
  {
   "cell_type": "code",
   "execution_count": 1,
   "metadata": {},
   "outputs": [
    {
     "name": "stdout",
     "output_type": "stream",
     "text": [
      "<class 'int'>\n",
      "<class 'float'>\n",
      "<class 'complex'>\n"
     ]
    }
   ],
   "source": [
    "\"\"\" \n",
    "python 中数值类型有三种：\n",
    "int：长整型\n",
    "float：浮点型\n",
    "complex：复数，用 a + bj，或者 complex(a, b) 表示，复数的实部 a 和虚部 b 都是浮点型\n",
    "\"\"\"\n",
    "\n",
    "# 整型\n",
    "a = 1  # 正\n",
    "a2 = -1  # 负\n",
    "a3 = 0xA0F  # 十六进制\n",
    "a4 = 0o37  # 八进制\n",
    "\n",
    "# 浮点型\n",
    "b = 1.1  # 小数\n",
    "b2 = 2.5e2  # 科学计数法表示的小数\n",
    "\n",
    "# 复数\n",
    "c = 1 + 2j\n",
    "\n",
    "print(type(a))\n",
    "print(type(b))\n",
    "print(type(c))"
   ]
  },
  {
   "cell_type": "code",
   "execution_count": 22,
   "metadata": {},
   "outputs": [
    {
     "data": {
      "text/plain": [
       "\"\\nint(x)\\n\\n这个方法实现的是将一个数字或字符串转换为整数\\n\\n1. 如果传参为空，则 return 0\\n注意：传参为空的意思是啥都不传，None 不行，空字符串/空列表更不行\\n\\n2. 如果 x 是一个数字，则返回 x.__int__()\\n这里展开：\\n在“万物皆对象”那章\\n\\n3. 如果 x 是浮点数，则向零方向取整\\n\\n4. 如果 x 不是一个数字，或者给定了 base 参数，则 x 必须是一个表示给定进制中整数字面值的字符串、字节串或字节数组实例。\\n该数字面值可以以 '+' 或 '-' 开头，并且可以被空格包围。进制默认为 10。有效的进制为 0 以及 2-36。进制为 0 表示将字符串中的进制作为整数字面值进行解析。\\n\""
      ]
     },
     "execution_count": 22,
     "metadata": {},
     "output_type": "execute_result"
    }
   ],
   "source": [
    "# 接下来看一下 python 是如何进行数值类型的转换的\n",
    "\n",
    "# 下面，把你的光标移动到 int() 方法上，你将会看到这个方法的介绍\n",
    "int()\n",
    "\n",
    "\"\"\"\n",
    "int 方法的定义是把字符串或数字转为整数\n",
    "\n",
    "但是这样：int(True) == 1 也是成立的\n",
    "\n",
    "这是因为在 python 中，布尔类型其实是数值类型的子类型，这个会在 boolean 章节展开介绍，这里先留个印象\n",
    "\n",
    "接着继续分析 int 方法的几种传参情况：\n",
    "\n",
    "int(x)\n",
    "\n",
    "1. 如果传参 x 为空，则 return 0\n",
    "注意：传参为空的意思是啥都不传，None 不行，空字符串/空列表更不行（别想着 TS了）\n",
    "\n",
    "2. 如果 x 是一个数字，则返回 x.__int__()\n",
    "再次注意：这里的 x 指的是实现了 __int__ 方法的数字对象\n",
    "\n",
    "int(1.1) 这么写当然没有问题\n",
    "但是下面这么写，也是可以的\n",
    "\n",
    "class MyIntClass:\n",
    "    def __init__(self, value):\n",
    "        self.value = value\n",
    "\n",
    "    # __init__ 必须返回 int 类型\n",
    "    def __int__(self):\n",
    "        return self.value\n",
    "\n",
    "my_num = MyIntClass(10)\n",
    "my_int = int(my_num)  # 调用 obj.__int__() 方法\n",
    "print(my_int)  # 输出 10\n",
    "\n",
    "我创建了一个实现了 __int__ 方法的类 MyIntClass，\n",
    "并通过类 MyIntClass 创建了一个对象 my_num，当把 my_num 作为参数传入 int 方法，\n",
    "int 默认会去找 __int__，如果找到了就执行并返回结果，但是 __int__ 返回的必须是 int 型，不然报错\n",
    "\n",
    "3. 如果 x 是浮点数，则向零方向取整\n",
    "这个好理解，保留整数，向 0 靠近\n",
    "\n",
    "4. 如果 x 不是一个数字，或者给定了 base 参数，则 x 必须是一个表示给定进制中整数字面值的字符串、字节串或字节数组实例。\n",
    "该数字面值可以以 '+' 或 '-' 开头，并且可以被空格包围。进制默认为 10。有效的进制为 0 以及 2-36。进制为 0 表示将字符串中的进制作为整数字面值进行解析。\n",
    "\"\"\""
   ]
  },
  {
   "cell_type": "code",
   "execution_count": 41,
   "metadata": {},
   "outputs": [
    {
     "data": {
      "text/plain": [
       "3"
      ]
     },
     "execution_count": 41,
     "metadata": {},
     "output_type": "execute_result"
    }
   ],
   "source": []
  }
 ],
 "metadata": {
  "kernelspec": {
   "display_name": "Python 3 (ipykernel)",
   "language": "python",
   "name": "python3"
  },
  "language_info": {
   "codemirror_mode": {
    "name": "ipython",
    "version": 3
   },
   "file_extension": ".py",
   "mimetype": "text/x-python",
   "name": "python",
   "nbconvert_exporter": "python",
   "pygments_lexer": "ipython3",
   "version": "3.10.6"
  }
 },
 "nbformat": 4,
 "nbformat_minor": 4
}
