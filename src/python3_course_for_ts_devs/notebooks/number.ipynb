{
 "cells": [
  {
   "cell_type": "markdown",
   "metadata": {},
   "source": [
    "TS 中数值类型有两种\n",
    "\n",
    "- number：双精度 64 位浮点型\n",
    "- bigint：长整型\n",
    "\n",
    "```ts\n",
    "// 看这里，a，b 虽说都是 number，但其实都是浮点型\n",
    "cosnt a: number = 1\n",
    "const b: number = 1.1\n",
    "\n",
    "// 声明一个 bigint 整型常量 c\n",
    "const c = 1n\n",
    "```\n"
   ]
  },
  {
   "cell_type": "code",
   "execution_count": 9,
   "metadata": {},
   "outputs": [
    {
     "name": "stdout",
     "output_type": "stream",
     "text": [
      "<class 'int'>\n",
      "<class 'float'>\n",
      "<class 'float'>\n",
      "<class 'complex'>\n"
     ]
    }
   ],
   "source": [
    "\"\"\" \n",
    "python 中数值类型有三种：\n",
    "int：长整型，包括正/负整型（支持 8 / 16 进制）\n",
    "float：浮点型\n",
    "complex：复数类型，由实数部分和虚数部分构成\n",
    "\"\"\"\n",
    "\n",
    "a = 1\n",
    "print(type(a))\n",
    "\n",
    "b = 1.1\n",
    "b2 = 2.5e2  # 250，用科学计数法表示的浮点型\n",
    "print(type(b))\n",
    "print(type(b2))\n",
    "\n",
    "c = 1 + 2j  # a + bj,或者 complex(a, b) 表示，复数的实部 a 和虚部 b 都是浮点型\n",
    "print(type(c))"
   ]
  },
  {
   "cell_type": "code",
   "execution_count": null,
   "metadata": {},
   "outputs": [],
   "source": []
  },
  {
   "cell_type": "code",
   "execution_count": null,
   "metadata": {},
   "outputs": [],
   "source": []
  }
 ],
 "metadata": {
  "kernelspec": {
   "display_name": ".venv",
   "language": "python",
   "name": "python3"
  },
  "language_info": {
   "codemirror_mode": {
    "name": "ipython",
    "version": 3
   },
   "file_extension": ".py",
   "mimetype": "text/x-python",
   "name": "python",
   "nbconvert_exporter": "python",
   "pygments_lexer": "ipython3",
   "version": "3.10.6"
  },
  "orig_nbformat": 4
 },
 "nbformat": 4,
 "nbformat_minor": 2
}
