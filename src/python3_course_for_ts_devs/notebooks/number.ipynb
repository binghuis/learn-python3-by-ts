{
 "cells": [
  {
   "cell_type": "markdown",
   "metadata": {},
   "source": [
    "> ”一个看上去是整数的东西，其实都是浮点数“ -- mdn web docs\n",
    "\n",
    "当然原文也写了例外情况（bigint 类型）\n",
    "\n",
    "TS 中有两种数值类型，其中 number 是我们平时用的最多的，它就是浮点型，无论什 么 时 候\n",
    "\n",
    "另外一个例外就是 bigint 类型，它确实是整型\n",
    "\n",
    "- number：双精度 64 位浮点型\n",
    "- bigint：长整型\n",
    "\n",
    "```ts\n",
    "// 看这里，a，b 虽说都是 number，但其实都是浮点型\n",
    "cosnt a: number = 1\n",
    "const b: number = 1.1\n",
    "\n",
    "// 声明一个 bigint 整型常量 c\n",
    "const c = 1n\n",
    "```\n"
   ]
  },
  {
   "cell_type": "code",
   "execution_count": 9,
   "metadata": {},
   "outputs": [
    {
     "name": "stdout",
     "output_type": "stream",
     "text": [
      "<class 'int'>\n",
      "<class 'float'>\n",
      "<class 'float'>\n",
      "<class 'complex'>\n"
     ]
    }
   ],
   "source": [
    "\"\"\" \n",
    "python 中数值类型有三种：\n",
    "int：长整型 - 不带小数点的正负整数，支持八进制/十六进制\n",
    "float：浮点型，小数都是浮点型，支持科学计数法表示\n",
    "complex：复数，用 a + bj，或者 complex(a, b) 表示，复数的实部 a 和虚部 b 都是浮点型\n",
    "\"\"\"\n",
    "\n",
    "# 整数\n",
    "a = 1\n",
    "print(type(a))\n",
    "\n",
    "# 浮点数\n",
    "b = 1.1\n",
    "b2 = 2.5e2  # 250，科学计数法表示\n",
    "print(type(b))\n",
    "print(type(b2))\n",
    "\n",
    "# 复数\n",
    "c = 1 + 2j  # 复数\n",
    "print(type(c))"
   ]
  },
  {
   "cell_type": "code",
   "execution_count": 2,
   "metadata": {},
   "outputs": [
    {
     "data": {
      "text/plain": [
       "0j"
      ]
     },
     "execution_count": 2,
     "metadata": {},
     "output_type": "execute_result"
    }
   ],
   "source": [
    "# 数字类型转换\n",
    "\n",
    "\"\"\"\n",
    "int(x) 将x转为整数\n",
    "\n",
    "float(x) 将x转为浮点数\n",
    "\n",
    "complex(x, y) 将 x 和 y 转为复数，实数部分为 x，虚数部分为 y，y 如果不传则虚数为 0\n",
    "\"\"\"\n",
    "\n",
    "# 那么问题来了，x 分别都是什么类型，是不是什么类型都能转\n",
    "int()\n",
    "float()\n",
    "complex()"
   ]
  },
  {
   "cell_type": "code",
   "execution_count": null,
   "metadata": {},
   "outputs": [],
   "source": []
  }
 ],
 "metadata": {
  "kernelspec": {
   "display_name": "Python 3 (ipykernel)",
   "language": "python",
   "name": "python3"
  },
  "language_info": {
   "codemirror_mode": {
    "name": "ipython",
    "version": 3
   },
   "file_extension": ".py",
   "mimetype": "text/x-python",
   "name": "python",
   "nbconvert_exporter": "python",
   "pygments_lexer": "ipython3",
   "version": "3.10.6"
  }
 },
 "nbformat": 4,
 "nbformat_minor": 4
}
