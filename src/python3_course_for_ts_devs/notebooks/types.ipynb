{
 "cells": [
  {
   "cell_type": "markdown",
   "metadata": {},
   "source": [
    "```ts\n",
    "undefined //\n",
    "null\n",
    "boolean\n",
    "number\n",
    "bigint\n",
    "string\n",
    "symbol\n",
    "\n",
    "array\n",
    "function\n",
    "\n",
    "```\n"
   ]
  },
  {
   "cell_type": "code",
   "execution_count": null,
   "metadata": {},
   "outputs": [],
   "source": []
  }
 ],
 "metadata": {
  "language_info": {
   "name": "python"
  },
  "orig_nbformat": 4
 },
 "nbformat": 4,
 "nbformat_minor": 2
}
