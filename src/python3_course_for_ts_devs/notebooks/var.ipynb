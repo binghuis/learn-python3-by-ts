{
 "cells": [
  {
   "cell_type": "markdown",
   "metadata": {},
   "source": [
    "在 TS 中我们一般会这样定义一个变量/常量\n",
    "\n",
    "```ts\n",
    "let a = \"这是一个变量\";\n",
    "\n",
    "const b = \"这是一个基本型常量\";\n",
    "\n",
    "const c = { d: \"引用型常量的属性\" }; // 这是一个引用型常量\n",
    "```\n",
    "\n",
    "1. 变量可以被更改\n",
    "2. 常量分两种情况：如果是基本型，不可修改。如果是引用型，在内存地址不变的情况下可以被修改\n",
    "\n",
    "```ts\n",
    "a = \"变量可以被更改\";\n",
    "\n",
    "b = \"string 是基本型常量，不可被修改\";\n",
    "// Uncaught TypeError: Assignment to constant variable.\n",
    "\n",
    "c = { d: \"引用型常量的属性\" }; // 尽管看起来一样，但实际上常量 c 被分配了一个新的内存地址\n",
    "// Uncaught TypeError: Assignment to constant variable.\n",
    "\n",
    "c.d = \"我只修改了引用型常量属性 d 的值，常量 c 内存地址没变，没有问题\";\n",
    "```\n"
   ]
  },
  {
   "cell_type": "code",
   "execution_count": 12,
   "metadata": {},
   "outputs": [
    {
     "name": "stdout",
     "output_type": "stream",
     "text": [
      "全大写命名法约定这是一个常量\n",
      "约定是约定，你看我遵不遵守就完了\n",
      "这次真的不能被修改了\n"
     ]
    }
   ],
   "source": [
    "# 但在 python 中变量是这样定义的\n",
    "\n",
    "a = \"这是一个变量\"  # 没错，就是这样，直接定义，不需要声明\n",
    "\n",
    "\"\"\"\n",
    "那么，你可能会问，变量定义不需要声明，那常量呢\n",
    "当然了，常量也不需要声明，因为 python 中没 有 常 量。牛逼\n",
    "\n",
    "尽管 python 中没有常量的概念，但是我们依然可以通过全大写命名法来约定一个变量是常量\n",
    "\"\"\"\n",
    "\n",
    "THIS_IS_A_CONST = \"全大写命名法约定这是一个常量\"\n",
    "print(THIS_IS_A_CONST)\n",
    "\n",
    "THIS_IS_A_CONST = \"约定是约定，你看我遵不遵守就完了\"\n",
    "print(THIS_IS_A_CONST)\n",
    "\n",
    "# 如果真的想创建一个无法被修改的常量，可以通过枚举类型实现\n",
    "\n",
    "from enum import Enum\n",
    "\n",
    "\n",
    "class Constants(Enum):\n",
    "    THIS_IS_A_CONST = \"这次真的不能被修改了\"\n",
    "\n",
    "\n",
    "print(Constants.THIS_IS_A_CONST.value)"
   ]
  },
  {
   "cell_type": "markdown",
   "metadata": {},
   "source": [
    "总结一下：\n",
    "\n",
    "python 中变量定义无需声明\n",
    "\n",
    "python 中没有常量的概念，如果想定义常量\n",
    "\n",
    "1. 使用全大写命名法约定，但是约定是约定，它依然可以被修改\n",
    "2. 借助枚举类型实现真正的不可变常量\n"
   ]
  }
 ],
 "metadata": {
  "kernelspec": {
   "display_name": "Python 3 (ipykernel)",
   "language": "python",
   "name": "python3"
  },
  "language_info": {
   "codemirror_mode": {
    "name": "ipython",
    "version": 3
   },
   "file_extension": ".py",
   "mimetype": "text/x-python",
   "name": "python",
   "nbconvert_exporter": "python",
   "pygments_lexer": "ipython3",
   "version": "3.10.6"
  }
 },
 "nbformat": 4,
 "nbformat_minor": 4
}
